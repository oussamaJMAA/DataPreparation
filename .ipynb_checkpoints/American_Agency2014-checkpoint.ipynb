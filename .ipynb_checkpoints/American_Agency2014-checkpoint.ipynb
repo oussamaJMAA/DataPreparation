{
 "cells": [
  {
   "cell_type": "markdown",
   "id": "4a9a94e6",
   "metadata": {},
   "source": [
    "# Data Preparation on real estate agency in the united States"
   ]
  },
  {
   "cell_type": "markdown",
   "id": "a09d5446",
   "metadata": {},
   "source": [
    "Gold Real Estate: Real estate agency in the United States, includes more than 4600 houses;\n",
    "In order to have a complete picture of the real estate and economic dynamics in the United States in an interval extending from May 2014 to July 2014 (3 months),"
   ]
  },
  {
   "cell_type": "markdown",
   "id": "9e8317e3",
   "metadata": {},
   "source": [
    "## Description of the features "
   ]
  },
  {
   "cell_type": "markdown",
   "id": "0163e7c1",
   "metadata": {},
   "source": [
    "01 : Date  jour/ mois/ année de la prise des données de la maison   \n",
    "\n",
    "\n",
    "\n",
    "\n",
    "\n",
    "02 : Prix Le prix de la maison \n",
    "\n",
    "\n",
    "\n",
    "03 : Bedrooms C’est le nombre des chambres\n",
    "\n",
    "\n",
    "\n",
    "\n",
    "04 : bathrooms C’est le nombre de salle de bain dans la maison\n",
    "\n",
    "\n",
    "\n",
    "\n",
    "05 : Sqft Living la surface de la salle commune\n",
    "\n",
    "\n",
    "\n",
    "06 : Sqft lot : c’est la surface de totale de la maison\n",
    "\n",
    "\n",
    "\n",
    "07 : floors Le nombre d’étage par maison \n",
    "\n",
    "\n",
    "\n",
    "08 : Waterfront vue sur mer\n",
    "•\t« 0 » si elle n’a pas en face   •\t« 1 » si elle est en face\n",
    "\n",
    "\n",
    "09 : View \n",
    "« 0 » : nulle\n",
    "« 1 » : médiocre \n",
    "« 2 » : passable\n",
    "« 3 » : Bonne\n",
    "« 4 » : Très bonne \n",
    "\n",
    "\n",
    "\n",
    "\n",
    "\n",
    "\n",
    "\n",
    "\n",
    "\n",
    "10 : condition : Représente l’état de la maison\n",
    "                  « 1 » : mauvaise \n",
    "                  « 2 » : assez mauvaise\n",
    "                  « 3 » :  passable \n",
    "                  « 4 » :  bonne \n",
    "                  « 5 » : très bonne\n",
    "\n",
    "\n",
    "\n",
    "\n",
    "\n",
    "\n",
    "11 :  Sqft-above C’est la surface du toit en pieds carré\n",
    "\n",
    "\n",
    "\n",
    "\n",
    "\n",
    "\n",
    "12:  Sqft-basement C’est la surface de la partie souterraine (Cave) en pieds carré\n",
    "\n",
    "\n",
    "\n",
    "\n",
    "13:  Sqft-basement C’est la surface de la partie souterraine (Cave) en pieds carré\n",
    "\n",
    "\n",
    "\n",
    "14:  Year built L ‘année de construction de la maison  \n",
    "\n",
    "\n",
    "15 :  Year renovated  L’année de rénovation de la maison \n",
    "\n",
    "\n",
    "\n",
    "16 : Street : C’est la rue dans laquelle se situe la maison \n",
    "\n",
    "\n",
    "\n",
    "\n",
    "\n",
    "17 : City : La ville ou se situe la maison   \n",
    "\n",
    "\n",
    "\n",
    "\n",
    "\n",
    "18 : State-zip : Cote postal de l’état ou se situe le domicile"
   ]
  },
  {
   "cell_type": "markdown",
   "id": "3987c35f",
   "metadata": {},
   "source": [
    "## Explaratory Data Analysis "
   ]
  },
  {
   "cell_type": "code",
   "execution_count": 1,
   "id": "19b96cb5",
   "metadata": {},
   "outputs": [],
   "source": [
    "#Importing the libraries\n",
    "import pandas as pd\n",
    "import numpy as np\n",
    "import matplotlib.pyplot as plt\n",
    "import seaborn as sns\n",
    "import warnings\n",
    "from pandas_profiling import ProfileReport\n",
    "def ignore_warn(*args, **kwargs):\n",
    "    pass\n",
    "warnings.warn = ignore_warn #ignore annoying warning (from sklearn and seaborn)"
   ]
  },
  {
   "cell_type": "code",
   "execution_count": 2,
   "id": "c1008357",
   "metadata": {},
   "outputs": [
    {
     "data": {
      "text/html": [
       "<div>\n",
       "<style scoped>\n",
       "    .dataframe tbody tr th:only-of-type {\n",
       "        vertical-align: middle;\n",
       "    }\n",
       "\n",
       "    .dataframe tbody tr th {\n",
       "        vertical-align: top;\n",
       "    }\n",
       "\n",
       "    .dataframe thead th {\n",
       "        text-align: right;\n",
       "    }\n",
       "</style>\n",
       "<table border=\"1\" class=\"dataframe\">\n",
       "  <thead>\n",
       "    <tr style=\"text-align: right;\">\n",
       "      <th></th>\n",
       "      <th>date</th>\n",
       "      <th>price</th>\n",
       "      <th>bedrooms</th>\n",
       "      <th>bathrooms</th>\n",
       "      <th>sqft_living</th>\n",
       "      <th>sqft_lot</th>\n",
       "      <th>floors</th>\n",
       "      <th>waterfront</th>\n",
       "      <th>view</th>\n",
       "      <th>condition</th>\n",
       "      <th>sqft_above</th>\n",
       "      <th>sqft_basement</th>\n",
       "      <th>yr_built</th>\n",
       "      <th>yr_renovated</th>\n",
       "      <th>street</th>\n",
       "      <th>city</th>\n",
       "      <th>statezip</th>\n",
       "      <th>country</th>\n",
       "    </tr>\n",
       "  </thead>\n",
       "  <tbody>\n",
       "    <tr>\n",
       "      <th>0</th>\n",
       "      <td>2014-05-02</td>\n",
       "      <td>313000.0</td>\n",
       "      <td>3</td>\n",
       "      <td>1.50</td>\n",
       "      <td>1340</td>\n",
       "      <td>7912</td>\n",
       "      <td>1.5</td>\n",
       "      <td>0</td>\n",
       "      <td>0</td>\n",
       "      <td>3</td>\n",
       "      <td>1340</td>\n",
       "      <td>0</td>\n",
       "      <td>1955</td>\n",
       "      <td>2005</td>\n",
       "      <td>18810 Densmore Ave N</td>\n",
       "      <td>Shoreline</td>\n",
       "      <td>WA 98133</td>\n",
       "      <td>USA</td>\n",
       "    </tr>\n",
       "    <tr>\n",
       "      <th>1</th>\n",
       "      <td>2014-05-02</td>\n",
       "      <td>2384000.0</td>\n",
       "      <td>5</td>\n",
       "      <td>2.50</td>\n",
       "      <td>3650</td>\n",
       "      <td>9050</td>\n",
       "      <td>2.0</td>\n",
       "      <td>0</td>\n",
       "      <td>4</td>\n",
       "      <td>5</td>\n",
       "      <td>3370</td>\n",
       "      <td>280</td>\n",
       "      <td>1921</td>\n",
       "      <td>0</td>\n",
       "      <td>709 W Blaine St</td>\n",
       "      <td>Seattle</td>\n",
       "      <td>WA 98119</td>\n",
       "      <td>USA</td>\n",
       "    </tr>\n",
       "    <tr>\n",
       "      <th>2</th>\n",
       "      <td>2014-05-02</td>\n",
       "      <td>342000.0</td>\n",
       "      <td>3</td>\n",
       "      <td>2.00</td>\n",
       "      <td>1930</td>\n",
       "      <td>11947</td>\n",
       "      <td>1.0</td>\n",
       "      <td>0</td>\n",
       "      <td>0</td>\n",
       "      <td>4</td>\n",
       "      <td>1930</td>\n",
       "      <td>0</td>\n",
       "      <td>1966</td>\n",
       "      <td>0</td>\n",
       "      <td>26206-26214 143rd Ave SE</td>\n",
       "      <td>Kent</td>\n",
       "      <td>WA 98042</td>\n",
       "      <td>USA</td>\n",
       "    </tr>\n",
       "    <tr>\n",
       "      <th>3</th>\n",
       "      <td>2014-05-02</td>\n",
       "      <td>420000.0</td>\n",
       "      <td>3</td>\n",
       "      <td>2.25</td>\n",
       "      <td>2000</td>\n",
       "      <td>8030</td>\n",
       "      <td>1.0</td>\n",
       "      <td>0</td>\n",
       "      <td>0</td>\n",
       "      <td>4</td>\n",
       "      <td>1000</td>\n",
       "      <td>1000</td>\n",
       "      <td>1963</td>\n",
       "      <td>0</td>\n",
       "      <td>857 170th Pl NE</td>\n",
       "      <td>Bellevue</td>\n",
       "      <td>WA 98008</td>\n",
       "      <td>USA</td>\n",
       "    </tr>\n",
       "    <tr>\n",
       "      <th>4</th>\n",
       "      <td>2014-05-02</td>\n",
       "      <td>550000.0</td>\n",
       "      <td>4</td>\n",
       "      <td>2.50</td>\n",
       "      <td>1940</td>\n",
       "      <td>10500</td>\n",
       "      <td>1.0</td>\n",
       "      <td>0</td>\n",
       "      <td>0</td>\n",
       "      <td>4</td>\n",
       "      <td>1140</td>\n",
       "      <td>800</td>\n",
       "      <td>1976</td>\n",
       "      <td>1992</td>\n",
       "      <td>9105 170th Ave NE</td>\n",
       "      <td>Redmond</td>\n",
       "      <td>WA 98052</td>\n",
       "      <td>USA</td>\n",
       "    </tr>\n",
       "  </tbody>\n",
       "</table>\n",
       "</div>"
      ],
      "text/plain": [
       "        date      price  bedrooms  bathrooms  sqft_living  sqft_lot  floors  \\\n",
       "0 2014-05-02   313000.0         3       1.50         1340      7912     1.5   \n",
       "1 2014-05-02  2384000.0         5       2.50         3650      9050     2.0   \n",
       "2 2014-05-02   342000.0         3       2.00         1930     11947     1.0   \n",
       "3 2014-05-02   420000.0         3       2.25         2000      8030     1.0   \n",
       "4 2014-05-02   550000.0         4       2.50         1940     10500     1.0   \n",
       "\n",
       "   waterfront  view  condition  sqft_above  sqft_basement  yr_built  \\\n",
       "0           0     0          3        1340              0      1955   \n",
       "1           0     4          5        3370            280      1921   \n",
       "2           0     0          4        1930              0      1966   \n",
       "3           0     0          4        1000           1000      1963   \n",
       "4           0     0          4        1140            800      1976   \n",
       "\n",
       "   yr_renovated                    street       city  statezip country  \n",
       "0          2005      18810 Densmore Ave N  Shoreline  WA 98133     USA  \n",
       "1             0           709 W Blaine St    Seattle  WA 98119     USA  \n",
       "2             0  26206-26214 143rd Ave SE       Kent  WA 98042     USA  \n",
       "3             0           857 170th Pl NE   Bellevue  WA 98008     USA  \n",
       "4          1992         9105 170th Ave NE    Redmond  WA 98052     USA  "
      ]
     },
     "execution_count": 2,
     "metadata": {},
     "output_type": "execute_result"
    }
   ],
   "source": [
    "#Importing the Dataset\n",
    "dataset = pd.read_excel(\"AgencyDataset.xlsx\")\n",
    "dataset.head()"
   ]
  },
  {
   "cell_type": "code",
   "execution_count": 87,
   "id": "af2c8b6d",
   "metadata": {},
   "outputs": [
    {
     "name": "stdout",
     "output_type": "stream",
     "text": [
      "<class 'pandas.core.frame.DataFrame'>\n",
      "RangeIndex: 4600 entries, 0 to 4599\n",
      "Data columns (total 18 columns):\n",
      " #   Column         Non-Null Count  Dtype         \n",
      "---  ------         --------------  -----         \n",
      " 0   date           4600 non-null   datetime64[ns]\n",
      " 1   price          4600 non-null   float64       \n",
      " 2   bedrooms       4600 non-null   int64         \n",
      " 3   bathrooms      4600 non-null   float64       \n",
      " 4   sqft_living    4600 non-null   int64         \n",
      " 5   sqft_lot       4600 non-null   int64         \n",
      " 6   floors         4600 non-null   float64       \n",
      " 7   waterfront     4600 non-null   int64         \n",
      " 8   view           4600 non-null   int64         \n",
      " 9   condition      4600 non-null   int64         \n",
      " 10  sqft_above     4600 non-null   int64         \n",
      " 11  sqft_basement  4600 non-null   int64         \n",
      " 12  yr_built       4600 non-null   int64         \n",
      " 13  yr_renovated   4600 non-null   int64         \n",
      " 14  street         4600 non-null   object        \n",
      " 15  city           4600 non-null   object        \n",
      " 16  statezip       4600 non-null   object        \n",
      " 17  country        4600 non-null   object        \n",
      "dtypes: datetime64[ns](1), float64(3), int64(10), object(4)\n",
      "memory usage: 647.0+ KB\n"
     ]
    }
   ],
   "source": [
    "#Get column types\n",
    "dataset.info()"
   ]
  },
  {
   "cell_type": "code",
   "execution_count": 50,
   "id": "d7eaffe3",
   "metadata": {},
   "outputs": [
    {
     "data": {
      "text/html": [
       "<div>\n",
       "<style scoped>\n",
       "    .dataframe tbody tr th:only-of-type {\n",
       "        vertical-align: middle;\n",
       "    }\n",
       "\n",
       "    .dataframe tbody tr th {\n",
       "        vertical-align: top;\n",
       "    }\n",
       "\n",
       "    .dataframe thead th {\n",
       "        text-align: right;\n",
       "    }\n",
       "</style>\n",
       "<table border=\"1\" class=\"dataframe\">\n",
       "  <thead>\n",
       "    <tr style=\"text-align: right;\">\n",
       "      <th></th>\n",
       "      <th>price</th>\n",
       "      <th>bedrooms</th>\n",
       "      <th>bathrooms</th>\n",
       "      <th>sqft_living</th>\n",
       "      <th>sqft_lot</th>\n",
       "      <th>floors</th>\n",
       "      <th>waterfront</th>\n",
       "      <th>view</th>\n",
       "      <th>condition</th>\n",
       "      <th>sqft_above</th>\n",
       "      <th>sqft_basement</th>\n",
       "      <th>yr_built</th>\n",
       "      <th>yr_renovated</th>\n",
       "    </tr>\n",
       "  </thead>\n",
       "  <tbody>\n",
       "    <tr>\n",
       "      <th>count</th>\n",
       "      <td>4.600000e+03</td>\n",
       "      <td>4600.000000</td>\n",
       "      <td>4600.000000</td>\n",
       "      <td>4600.000000</td>\n",
       "      <td>4.600000e+03</td>\n",
       "      <td>4600.000000</td>\n",
       "      <td>4600.000000</td>\n",
       "      <td>4600.000000</td>\n",
       "      <td>4600.000000</td>\n",
       "      <td>4600.000000</td>\n",
       "      <td>4600.000000</td>\n",
       "      <td>4600.000000</td>\n",
       "      <td>4600.000000</td>\n",
       "    </tr>\n",
       "    <tr>\n",
       "      <th>mean</th>\n",
       "      <td>5.519630e+05</td>\n",
       "      <td>3.400870</td>\n",
       "      <td>2.160815</td>\n",
       "      <td>2139.346957</td>\n",
       "      <td>1.485252e+04</td>\n",
       "      <td>1.512065</td>\n",
       "      <td>0.007174</td>\n",
       "      <td>0.240652</td>\n",
       "      <td>3.451739</td>\n",
       "      <td>1827.265435</td>\n",
       "      <td>312.081522</td>\n",
       "      <td>1970.786304</td>\n",
       "      <td>808.608261</td>\n",
       "    </tr>\n",
       "    <tr>\n",
       "      <th>std</th>\n",
       "      <td>5.638347e+05</td>\n",
       "      <td>0.908848</td>\n",
       "      <td>0.783781</td>\n",
       "      <td>963.206916</td>\n",
       "      <td>3.588444e+04</td>\n",
       "      <td>0.538288</td>\n",
       "      <td>0.084404</td>\n",
       "      <td>0.778405</td>\n",
       "      <td>0.677230</td>\n",
       "      <td>862.168977</td>\n",
       "      <td>464.137228</td>\n",
       "      <td>29.731848</td>\n",
       "      <td>979.414536</td>\n",
       "    </tr>\n",
       "    <tr>\n",
       "      <th>min</th>\n",
       "      <td>0.000000e+00</td>\n",
       "      <td>0.000000</td>\n",
       "      <td>0.000000</td>\n",
       "      <td>370.000000</td>\n",
       "      <td>6.380000e+02</td>\n",
       "      <td>1.000000</td>\n",
       "      <td>0.000000</td>\n",
       "      <td>0.000000</td>\n",
       "      <td>1.000000</td>\n",
       "      <td>370.000000</td>\n",
       "      <td>0.000000</td>\n",
       "      <td>1900.000000</td>\n",
       "      <td>0.000000</td>\n",
       "    </tr>\n",
       "    <tr>\n",
       "      <th>25%</th>\n",
       "      <td>3.228750e+05</td>\n",
       "      <td>3.000000</td>\n",
       "      <td>1.750000</td>\n",
       "      <td>1460.000000</td>\n",
       "      <td>5.000750e+03</td>\n",
       "      <td>1.000000</td>\n",
       "      <td>0.000000</td>\n",
       "      <td>0.000000</td>\n",
       "      <td>3.000000</td>\n",
       "      <td>1190.000000</td>\n",
       "      <td>0.000000</td>\n",
       "      <td>1951.000000</td>\n",
       "      <td>0.000000</td>\n",
       "    </tr>\n",
       "    <tr>\n",
       "      <th>50%</th>\n",
       "      <td>4.609435e+05</td>\n",
       "      <td>3.000000</td>\n",
       "      <td>2.250000</td>\n",
       "      <td>1980.000000</td>\n",
       "      <td>7.683000e+03</td>\n",
       "      <td>1.500000</td>\n",
       "      <td>0.000000</td>\n",
       "      <td>0.000000</td>\n",
       "      <td>3.000000</td>\n",
       "      <td>1590.000000</td>\n",
       "      <td>0.000000</td>\n",
       "      <td>1976.000000</td>\n",
       "      <td>0.000000</td>\n",
       "    </tr>\n",
       "    <tr>\n",
       "      <th>75%</th>\n",
       "      <td>6.549625e+05</td>\n",
       "      <td>4.000000</td>\n",
       "      <td>2.500000</td>\n",
       "      <td>2620.000000</td>\n",
       "      <td>1.100125e+04</td>\n",
       "      <td>2.000000</td>\n",
       "      <td>0.000000</td>\n",
       "      <td>0.000000</td>\n",
       "      <td>4.000000</td>\n",
       "      <td>2300.000000</td>\n",
       "      <td>610.000000</td>\n",
       "      <td>1997.000000</td>\n",
       "      <td>1999.000000</td>\n",
       "    </tr>\n",
       "    <tr>\n",
       "      <th>max</th>\n",
       "      <td>2.659000e+07</td>\n",
       "      <td>9.000000</td>\n",
       "      <td>8.000000</td>\n",
       "      <td>13540.000000</td>\n",
       "      <td>1.074218e+06</td>\n",
       "      <td>3.500000</td>\n",
       "      <td>1.000000</td>\n",
       "      <td>4.000000</td>\n",
       "      <td>5.000000</td>\n",
       "      <td>9410.000000</td>\n",
       "      <td>4820.000000</td>\n",
       "      <td>2014.000000</td>\n",
       "      <td>2014.000000</td>\n",
       "    </tr>\n",
       "  </tbody>\n",
       "</table>\n",
       "</div>"
      ],
      "text/plain": [
       "              price     bedrooms    bathrooms   sqft_living      sqft_lot  \\\n",
       "count  4.600000e+03  4600.000000  4600.000000   4600.000000  4.600000e+03   \n",
       "mean   5.519630e+05     3.400870     2.160815   2139.346957  1.485252e+04   \n",
       "std    5.638347e+05     0.908848     0.783781    963.206916  3.588444e+04   \n",
       "min    0.000000e+00     0.000000     0.000000    370.000000  6.380000e+02   \n",
       "25%    3.228750e+05     3.000000     1.750000   1460.000000  5.000750e+03   \n",
       "50%    4.609435e+05     3.000000     2.250000   1980.000000  7.683000e+03   \n",
       "75%    6.549625e+05     4.000000     2.500000   2620.000000  1.100125e+04   \n",
       "max    2.659000e+07     9.000000     8.000000  13540.000000  1.074218e+06   \n",
       "\n",
       "            floors   waterfront         view    condition   sqft_above  \\\n",
       "count  4600.000000  4600.000000  4600.000000  4600.000000  4600.000000   \n",
       "mean      1.512065     0.007174     0.240652     3.451739  1827.265435   \n",
       "std       0.538288     0.084404     0.778405     0.677230   862.168977   \n",
       "min       1.000000     0.000000     0.000000     1.000000   370.000000   \n",
       "25%       1.000000     0.000000     0.000000     3.000000  1190.000000   \n",
       "50%       1.500000     0.000000     0.000000     3.000000  1590.000000   \n",
       "75%       2.000000     0.000000     0.000000     4.000000  2300.000000   \n",
       "max       3.500000     1.000000     4.000000     5.000000  9410.000000   \n",
       "\n",
       "       sqft_basement     yr_built  yr_renovated  \n",
       "count    4600.000000  4600.000000   4600.000000  \n",
       "mean      312.081522  1970.786304    808.608261  \n",
       "std       464.137228    29.731848    979.414536  \n",
       "min         0.000000  1900.000000      0.000000  \n",
       "25%         0.000000  1951.000000      0.000000  \n",
       "50%         0.000000  1976.000000      0.000000  \n",
       "75%       610.000000  1997.000000   1999.000000  \n",
       "max      4820.000000  2014.000000   2014.000000  "
      ]
     },
     "execution_count": 50,
     "metadata": {},
     "output_type": "execute_result"
    }
   ],
   "source": [
    "#Statistical summary\n",
    "dataset.describe()"
   ]
  },
  {
   "cell_type": "code",
   "execution_count": 51,
   "id": "38b52a1c",
   "metadata": {},
   "outputs": [
    {
     "data": {
      "text/plain": [
       "date             0\n",
       "price            0\n",
       "bedrooms         0\n",
       "bathrooms        0\n",
       "sqft_living      0\n",
       "sqft_lot         0\n",
       "floors           0\n",
       "waterfront       0\n",
       "view             0\n",
       "condition        0\n",
       "sqft_above       0\n",
       "sqft_basement    0\n",
       "yr_built         0\n",
       "yr_renovated     0\n",
       "street           0\n",
       "city             0\n",
       "statezip         0\n",
       "country          0\n",
       "dtype: int64"
      ]
     },
     "execution_count": 51,
     "metadata": {},
     "output_type": "execute_result"
    }
   ],
   "source": [
    "#Check for null values\n",
    "dataset.isnull().sum()"
   ]
  },
  {
   "cell_type": "code",
   "execution_count": 55,
   "id": "5263a332",
   "metadata": {
    "scrolled": true
   },
   "outputs": [
    {
     "data": {
      "text/plain": [
       "price            3.272154e+11\n",
       "bedrooms         8.277038e-01\n",
       "bathrooms        6.220088e-01\n",
       "sqft_living      9.392346e+05\n",
       "sqft_lot         1.330093e+09\n",
       "floors           2.552260e-01\n",
       "waterfront       7.174525e-03\n",
       "view             6.085348e-01\n",
       "condition        4.666973e-01\n",
       "sqft_basement    2.197477e+05\n",
       "statezip         2.850063e+03\n",
       "renov_age        6.455124e+02\n",
       "dtype: float64"
      ]
     },
     "execution_count": 55,
     "metadata": {},
     "output_type": "execute_result"
    }
   ],
   "source": [
    "#Check variables variance\n",
    "dataset.var()"
   ]
  },
  {
   "cell_type": "markdown",
   "id": "ae1b7a11",
   "metadata": {},
   "source": [
    "# Data Visualization \n"
   ]
  },
  {
   "cell_type": "markdown",
   "id": "dab764e9",
   "metadata": {},
   "source": [
    "### Visualizing the numerical features "
   ]
  },
  {
   "cell_type": "code",
   "execution_count": 37,
   "id": "0493e177",
   "metadata": {},
   "outputs": [],
   "source": [
    "numerical_features = dataset.select_dtypes(include=['float64','int64'])\n",
    "discrete_features = dataset[['view','condition','waterfront']]\n",
    "categorical_features = dataset.select_dtypes(include=['object'])"
   ]
  },
  {
   "cell_type": "code",
   "execution_count": 4,
   "id": "235ad8ac",
   "metadata": {
    "scrolled": false
   },
   "outputs": [
    {
     "data": {
      "image/png": "[encoded data removed]",
      "text/plain": [
       "<Figure size 2160x1440 with 16 Axes>"
      ]
     },
     "metadata": {
      "needs_background": "light"
     },
     "output_type": "display_data"
    }
   ],
   "source": [
    "#plot the frequency  and the distribution of the numerical features\n",
    "numerical_features.hist(figsize=(30,20))\n",
    "plt.show()"
   ]
  },
  {
   "cell_type": "code",
   "execution_count": 8,
   "id": "9a4a2efe",
   "metadata": {
    "scrolled": false
   },
   "outputs": [
    {
     "data": {
      "image/png": "[encoded data removed]",
      "text/plain": [
       "<Figure size 432x288 with 1 Axes>"
      ]
     },
     "metadata": {
      "needs_background": "light"
     },
     "output_type": "display_data"
    },
    {
     "data": {
      "image/png": "[encoded data removed]",
      "text/plain": [
       "<Figure size 432x288 with 1 Axes>"
      ]
     },
     "metadata": {
      "needs_background": "light"
     },
     "output_type": "display_data"
    },
    {
     "data": {
      "image/png": "[encoded data removed]",
      "text/plain": [
       "<Figure size 432x288 with 1 Axes>"
      ]
     },
     "metadata": {
      "needs_background": "light"
     },
     "output_type": "display_data"
    },
    {
     "data": {
      "image/png": "[encoded data removed]",
      "text/plain": [
       "<Figure size 432x288 with 1 Axes>"
      ]
     },
     "metadata": {
      "needs_background": "light"
     },
     "output_type": "display_data"
    },
    {
     "data": {
      "image/png": "[encoded data removed]",
      "text/plain": [
       "<Figure size 432x288 with 1 Axes>"
      ]
     },
     "metadata": {
      "needs_background": "light"
     },
     "output_type": "display_data"
    },
    {
     "data": {
      "image/png": "[encoded data removed]",
      "text/plain": [
       "<Figure size 432x288 with 1 Axes>"
      ]
     },
     "metadata": {
      "needs_background": "light"
     },
     "output_type": "display_data"
    },
    {
     "data": {
      "image/png": "[encoded data removed]",
      "text/plain": [
       "<Figure size 432x288 with 1 Axes>"
      ]
     },
     "metadata": {
      "needs_background": "light"
     },
     "output_type": "display_data"
    },
    {
     "data": {
      "image/png": "[encoded data removed]",
      "text/plain": [
       "<Figure size 432x288 with 1 Axes>"
      ]
     },
     "metadata": {
      "needs_background": "light"
     },
     "output_type": "display_data"
    },
    {
     "data": {
      "image/png": "[encoded data removed]",
      "text/plain": [
       "<Figure size 432x288 with 1 Axes>"
      ]
     },
     "metadata": {
      "needs_background": "light"
     },
     "output_type": "display_data"
    },
    {
     "data": {
      "image/png": "[encoded data removed]",
      "text/plain": [
       "<Figure size 432x288 with 1 Axes>"
      ]
     },
     "metadata": {
      "needs_background": "light"
     },
     "output_type": "display_data"
    },
    {
     "data": {
      "image/png": "[encoded data removed]",
      "text/plain": [
       "<Figure size 432x288 with 1 Axes>"
      ]
     },
     "metadata": {
      "needs_background": "light"
     },
     "output_type": "display_data"
    },
    {
     "data": {
      "image/png": "[encoded data removed]",
      "text/plain": [
       "<Figure size 432x288 with 1 Axes>"
      ]
     },
     "metadata": {
      "needs_background": "light"
     },
     "output_type": "display_data"
    }
   ],
   "source": [
    "#Relationship between the independant features and the price\n",
    "for feature in numerical_features[numerical_features.columns.drop('price')]:\n",
    "    sns.scatterplot(y='price',x=feature,data=dataset)\n",
    "    plt.title(f\"price vs {feature}\")\n",
    "    plt.show()\n"
   ]
  },
  {
   "cell_type": "code",
   "execution_count": 11,
   "id": "961b93c3",
   "metadata": {},
   "outputs": [
    {
     "data": {
      "text/plain": [
       "<AxesSubplot:>"
      ]
     },
     "execution_count": 11,
     "metadata": {},
     "output_type": "execute_result"
    },
    {
     "data": {
      "image/png": "[encoded data removed]",
      "text/plain": [
       "<Figure size 720x576 with 2 Axes>"
      ]
     },
     "metadata": {
      "needs_background": "light"
     },
     "output_type": "display_data"
    }
   ],
   "source": [
    "#Detecting correlations \n",
    "fig, ax = plt.subplots(figsize=(10,8))        \n",
    "sns.heatmap(dataset.corr(), annot=True, linewidths=.5, ax=ax)"
   ]
  },
  {
   "cell_type": "code",
   "execution_count": 39,
   "id": "712cf1cd",
   "metadata": {
    "scrolled": true
   },
   "outputs": [
    {
     "data": {
      "text/plain": [
       "<AxesSubplot:>"
      ]
     },
     "execution_count": 39,
     "metadata": {},
     "output_type": "execute_result"
    },
    {
     "data": {
      "image/png": "[encoded data removed]",
      "text/plain": [
       "<Figure size 432x288 with 1 Axes>"
      ]
     },
     "metadata": {
      "needs_background": "light"
     },
     "output_type": "display_data"
    }
   ],
   "source": [
    "#Detecting the most correlated variables with the price\n",
    "dataset.corr()['price'].sort_values(ascending=False).drop('price').plot(kind='bar')"
   ]
  },
  {
   "cell_type": "code",
   "execution_count": 5,
   "id": "713d2bd6",
   "metadata": {},
   "outputs": [
    {
     "name": "stdout",
     "output_type": "stream",
     "text": [
      "skewness of price is 24.790932561757053\n"
     ]
    },
    {
     "data": {
      "image/png": "[encoded data removed]",
      "text/plain": [
       "<Figure size 432x288 with 1 Axes>"
      ]
     },
     "metadata": {
      "needs_background": "light"
     },
     "output_type": "display_data"
    },
    {
     "name": "stdout",
     "output_type": "stream",
     "text": [
      "skewness of bedrooms is 0.4564466330191457\n"
     ]
    },
    {
     "data": {
      "image/png": "[encoded data removed]",
      "text/plain": [
       "<Figure size 432x288 with 1 Axes>"
      ]
     },
     "metadata": {
      "needs_background": "light"
     },
     "output_type": "display_data"
    },
    {
     "name": "stdout",
     "output_type": "stream",
     "text": [
      "skewness of bathrooms is 0.6160327233508812\n"
     ]
    },
    {
     "data": {
      "image/png": "[encoded data removed]",
      "text/plain": [
       "<Figure size 432x288 with 1 Axes>"
      ]
     },
     "metadata": {
      "needs_background": "light"
     },
     "output_type": "display_data"
    },
    {
     "name": "stdout",
     "output_type": "stream",
     "text": [
      "skewness of sqft_living is 1.723513270622118\n"
     ]
    },
    {
     "data": {
      "image/png": "[encoded data removed]",
      "text/plain": [
       "<Figure size 432x288 with 1 Axes>"
      ]
     },
     "metadata": {
      "needs_background": "light"
     },
     "output_type": "display_data"
    },
    {
     "name": "stdout",
     "output_type": "stream",
     "text": [
      "skewness of sqft_lot is 11.307138748782643\n"
     ]
    },
    {
     "data": {
      "image/png": "[encoded data removed]",
      "text/plain": [
       "<Figure size 432x288 with 1 Axes>"
      ]
     },
     "metadata": {
      "needs_background": "light"
     },
     "output_type": "display_data"
    },
    {
     "name": "stdout",
     "output_type": "stream",
     "text": [
      "skewness of floors is 0.5514406463488161\n"
     ]
    },
    {
     "data": {
      "image/png": "[encoded data removed]",
      "text/plain": [
       "<Figure size 432x288 with 1 Axes>"
      ]
     },
     "metadata": {
      "needs_background": "light"
     },
     "output_type": "display_data"
    },
    {
     "name": "stdout",
     "output_type": "stream",
     "text": [
      "skewness of sqft_above is 1.4942107479829443\n"
     ]
    },
    {
     "data": {
      "image/png": "[encoded data removed]",
      "text/plain": [
       "<Figure size 432x288 with 1 Axes>"
      ]
     },
     "metadata": {
      "needs_background": "light"
     },
     "output_type": "display_data"
    },
    {
     "name": "stdout",
     "output_type": "stream",
     "text": [
      "skewness of sqft_basement is 1.6427321922167097\n"
     ]
    },
    {
     "data": {
      "image/png": "[encoded data removed]",
      "text/plain": [
       "<Figure size 432x288 with 1 Axes>"
      ]
     },
     "metadata": {
      "needs_background": "light"
     },
     "output_type": "display_data"
    }
   ],
   "source": [
    "#Visualizing the outliers\n",
    "for feature in numerical_features[numerical_features.columns.drop(['view','condition','waterfront','yr_renovated','yr_built'])]:\n",
    "    dataset.boxplot(column=feature)\n",
    "    print(f\"skewness of {feature} is {dataset[feature].skew()}\")\n",
    "    plt.ylabel(feature)\n",
    "    plt.title(feature)\n",
    "    plt.show()"
   ]
  },
  {
   "cell_type": "code",
   "execution_count": 47,
   "id": "bf3b2d42",
   "metadata": {},
   "outputs": [
    {
     "data": {
      "image/png": "[encoded data removed]",
      "text/plain": [
       "<Figure size 432x288 with 1 Axes>"
      ]
     },
     "metadata": {
      "needs_background": "light"
     },
     "output_type": "display_data"
    },
    {
     "data": {
      "image/png": "[encoded data removed]",
      "text/plain": [
       "<Figure size 432x288 with 1 Axes>"
      ]
     },
     "metadata": {
      "needs_background": "light"
     },
     "output_type": "display_data"
    },
    {
     "data": {
      "image/png": "[encoded data removed]",
      "text/plain": [
       "<Figure size 432x288 with 1 Axes>"
      ]
     },
     "metadata": {
      "needs_background": "light"
     },
     "output_type": "display_data"
    }
   ],
   "source": [
    "#Relationship between the price and the discrete features\n",
    "for feature in discrete_features:\n",
    "    data=dataset.copy()\n",
    "    data.groupby(feature)['price'].median().plot.bar(color=\"orange\")\n",
    "    plt.xlabel(feature)\n",
    "    plt.ylabel('price')\n",
    "    plt.title(feature)\n",
    "    plt.show()"
   ]
  },
  {
   "cell_type": "code",
   "execution_count": 58,
   "id": "eb438749",
   "metadata": {},
   "outputs": [
    {
     "data": {
      "text/plain": [
       "<AxesSubplot:xlabel='waterfront', ylabel='count'>"
      ]
     },
     "execution_count": 58,
     "metadata": {},
     "output_type": "execute_result"
    },
    {
     "data": {
      "image/png": "[encoded data removed]",
      "text/plain": [
       "<Figure size 432x288 with 1 Axes>"
      ]
     },
     "metadata": {
      "needs_background": "light"
     },
     "output_type": "display_data"
    }
   ],
   "source": [
    "sns.countplot(dataset['waterfront'])"
   ]
  },
  {
   "cell_type": "code",
   "execution_count": 57,
   "id": "46e56245",
   "metadata": {},
   "outputs": [
    {
     "data": {
      "text/plain": [
       "<AxesSubplot:xlabel='view', ylabel='count'>"
      ]
     },
     "execution_count": 57,
     "metadata": {},
     "output_type": "execute_result"
    },
    {
     "data": {
      "image/png": "[encoded data removed]",
      "text/plain": [
       "<Figure size 432x288 with 1 Axes>"
      ]
     },
     "metadata": {
      "needs_background": "light"
     },
     "output_type": "display_data"
    }
   ],
   "source": [
    "sns.countplot(dataset['view'])"
   ]
  },
  {
   "cell_type": "code",
   "execution_count": 7,
   "id": "e4d12b74",
   "metadata": {},
   "outputs": [
    {
     "data": {
      "text/plain": [
       "<AxesSubplot:xlabel='floors', ylabel='count'>"
      ]
     },
     "execution_count": 7,
     "metadata": {},
     "output_type": "execute_result"
    },
    {
     "data": {
      "image/png": "[encoded data removed]",
      "text/plain": [
       "<Figure size 432x288 with 1 Axes>"
      ]
     },
     "metadata": {
      "needs_background": "light"
     },
     "output_type": "display_data"
    }
   ],
   "source": [
    "sns.countplot(x='floors',data=dataset)"
   ]
  },
  {
   "cell_type": "markdown",
   "id": "90ab63ea",
   "metadata": {},
   "source": [
    "### Visualizing the categorical features "
   ]
  },
  {
   "cell_type": "code",
   "execution_count": 26,
   "id": "e4eafa32",
   "metadata": {},
   "outputs": [
    {
     "data": {
      "image/png": "[encoded data removed]",
      "text/plain": [
       "<Figure size 720x432 with 1 Axes>"
      ]
     },
     "metadata": {
      "needs_background": "light"
     },
     "output_type": "display_data"
    },
    {
     "data": {
      "image/png": "[encoded data removed]",
      "text/plain": [
       "<Figure size 864x432 with 1 Axes>"
      ]
     },
     "metadata": {
      "needs_background": "light"
     },
     "output_type": "display_data"
    }
   ],
   "source": [
    "#Relationship between categorical variables and the house price\n",
    "# city vs price\n",
    "data=dataset.copy()\n",
    "plt.figure(figsize=(10,6))\n",
    "data.groupby('city')['price'].median().plot.bar()\n",
    "plt.xlabel('city')\n",
    "plt.ylabel('price')\n",
    "plt.title('city')\n",
    "plt.tight_layout()\n",
    "plt.show()\n",
    "# statezip vs price\n",
    "plt.figure(figsize=(12,6))\n",
    "data.groupby('statezip')['price'].median().plot.bar()\n",
    "plt.xlabel('statezip')\n",
    "plt.ylabel('price')\n",
    "plt.title('statezip')\n",
    "plt.tight_layout()\n",
    "plt.show()\n"
   ]
  },
  {
   "cell_type": "code",
   "execution_count": 7,
   "id": "ac875cab",
   "metadata": {},
   "outputs": [
    {
     "data": {
      "image/png": "[encoded data removed]",
      "text/plain": [
       "<Figure size 432x288 with 1 Axes>"
      ]
     },
     "metadata": {},
     "output_type": "display_data"
    },
    {
     "name": "stdout",
     "output_type": "stream",
     "text": [
      "street has 4525 unique value\n",
      "\n"
     ]
    },
    {
     "data": {
      "text/plain": [
       "2520 Mulberry Walk NE    4\n",
       "2500 Mulberry Walk NE    3\n",
       "513 N 46th St            2\n",
       "9413 34th Ave SW         2\n",
       "34809 SE Garden Ct       2\n",
       "8216 Linden Ave N        2\n",
       "34115 SE Ash St          2\n",
       "7490 85th Ave SE         2\n",
       "323 25th Ave S           2\n",
       "353 N 105th St           2\n",
       "Name: street, dtype: int64"
      ]
     },
     "execution_count": 7,
     "metadata": {},
     "output_type": "execute_result"
    }
   ],
   "source": [
    "#pie charts\n",
    "street_names = dataset['street'].value_counts().index\n",
    "street_values = dataset['street'].value_counts().values\n",
    "plt.pie(street_values[:3],labels=street_names[:3],autopct='%1.2f%%')\n",
    "plt.title(\"Most frequent Streets\")\n",
    "plt.show()\n",
    "#plt.pie(street_values[:6],labels=street_names[:6],autopct='%1.2f%%')\n",
    "print(f\"street has {dataset['street'].nunique()} unique value\\n\")\n",
    "dataset['street'].value_counts().head(10)"
   ]
  },
  {
   "cell_type": "code",
   "execution_count": 54,
   "id": "9655a964",
   "metadata": {},
   "outputs": [
    {
     "data": {
      "image/png": "[encoded data removed]",
      "text/plain": [
       "<Figure size 432x288 with 1 Axes>"
      ]
     },
     "metadata": {},
     "output_type": "display_data"
    },
    {
     "data": {
      "text/html": [
       "<div>\n",
       "<style scoped>\n",
       "    .dataframe tbody tr th:only-of-type {\n",
       "        vertical-align: middle;\n",
       "    }\n",
       "\n",
       "    .dataframe tbody tr th {\n",
       "        vertical-align: top;\n",
       "    }\n",
       "\n",
       "    .dataframe thead th {\n",
       "        text-align: right;\n",
       "    }\n",
       "</style>\n",
       "<table border=\"1\" class=\"dataframe\">\n",
       "  <thead>\n",
       "    <tr style=\"text-align: right;\">\n",
       "      <th></th>\n",
       "      <th>date</th>\n",
       "      <th>price</th>\n",
       "      <th>bedrooms</th>\n",
       "      <th>bathrooms</th>\n",
       "      <th>sqft_living</th>\n",
       "      <th>sqft_lot</th>\n",
       "      <th>floors</th>\n",
       "      <th>waterfront</th>\n",
       "      <th>view</th>\n",
       "      <th>condition</th>\n",
       "      <th>sqft_above</th>\n",
       "      <th>sqft_basement</th>\n",
       "      <th>yr_built</th>\n",
       "      <th>yr_renovated</th>\n",
       "      <th>street</th>\n",
       "      <th>city</th>\n",
       "      <th>statezip</th>\n",
       "      <th>country</th>\n",
       "      <th>city_encoded</th>\n",
       "    </tr>\n",
       "  </thead>\n",
       "  <tbody>\n",
       "    <tr>\n",
       "      <th>0</th>\n",
       "      <td>2014-05-02</td>\n",
       "      <td>3.130000e+05</td>\n",
       "      <td>3</td>\n",
       "      <td>1.50</td>\n",
       "      <td>1340</td>\n",
       "      <td>7912</td>\n",
       "      <td>1.5</td>\n",
       "      <td>0</td>\n",
       "      <td>0</td>\n",
       "      <td>3</td>\n",
       "      <td>1340</td>\n",
       "      <td>0</td>\n",
       "      <td>1955</td>\n",
       "      <td>2005</td>\n",
       "      <td>18810 Densmore Ave N</td>\n",
       "      <td>Shoreline</td>\n",
       "      <td>WA 98133</td>\n",
       "      <td>USA</td>\n",
       "      <td>420392.364047</td>\n",
       "    </tr>\n",
       "    <tr>\n",
       "      <th>1</th>\n",
       "      <td>2014-05-02</td>\n",
       "      <td>2.384000e+06</td>\n",
       "      <td>5</td>\n",
       "      <td>2.50</td>\n",
       "      <td>3650</td>\n",
       "      <td>9050</td>\n",
       "      <td>2.0</td>\n",
       "      <td>0</td>\n",
       "      <td>4</td>\n",
       "      <td>5</td>\n",
       "      <td>3370</td>\n",
       "      <td>280</td>\n",
       "      <td>1921</td>\n",
       "      <td>0</td>\n",
       "      <td>709 W Blaine St</td>\n",
       "      <td>Seattle</td>\n",
       "      <td>WA 98119</td>\n",
       "      <td>USA</td>\n",
       "      <td>579837.467282</td>\n",
       "    </tr>\n",
       "    <tr>\n",
       "      <th>2</th>\n",
       "      <td>2014-05-02</td>\n",
       "      <td>3.420000e+05</td>\n",
       "      <td>3</td>\n",
       "      <td>2.00</td>\n",
       "      <td>1930</td>\n",
       "      <td>11947</td>\n",
       "      <td>1.0</td>\n",
       "      <td>0</td>\n",
       "      <td>0</td>\n",
       "      <td>4</td>\n",
       "      <td>1930</td>\n",
       "      <td>0</td>\n",
       "      <td>1966</td>\n",
       "      <td>0</td>\n",
       "      <td>26206-26214 143rd Ave SE</td>\n",
       "      <td>Kent</td>\n",
       "      <td>WA 98042</td>\n",
       "      <td>USA</td>\n",
       "      <td>439492.444648</td>\n",
       "    </tr>\n",
       "    <tr>\n",
       "      <th>3</th>\n",
       "      <td>2014-05-02</td>\n",
       "      <td>4.200000e+05</td>\n",
       "      <td>3</td>\n",
       "      <td>2.25</td>\n",
       "      <td>2000</td>\n",
       "      <td>8030</td>\n",
       "      <td>1.0</td>\n",
       "      <td>0</td>\n",
       "      <td>0</td>\n",
       "      <td>4</td>\n",
       "      <td>1000</td>\n",
       "      <td>1000</td>\n",
       "      <td>1963</td>\n",
       "      <td>0</td>\n",
       "      <td>857 170th Pl NE</td>\n",
       "      <td>Bellevue</td>\n",
       "      <td>WA 98008</td>\n",
       "      <td>USA</td>\n",
       "      <td>847180.662995</td>\n",
       "    </tr>\n",
       "    <tr>\n",
       "      <th>4</th>\n",
       "      <td>2014-05-02</td>\n",
       "      <td>5.500000e+05</td>\n",
       "      <td>4</td>\n",
       "      <td>2.50</td>\n",
       "      <td>1940</td>\n",
       "      <td>10500</td>\n",
       "      <td>1.0</td>\n",
       "      <td>0</td>\n",
       "      <td>0</td>\n",
       "      <td>4</td>\n",
       "      <td>1140</td>\n",
       "      <td>800</td>\n",
       "      <td>1976</td>\n",
       "      <td>1992</td>\n",
       "      <td>9105 170th Ave NE</td>\n",
       "      <td>Redmond</td>\n",
       "      <td>WA 98052</td>\n",
       "      <td>USA</td>\n",
       "      <td>667649.534781</td>\n",
       "    </tr>\n",
       "    <tr>\n",
       "      <th>...</th>\n",
       "      <td>...</td>\n",
       "      <td>...</td>\n",
       "      <td>...</td>\n",
       "      <td>...</td>\n",
       "      <td>...</td>\n",
       "      <td>...</td>\n",
       "      <td>...</td>\n",
       "      <td>...</td>\n",
       "      <td>...</td>\n",
       "      <td>...</td>\n",
       "      <td>...</td>\n",
       "      <td>...</td>\n",
       "      <td>...</td>\n",
       "      <td>...</td>\n",
       "      <td>...</td>\n",
       "      <td>...</td>\n",
       "      <td>...</td>\n",
       "      <td>...</td>\n",
       "      <td>...</td>\n",
       "    </tr>\n",
       "    <tr>\n",
       "      <th>4595</th>\n",
       "      <td>2014-07-09</td>\n",
       "      <td>3.081667e+05</td>\n",
       "      <td>3</td>\n",
       "      <td>1.75</td>\n",
       "      <td>1510</td>\n",
       "      <td>6360</td>\n",
       "      <td>1.0</td>\n",
       "      <td>0</td>\n",
       "      <td>0</td>\n",
       "      <td>4</td>\n",
       "      <td>1510</td>\n",
       "      <td>0</td>\n",
       "      <td>1954</td>\n",
       "      <td>1979</td>\n",
       "      <td>501 N 143rd St</td>\n",
       "      <td>Seattle</td>\n",
       "      <td>WA 98133</td>\n",
       "      <td>USA</td>\n",
       "      <td>579837.467282</td>\n",
       "    </tr>\n",
       "    <tr>\n",
       "      <th>4596</th>\n",
       "      <td>2014-07-09</td>\n",
       "      <td>5.343333e+05</td>\n",
       "      <td>3</td>\n",
       "      <td>2.50</td>\n",
       "      <td>1460</td>\n",
       "      <td>7573</td>\n",
       "      <td>2.0</td>\n",
       "      <td>0</td>\n",
       "      <td>0</td>\n",
       "      <td>3</td>\n",
       "      <td>1460</td>\n",
       "      <td>0</td>\n",
       "      <td>1983</td>\n",
       "      <td>2009</td>\n",
       "      <td>14855 SE 10th Pl</td>\n",
       "      <td>Bellevue</td>\n",
       "      <td>WA 98007</td>\n",
       "      <td>USA</td>\n",
       "      <td>847180.662995</td>\n",
       "    </tr>\n",
       "    <tr>\n",
       "      <th>4597</th>\n",
       "      <td>2014-07-09</td>\n",
       "      <td>4.169042e+05</td>\n",
       "      <td>3</td>\n",
       "      <td>2.50</td>\n",
       "      <td>3010</td>\n",
       "      <td>7014</td>\n",
       "      <td>2.0</td>\n",
       "      <td>0</td>\n",
       "      <td>0</td>\n",
       "      <td>3</td>\n",
       "      <td>3010</td>\n",
       "      <td>0</td>\n",
       "      <td>2009</td>\n",
       "      <td>0</td>\n",
       "      <td>759 Ilwaco Pl NE</td>\n",
       "      <td>Renton</td>\n",
       "      <td>WA 98059</td>\n",
       "      <td>USA</td>\n",
       "      <td>377040.966329</td>\n",
       "    </tr>\n",
       "    <tr>\n",
       "      <th>4598</th>\n",
       "      <td>2014-07-10</td>\n",
       "      <td>2.034000e+05</td>\n",
       "      <td>4</td>\n",
       "      <td>2.00</td>\n",
       "      <td>2090</td>\n",
       "      <td>6630</td>\n",
       "      <td>1.0</td>\n",
       "      <td>0</td>\n",
       "      <td>0</td>\n",
       "      <td>3</td>\n",
       "      <td>1070</td>\n",
       "      <td>1020</td>\n",
       "      <td>1974</td>\n",
       "      <td>0</td>\n",
       "      <td>5148 S Creston St</td>\n",
       "      <td>Seattle</td>\n",
       "      <td>WA 98178</td>\n",
       "      <td>USA</td>\n",
       "      <td>579837.467282</td>\n",
       "    </tr>\n",
       "    <tr>\n",
       "      <th>4599</th>\n",
       "      <td>2014-07-10</td>\n",
       "      <td>2.206000e+05</td>\n",
       "      <td>3</td>\n",
       "      <td>2.50</td>\n",
       "      <td>1490</td>\n",
       "      <td>8102</td>\n",
       "      <td>2.0</td>\n",
       "      <td>0</td>\n",
       "      <td>0</td>\n",
       "      <td>4</td>\n",
       "      <td>1490</td>\n",
       "      <td>0</td>\n",
       "      <td>1990</td>\n",
       "      <td>0</td>\n",
       "      <td>18717 SE 258th St</td>\n",
       "      <td>Covington</td>\n",
       "      <td>WA 98042</td>\n",
       "      <td>USA</td>\n",
       "      <td>296230.398671</td>\n",
       "    </tr>\n",
       "  </tbody>\n",
       "</table>\n",
       "<p>4600 rows × 19 columns</p>\n",
       "</div>"
      ],
      "text/plain": [
       "           date         price  bedrooms  bathrooms  sqft_living  sqft_lot  \\\n",
       "0    2014-05-02  3.130000e+05         3       1.50         1340      7912   \n",
       "1    2014-05-02  2.384000e+06         5       2.50         3650      9050   \n",
       "2    2014-05-02  3.420000e+05         3       2.00         1930     11947   \n",
       "3    2014-05-02  4.200000e+05         3       2.25         2000      8030   \n",
       "4    2014-05-02  5.500000e+05         4       2.50         1940     10500   \n",
       "...         ...           ...       ...        ...          ...       ...   \n",
       "4595 2014-07-09  3.081667e+05         3       1.75         1510      6360   \n",
       "4596 2014-07-09  5.343333e+05         3       2.50         1460      7573   \n",
       "4597 2014-07-09  4.169042e+05         3       2.50         3010      7014   \n",
       "4598 2014-07-10  2.034000e+05         4       2.00         2090      6630   \n",
       "4599 2014-07-10  2.206000e+05         3       2.50         1490      8102   \n",
       "\n",
       "      floors  waterfront  view  condition  sqft_above  sqft_basement  \\\n",
       "0        1.5           0     0          3        1340              0   \n",
       "1        2.0           0     4          5        3370            280   \n",
       "2        1.0           0     0          4        1930              0   \n",
       "3        1.0           0     0          4        1000           1000   \n",
       "4        1.0           0     0          4        1140            800   \n",
       "...      ...         ...   ...        ...         ...            ...   \n",
       "4595     1.0           0     0          4        1510              0   \n",
       "4596     2.0           0     0          3        1460              0   \n",
       "4597     2.0           0     0          3        3010              0   \n",
       "4598     1.0           0     0          3        1070           1020   \n",
       "4599     2.0           0     0          4        1490              0   \n",
       "\n",
       "      yr_built  yr_renovated                    street       city  statezip  \\\n",
       "0         1955          2005      18810 Densmore Ave N  Shoreline  WA 98133   \n",
       "1         1921             0           709 W Blaine St    Seattle  WA 98119   \n",
       "2         1966             0  26206-26214 143rd Ave SE       Kent  WA 98042   \n",
       "3         1963             0           857 170th Pl NE   Bellevue  WA 98008   \n",
       "4         1976          1992         9105 170th Ave NE    Redmond  WA 98052   \n",
       "...        ...           ...                       ...        ...       ...   \n",
       "4595      1954          1979            501 N 143rd St    Seattle  WA 98133   \n",
       "4596      1983          2009          14855 SE 10th Pl   Bellevue  WA 98007   \n",
       "4597      2009             0          759 Ilwaco Pl NE     Renton  WA 98059   \n",
       "4598      1974             0         5148 S Creston St    Seattle  WA 98178   \n",
       "4599      1990             0         18717 SE 258th St  Covington  WA 98042   \n",
       "\n",
       "     country   city_encoded  \n",
       "0        USA  420392.364047  \n",
       "1        USA  579837.467282  \n",
       "2        USA  439492.444648  \n",
       "3        USA  847180.662995  \n",
       "4        USA  667649.534781  \n",
       "...      ...            ...  \n",
       "4595     USA  579837.467282  \n",
       "4596     USA  847180.662995  \n",
       "4597     USA  377040.966329  \n",
       "4598     USA  579837.467282  \n",
       "4599     USA  296230.398671  \n",
       "\n",
       "[4600 rows x 19 columns]"
      ]
     },
     "execution_count": 54,
     "metadata": {},
     "output_type": "execute_result"
    }
   ],
   "source": [
    "#pie charts\n",
    "city_names = dataset['city'].value_counts().index\n",
    "city_values = dataset['city'].value_counts().values\n",
    "plt.pie(city_values[:5],labels=city_names[:5],autopct='%1.2f%%')\n",
    "plt.title(\"Most frequent cities\")\n",
    "plt.show()\n",
    "#plt.pie(street_values[:6],labels=street_names[:6],autopct='%1.2f%%')"
   ]
  },
  {
   "cell_type": "markdown",
   "id": "e1244dfe",
   "metadata": {},
   "source": [
    "## Feature Engineering "
   ]
  },
  {
   "cell_type": "code",
   "execution_count": 42,
   "id": "b4be4a6d",
   "metadata": {},
   "outputs": [],
   "source": [
    "#Importing the Dataset\n",
    "dataset = pd.read_excel(\"AgencyDataset.xlsx\")"
   ]
  },
  {
   "cell_type": "code",
   "execution_count": 43,
   "id": "693bcaab",
   "metadata": {},
   "outputs": [
    {
     "data": {
      "text/html": [
       "<div>\n",
       "<style scoped>\n",
       "    .dataframe tbody tr th:only-of-type {\n",
       "        vertical-align: middle;\n",
       "    }\n",
       "\n",
       "    .dataframe tbody tr th {\n",
       "        vertical-align: top;\n",
       "    }\n",
       "\n",
       "    .dataframe thead th {\n",
       "        text-align: right;\n",
       "    }\n",
       "</style>\n",
       "<table border=\"1\" class=\"dataframe\">\n",
       "  <thead>\n",
       "    <tr style=\"text-align: right;\">\n",
       "      <th></th>\n",
       "      <th>date</th>\n",
       "      <th>price</th>\n",
       "      <th>bedrooms</th>\n",
       "      <th>bathrooms</th>\n",
       "      <th>sqft_living</th>\n",
       "      <th>sqft_lot</th>\n",
       "      <th>floors</th>\n",
       "      <th>waterfront</th>\n",
       "      <th>view</th>\n",
       "      <th>condition</th>\n",
       "      <th>sqft_above</th>\n",
       "      <th>sqft_basement</th>\n",
       "      <th>yr_built</th>\n",
       "      <th>yr_renovated</th>\n",
       "      <th>street</th>\n",
       "      <th>city</th>\n",
       "      <th>statezip</th>\n",
       "      <th>country</th>\n",
       "      <th>city_encoded</th>\n",
       "    </tr>\n",
       "  </thead>\n",
       "  <tbody>\n",
       "    <tr>\n",
       "      <th>0</th>\n",
       "      <td>2014-05-02</td>\n",
       "      <td>313000.0</td>\n",
       "      <td>3</td>\n",
       "      <td>1.50</td>\n",
       "      <td>1340</td>\n",
       "      <td>7912</td>\n",
       "      <td>1.5</td>\n",
       "      <td>0</td>\n",
       "      <td>0</td>\n",
       "      <td>3</td>\n",
       "      <td>1340</td>\n",
       "      <td>0</td>\n",
       "      <td>1955</td>\n",
       "      <td>2005</td>\n",
       "      <td>18810 Densmore Ave N</td>\n",
       "      <td>Shoreline</td>\n",
       "      <td>WA 98133</td>\n",
       "      <td>USA</td>\n",
       "      <td>420392.364047</td>\n",
       "    </tr>\n",
       "    <tr>\n",
       "      <th>1</th>\n",
       "      <td>2014-05-02</td>\n",
       "      <td>2384000.0</td>\n",
       "      <td>5</td>\n",
       "      <td>2.50</td>\n",
       "      <td>3650</td>\n",
       "      <td>9050</td>\n",
       "      <td>2.0</td>\n",
       "      <td>0</td>\n",
       "      <td>4</td>\n",
       "      <td>5</td>\n",
       "      <td>3370</td>\n",
       "      <td>280</td>\n",
       "      <td>1921</td>\n",
       "      <td>0</td>\n",
       "      <td>709 W Blaine St</td>\n",
       "      <td>Seattle</td>\n",
       "      <td>WA 98119</td>\n",
       "      <td>USA</td>\n",
       "      <td>579837.467282</td>\n",
       "    </tr>\n",
       "    <tr>\n",
       "      <th>2</th>\n",
       "      <td>2014-05-02</td>\n",
       "      <td>342000.0</td>\n",
       "      <td>3</td>\n",
       "      <td>2.00</td>\n",
       "      <td>1930</td>\n",
       "      <td>11947</td>\n",
       "      <td>1.0</td>\n",
       "      <td>0</td>\n",
       "      <td>0</td>\n",
       "      <td>4</td>\n",
       "      <td>1930</td>\n",
       "      <td>0</td>\n",
       "      <td>1966</td>\n",
       "      <td>0</td>\n",
       "      <td>26206-26214 143rd Ave SE</td>\n",
       "      <td>Kent</td>\n",
       "      <td>WA 98042</td>\n",
       "      <td>USA</td>\n",
       "      <td>439492.444648</td>\n",
       "    </tr>\n",
       "    <tr>\n",
       "      <th>3</th>\n",
       "      <td>2014-05-02</td>\n",
       "      <td>420000.0</td>\n",
       "      <td>3</td>\n",
       "      <td>2.25</td>\n",
       "      <td>2000</td>\n",
       "      <td>8030</td>\n",
       "      <td>1.0</td>\n",
       "      <td>0</td>\n",
       "      <td>0</td>\n",
       "      <td>4</td>\n",
       "      <td>1000</td>\n",
       "      <td>1000</td>\n",
       "      <td>1963</td>\n",
       "      <td>0</td>\n",
       "      <td>857 170th Pl NE</td>\n",
       "      <td>Bellevue</td>\n",
       "      <td>WA 98008</td>\n",
       "      <td>USA</td>\n",
       "      <td>847180.662995</td>\n",
       "    </tr>\n",
       "    <tr>\n",
       "      <th>4</th>\n",
       "      <td>2014-05-02</td>\n",
       "      <td>550000.0</td>\n",
       "      <td>4</td>\n",
       "      <td>2.50</td>\n",
       "      <td>1940</td>\n",
       "      <td>10500</td>\n",
       "      <td>1.0</td>\n",
       "      <td>0</td>\n",
       "      <td>0</td>\n",
       "      <td>4</td>\n",
       "      <td>1140</td>\n",
       "      <td>800</td>\n",
       "      <td>1976</td>\n",
       "      <td>1992</td>\n",
       "      <td>9105 170th Ave NE</td>\n",
       "      <td>Redmond</td>\n",
       "      <td>WA 98052</td>\n",
       "      <td>USA</td>\n",
       "      <td>667649.534781</td>\n",
       "    </tr>\n",
       "  </tbody>\n",
       "</table>\n",
       "</div>"
      ],
      "text/plain": [
       "        date      price  bedrooms  bathrooms  sqft_living  sqft_lot  floors  \\\n",
       "0 2014-05-02   313000.0         3       1.50         1340      7912     1.5   \n",
       "1 2014-05-02  2384000.0         5       2.50         3650      9050     2.0   \n",
       "2 2014-05-02   342000.0         3       2.00         1930     11947     1.0   \n",
       "3 2014-05-02   420000.0         3       2.25         2000      8030     1.0   \n",
       "4 2014-05-02   550000.0         4       2.50         1940     10500     1.0   \n",
       "\n",
       "   waterfront  view  condition  sqft_above  sqft_basement  yr_built  \\\n",
       "0           0     0          3        1340              0      1955   \n",
       "1           0     4          5        3370            280      1921   \n",
       "2           0     0          4        1930              0      1966   \n",
       "3           0     0          4        1000           1000      1963   \n",
       "4           0     0          4        1140            800      1976   \n",
       "\n",
       "   yr_renovated                    street       city  statezip country  \\\n",
       "0          2005      18810 Densmore Ave N  Shoreline  WA 98133     USA   \n",
       "1             0           709 W Blaine St    Seattle  WA 98119     USA   \n",
       "2             0  26206-26214 143rd Ave SE       Kent  WA 98042     USA   \n",
       "3             0           857 170th Pl NE   Bellevue  WA 98008     USA   \n",
       "4          1992         9105 170th Ave NE    Redmond  WA 98052     USA   \n",
       "\n",
       "    city_encoded  \n",
       "0  420392.364047  \n",
       "1  579837.467282  \n",
       "2  439492.444648  \n",
       "3  847180.662995  \n",
       "4  667649.534781  "
      ]
     },
     "execution_count": 43,
     "metadata": {},
     "output_type": "execute_result"
    }
   ],
   "source": [
    "city_mean_prices = dataset.groupby('city')['price'].mean()\n",
    "dataset['city_encoded'] = dataset['city'].map(city_mean_prices)\n",
    "dataset.head()"
   ]
  },
  {
   "cell_type": "code",
   "execution_count": 44,
   "id": "2308c5ef",
   "metadata": {},
   "outputs": [
    {
     "data": {
      "text/html": [
       "<div>\n",
       "<style scoped>\n",
       "    .dataframe tbody tr th:only-of-type {\n",
       "        vertical-align: middle;\n",
       "    }\n",
       "\n",
       "    .dataframe tbody tr th {\n",
       "        vertical-align: top;\n",
       "    }\n",
       "\n",
       "    .dataframe thead th {\n",
       "        text-align: right;\n",
       "    }\n",
       "</style>\n",
       "<table border=\"1\" class=\"dataframe\">\n",
       "  <thead>\n",
       "    <tr style=\"text-align: right;\">\n",
       "      <th></th>\n",
       "      <th>date</th>\n",
       "      <th>price</th>\n",
       "      <th>bedrooms</th>\n",
       "      <th>bathrooms</th>\n",
       "      <th>sqft_living</th>\n",
       "      <th>sqft_lot</th>\n",
       "      <th>floors</th>\n",
       "      <th>waterfront</th>\n",
       "      <th>view</th>\n",
       "      <th>condition</th>\n",
       "      <th>sqft_above</th>\n",
       "      <th>sqft_basement</th>\n",
       "      <th>yr_built</th>\n",
       "      <th>yr_renovated</th>\n",
       "      <th>street</th>\n",
       "      <th>city</th>\n",
       "      <th>statezip</th>\n",
       "      <th>city_encoded</th>\n",
       "    </tr>\n",
       "  </thead>\n",
       "  <tbody>\n",
       "    <tr>\n",
       "      <th>0</th>\n",
       "      <td>2014-05-02</td>\n",
       "      <td>313000.0</td>\n",
       "      <td>3</td>\n",
       "      <td>1.50</td>\n",
       "      <td>1340</td>\n",
       "      <td>7912</td>\n",
       "      <td>1.5</td>\n",
       "      <td>0</td>\n",
       "      <td>0</td>\n",
       "      <td>3</td>\n",
       "      <td>1340</td>\n",
       "      <td>0</td>\n",
       "      <td>1955</td>\n",
       "      <td>2005</td>\n",
       "      <td>18810 Densmore Ave N</td>\n",
       "      <td>Shoreline</td>\n",
       "      <td>WA 98133</td>\n",
       "      <td>420392.364047</td>\n",
       "    </tr>\n",
       "    <tr>\n",
       "      <th>1</th>\n",
       "      <td>2014-05-02</td>\n",
       "      <td>2384000.0</td>\n",
       "      <td>5</td>\n",
       "      <td>2.50</td>\n",
       "      <td>3650</td>\n",
       "      <td>9050</td>\n",
       "      <td>2.0</td>\n",
       "      <td>0</td>\n",
       "      <td>4</td>\n",
       "      <td>5</td>\n",
       "      <td>3370</td>\n",
       "      <td>280</td>\n",
       "      <td>1921</td>\n",
       "      <td>0</td>\n",
       "      <td>709 W Blaine St</td>\n",
       "      <td>Seattle</td>\n",
       "      <td>WA 98119</td>\n",
       "      <td>579837.467282</td>\n",
       "    </tr>\n",
       "    <tr>\n",
       "      <th>2</th>\n",
       "      <td>2014-05-02</td>\n",
       "      <td>342000.0</td>\n",
       "      <td>3</td>\n",
       "      <td>2.00</td>\n",
       "      <td>1930</td>\n",
       "      <td>11947</td>\n",
       "      <td>1.0</td>\n",
       "      <td>0</td>\n",
       "      <td>0</td>\n",
       "      <td>4</td>\n",
       "      <td>1930</td>\n",
       "      <td>0</td>\n",
       "      <td>1966</td>\n",
       "      <td>0</td>\n",
       "      <td>26206-26214 143rd Ave SE</td>\n",
       "      <td>Kent</td>\n",
       "      <td>WA 98042</td>\n",
       "      <td>439492.444648</td>\n",
       "    </tr>\n",
       "    <tr>\n",
       "      <th>3</th>\n",
       "      <td>2014-05-02</td>\n",
       "      <td>420000.0</td>\n",
       "      <td>3</td>\n",
       "      <td>2.25</td>\n",
       "      <td>2000</td>\n",
       "      <td>8030</td>\n",
       "      <td>1.0</td>\n",
       "      <td>0</td>\n",
       "      <td>0</td>\n",
       "      <td>4</td>\n",
       "      <td>1000</td>\n",
       "      <td>1000</td>\n",
       "      <td>1963</td>\n",
       "      <td>0</td>\n",
       "      <td>857 170th Pl NE</td>\n",
       "      <td>Bellevue</td>\n",
       "      <td>WA 98008</td>\n",
       "      <td>847180.662995</td>\n",
       "    </tr>\n",
       "    <tr>\n",
       "      <th>4</th>\n",
       "      <td>2014-05-02</td>\n",
       "      <td>550000.0</td>\n",
       "      <td>4</td>\n",
       "      <td>2.50</td>\n",
       "      <td>1940</td>\n",
       "      <td>10500</td>\n",
       "      <td>1.0</td>\n",
       "      <td>0</td>\n",
       "      <td>0</td>\n",
       "      <td>4</td>\n",
       "      <td>1140</td>\n",
       "      <td>800</td>\n",
       "      <td>1976</td>\n",
       "      <td>1992</td>\n",
       "      <td>9105 170th Ave NE</td>\n",
       "      <td>Redmond</td>\n",
       "      <td>WA 98052</td>\n",
       "      <td>667649.534781</td>\n",
       "    </tr>\n",
       "  </tbody>\n",
       "</table>\n",
       "</div>"
      ],
      "text/plain": [
       "        date      price  bedrooms  bathrooms  sqft_living  sqft_lot  floors  \\\n",
       "0 2014-05-02   313000.0         3       1.50         1340      7912     1.5   \n",
       "1 2014-05-02  2384000.0         5       2.50         3650      9050     2.0   \n",
       "2 2014-05-02   342000.0         3       2.00         1930     11947     1.0   \n",
       "3 2014-05-02   420000.0         3       2.25         2000      8030     1.0   \n",
       "4 2014-05-02   550000.0         4       2.50         1940     10500     1.0   \n",
       "\n",
       "   waterfront  view  condition  sqft_above  sqft_basement  yr_built  \\\n",
       "0           0     0          3        1340              0      1955   \n",
       "1           0     4          5        3370            280      1921   \n",
       "2           0     0          4        1930              0      1966   \n",
       "3           0     0          4        1000           1000      1963   \n",
       "4           0     0          4        1140            800      1976   \n",
       "\n",
       "   yr_renovated                    street       city  statezip   city_encoded  \n",
       "0          2005      18810 Densmore Ave N  Shoreline  WA 98133  420392.364047  \n",
       "1             0           709 W Blaine St    Seattle  WA 98119  579837.467282  \n",
       "2             0  26206-26214 143rd Ave SE       Kent  WA 98042  439492.444648  \n",
       "3             0           857 170th Pl NE   Bellevue  WA 98008  847180.662995  \n",
       "4          1992         9105 170th Ave NE    Redmond  WA 98052  667649.534781  "
      ]
     },
     "execution_count": 44,
     "metadata": {},
     "output_type": "execute_result"
    }
   ],
   "source": [
    "#Dropping the country column because it has one dominant category \n",
    "dataset.drop(['country'],axis=1,inplace=True)\n",
    "dataset.head()"
   ]
  },
  {
   "cell_type": "code",
   "execution_count": 45,
   "id": "5956ac2b",
   "metadata": {},
   "outputs": [
    {
     "data": {
      "text/plain": [
       "dtype('float64')"
      ]
     },
     "execution_count": 45,
     "metadata": {},
     "output_type": "execute_result"
    }
   ],
   "source": [
    "#Transforming statezip to numerical type\n",
    "dataset['statezip'] = dataset['statezip'].str.strip('WA').astype('float')\n",
    "dataset['statezip'].dtype"
   ]
  },
  {
   "cell_type": "code",
   "execution_count": 91,
   "id": "bc1d1731",
   "metadata": {},
   "outputs": [
    {
     "data": {
      "text/html": [
       "<div>\n",
       "<style scoped>\n",
       "    .dataframe tbody tr th:only-of-type {\n",
       "        vertical-align: middle;\n",
       "    }\n",
       "\n",
       "    .dataframe tbody tr th {\n",
       "        vertical-align: top;\n",
       "    }\n",
       "\n",
       "    .dataframe thead th {\n",
       "        text-align: right;\n",
       "    }\n",
       "</style>\n",
       "<table border=\"1\" class=\"dataframe\">\n",
       "  <thead>\n",
       "    <tr style=\"text-align: right;\">\n",
       "      <th></th>\n",
       "      <th>price</th>\n",
       "      <th>bedrooms</th>\n",
       "      <th>bathrooms</th>\n",
       "      <th>sqft_living</th>\n",
       "      <th>sqft_lot</th>\n",
       "      <th>floors</th>\n",
       "      <th>waterfront</th>\n",
       "      <th>view</th>\n",
       "      <th>condition</th>\n",
       "      <th>sqft_basement</th>\n",
       "      <th>statezip</th>\n",
       "      <th>city_encoded</th>\n",
       "      <th>renov_age</th>\n",
       "    </tr>\n",
       "  </thead>\n",
       "  <tbody>\n",
       "    <tr>\n",
       "      <th>0</th>\n",
       "      <td>313000.0</td>\n",
       "      <td>3.0</td>\n",
       "      <td>1.50</td>\n",
       "      <td>1340.0</td>\n",
       "      <td>7912.0</td>\n",
       "      <td>1.5</td>\n",
       "      <td>0.0</td>\n",
       "      <td>0.0</td>\n",
       "      <td>3.0</td>\n",
       "      <td>0.0</td>\n",
       "      <td>98133.0</td>\n",
       "      <td>420392.364047</td>\n",
       "      <td>50.0</td>\n",
       "    </tr>\n",
       "    <tr>\n",
       "      <th>1</th>\n",
       "      <td>2384000.0</td>\n",
       "      <td>5.0</td>\n",
       "      <td>2.50</td>\n",
       "      <td>3650.0</td>\n",
       "      <td>9050.0</td>\n",
       "      <td>2.0</td>\n",
       "      <td>0.0</td>\n",
       "      <td>4.0</td>\n",
       "      <td>5.0</td>\n",
       "      <td>280.0</td>\n",
       "      <td>98119.0</td>\n",
       "      <td>579837.467282</td>\n",
       "      <td>0.0</td>\n",
       "    </tr>\n",
       "    <tr>\n",
       "      <th>2</th>\n",
       "      <td>342000.0</td>\n",
       "      <td>3.0</td>\n",
       "      <td>2.00</td>\n",
       "      <td>1930.0</td>\n",
       "      <td>11947.0</td>\n",
       "      <td>1.0</td>\n",
       "      <td>0.0</td>\n",
       "      <td>0.0</td>\n",
       "      <td>4.0</td>\n",
       "      <td>0.0</td>\n",
       "      <td>98042.0</td>\n",
       "      <td>439492.444648</td>\n",
       "      <td>0.0</td>\n",
       "    </tr>\n",
       "    <tr>\n",
       "      <th>3</th>\n",
       "      <td>420000.0</td>\n",
       "      <td>3.0</td>\n",
       "      <td>2.25</td>\n",
       "      <td>2000.0</td>\n",
       "      <td>8030.0</td>\n",
       "      <td>1.0</td>\n",
       "      <td>0.0</td>\n",
       "      <td>0.0</td>\n",
       "      <td>4.0</td>\n",
       "      <td>1000.0</td>\n",
       "      <td>98008.0</td>\n",
       "      <td>847180.662995</td>\n",
       "      <td>0.0</td>\n",
       "    </tr>\n",
       "    <tr>\n",
       "      <th>4</th>\n",
       "      <td>550000.0</td>\n",
       "      <td>4.0</td>\n",
       "      <td>2.50</td>\n",
       "      <td>1940.0</td>\n",
       "      <td>10500.0</td>\n",
       "      <td>1.0</td>\n",
       "      <td>0.0</td>\n",
       "      <td>0.0</td>\n",
       "      <td>4.0</td>\n",
       "      <td>800.0</td>\n",
       "      <td>98052.0</td>\n",
       "      <td>667649.534781</td>\n",
       "      <td>16.0</td>\n",
       "    </tr>\n",
       "  </tbody>\n",
       "</table>\n",
       "</div>"
      ],
      "text/plain": [
       "       price  bedrooms  bathrooms  sqft_living  sqft_lot  floors  waterfront  \\\n",
       "0   313000.0       3.0       1.50       1340.0    7912.0     1.5         0.0   \n",
       "1  2384000.0       5.0       2.50       3650.0    9050.0     2.0         0.0   \n",
       "2   342000.0       3.0       2.00       1930.0   11947.0     1.0         0.0   \n",
       "3   420000.0       3.0       2.25       2000.0    8030.0     1.0         0.0   \n",
       "4   550000.0       4.0       2.50       1940.0   10500.0     1.0         0.0   \n",
       "\n",
       "   view  condition  sqft_basement  statezip   city_encoded  renov_age  \n",
       "0   0.0        3.0            0.0   98133.0  420392.364047       50.0  \n",
       "1   4.0        5.0          280.0   98119.0  579837.467282        0.0  \n",
       "2   0.0        4.0            0.0   98042.0  439492.444648        0.0  \n",
       "3   0.0        4.0         1000.0   98008.0  847180.662995        0.0  \n",
       "4   0.0        4.0          800.0   98052.0  667649.534781       16.0  "
      ]
     },
     "execution_count": 91,
     "metadata": {},
     "output_type": "execute_result"
    }
   ],
   "source": [
    "#Transforming temporal variables\n",
    "dataset['renov_age'] = np.abs(dataset['yr_renovated'] - dataset['yr_built'])\n",
    "dataset['renov_age'] = dataset.renov_age.apply(lambda x: x if len(str(int(x)))==2 else 0.0)\n"
   ]
  },
  {
   "cell_type": "code",
   "execution_count": 47,
   "id": "30519e74",
   "metadata": {},
   "outputs": [
    {
     "data": {
      "text/html": [
       "<div>\n",
       "<style scoped>\n",
       "    .dataframe tbody tr th:only-of-type {\n",
       "        vertical-align: middle;\n",
       "    }\n",
       "\n",
       "    .dataframe tbody tr th {\n",
       "        vertical-align: top;\n",
       "    }\n",
       "\n",
       "    .dataframe thead th {\n",
       "        text-align: right;\n",
       "    }\n",
       "</style>\n",
       "<table border=\"1\" class=\"dataframe\">\n",
       "  <thead>\n",
       "    <tr style=\"text-align: right;\">\n",
       "      <th></th>\n",
       "      <th>price</th>\n",
       "      <th>bedrooms</th>\n",
       "      <th>bathrooms</th>\n",
       "      <th>sqft_living</th>\n",
       "      <th>sqft_lot</th>\n",
       "      <th>floors</th>\n",
       "      <th>waterfront</th>\n",
       "      <th>view</th>\n",
       "      <th>condition</th>\n",
       "      <th>sqft_above</th>\n",
       "      <th>sqft_basement</th>\n",
       "      <th>statezip</th>\n",
       "      <th>city_encoded</th>\n",
       "      <th>renov_age</th>\n",
       "    </tr>\n",
       "  </thead>\n",
       "  <tbody>\n",
       "    <tr>\n",
       "      <th>0</th>\n",
       "      <td>313000.0</td>\n",
       "      <td>3</td>\n",
       "      <td>1.50</td>\n",
       "      <td>1340</td>\n",
       "      <td>7912</td>\n",
       "      <td>1.5</td>\n",
       "      <td>0</td>\n",
       "      <td>0</td>\n",
       "      <td>3</td>\n",
       "      <td>1340</td>\n",
       "      <td>0</td>\n",
       "      <td>98133.0</td>\n",
       "      <td>420392.364047</td>\n",
       "      <td>50.0</td>\n",
       "    </tr>\n",
       "    <tr>\n",
       "      <th>1</th>\n",
       "      <td>2384000.0</td>\n",
       "      <td>5</td>\n",
       "      <td>2.50</td>\n",
       "      <td>3650</td>\n",
       "      <td>9050</td>\n",
       "      <td>2.0</td>\n",
       "      <td>0</td>\n",
       "      <td>4</td>\n",
       "      <td>5</td>\n",
       "      <td>3370</td>\n",
       "      <td>280</td>\n",
       "      <td>98119.0</td>\n",
       "      <td>579837.467282</td>\n",
       "      <td>0.0</td>\n",
       "    </tr>\n",
       "    <tr>\n",
       "      <th>2</th>\n",
       "      <td>342000.0</td>\n",
       "      <td>3</td>\n",
       "      <td>2.00</td>\n",
       "      <td>1930</td>\n",
       "      <td>11947</td>\n",
       "      <td>1.0</td>\n",
       "      <td>0</td>\n",
       "      <td>0</td>\n",
       "      <td>4</td>\n",
       "      <td>1930</td>\n",
       "      <td>0</td>\n",
       "      <td>98042.0</td>\n",
       "      <td>439492.444648</td>\n",
       "      <td>0.0</td>\n",
       "    </tr>\n",
       "    <tr>\n",
       "      <th>3</th>\n",
       "      <td>420000.0</td>\n",
       "      <td>3</td>\n",
       "      <td>2.25</td>\n",
       "      <td>2000</td>\n",
       "      <td>8030</td>\n",
       "      <td>1.0</td>\n",
       "      <td>0</td>\n",
       "      <td>0</td>\n",
       "      <td>4</td>\n",
       "      <td>1000</td>\n",
       "      <td>1000</td>\n",
       "      <td>98008.0</td>\n",
       "      <td>847180.662995</td>\n",
       "      <td>0.0</td>\n",
       "    </tr>\n",
       "    <tr>\n",
       "      <th>4</th>\n",
       "      <td>550000.0</td>\n",
       "      <td>4</td>\n",
       "      <td>2.50</td>\n",
       "      <td>1940</td>\n",
       "      <td>10500</td>\n",
       "      <td>1.0</td>\n",
       "      <td>0</td>\n",
       "      <td>0</td>\n",
       "      <td>4</td>\n",
       "      <td>1140</td>\n",
       "      <td>800</td>\n",
       "      <td>98052.0</td>\n",
       "      <td>667649.534781</td>\n",
       "      <td>16.0</td>\n",
       "    </tr>\n",
       "  </tbody>\n",
       "</table>\n",
       "</div>"
      ],
      "text/plain": [
       "       price  bedrooms  bathrooms  sqft_living  sqft_lot  floors  waterfront  \\\n",
       "0   313000.0         3       1.50         1340      7912     1.5           0   \n",
       "1  2384000.0         5       2.50         3650      9050     2.0           0   \n",
       "2   342000.0         3       2.00         1930     11947     1.0           0   \n",
       "3   420000.0         3       2.25         2000      8030     1.0           0   \n",
       "4   550000.0         4       2.50         1940     10500     1.0           0   \n",
       "\n",
       "   view  condition  sqft_above  sqft_basement  statezip   city_encoded  \\\n",
       "0     0          3        1340              0   98133.0  420392.364047   \n",
       "1     4          5        3370            280   98119.0  579837.467282   \n",
       "2     0          4        1930              0   98042.0  439492.444648   \n",
       "3     0          4        1000           1000   98008.0  847180.662995   \n",
       "4     0          4        1140            800   98052.0  667649.534781   \n",
       "\n",
       "   renov_age  \n",
       "0       50.0  \n",
       "1        0.0  \n",
       "2        0.0  \n",
       "3        0.0  \n",
       "4       16.0  "
      ]
     },
     "execution_count": 47,
     "metadata": {},
     "output_type": "execute_result"
    }
   ],
   "source": [
    "#remove unwanted columns like yr_built, date ,yr_renovated\n",
    "dataset.drop(['date', 'yr_built', 'yr_renovated','city','street'], axis=1, inplace=True)\n",
    "dataset.head()\n"
   ]
  },
  {
   "cell_type": "code",
   "execution_count": 48,
   "id": "ef522fc2",
   "metadata": {},
   "outputs": [],
   "source": [
    "#Dropping rows that have living & basement & above surfaces greater than the house surface \n",
    "dataset.drop(dataset.index[(dataset['sqft_living']>dataset['sqft_lot'])|(dataset['sqft_above']>dataset['sqft_lot'])|(dataset['sqft_basement']>dataset['sqft_lot'])], inplace = True)"
   ]
  },
  {
   "cell_type": "code",
   "execution_count": 49,
   "id": "d46ca193",
   "metadata": {},
   "outputs": [
    {
     "name": "stdout",
     "output_type": "stream",
     "text": [
      "Count of zeros in column  price  is :  49\n",
      "Count of zeros in column  bedrooms  is :  2\n",
      "Count of zeros in column  bathrooms  is :  2\n",
      "Count of zeros in column  sqft_living  is :  0\n",
      "Count of zeros in column  sqft_lot  is :  0\n",
      "Count of zeros in column  floors  is :  0\n",
      "Count of zeros in column  waterfront  is :  4397\n",
      "Count of zeros in column  view  is :  3980\n",
      "Count of zeros in column  condition  is :  0\n",
      "Count of zeros in column  sqft_above  is :  0\n",
      "Count of zeros in column  sqft_basement  is :  2671\n",
      "Count of zeros in column  statezip  is :  0\n",
      "Count of zeros in column  city_encoded  is :  0\n",
      "Count of zeros in column  renov_age  is :  2803\n"
     ]
    }
   ],
   "source": [
    "#Number of zeroes in each column\n",
    "for column_name in dataset:\n",
    "    column = dataset[column_name]\n",
    "    # Get the count of Zeros in column \n",
    "    count = (column == 0).sum()\n",
    "    print('Count of zeros in column ', column_name, ' is : ', count)"
   ]
  },
  {
   "cell_type": "code",
   "execution_count": 68,
   "id": "92bfac90",
   "metadata": {},
   "outputs": [
    {
     "data": {
      "text/html": [
       "<div>\n",
       "<style scoped>\n",
       "    .dataframe tbody tr th:only-of-type {\n",
       "        vertical-align: middle;\n",
       "    }\n",
       "\n",
       "    .dataframe tbody tr th {\n",
       "        vertical-align: top;\n",
       "    }\n",
       "\n",
       "    .dataframe thead th {\n",
       "        text-align: right;\n",
       "    }\n",
       "</style>\n",
       "<table border=\"1\" class=\"dataframe\">\n",
       "  <thead>\n",
       "    <tr style=\"text-align: right;\">\n",
       "      <th></th>\n",
       "      <th>price</th>\n",
       "      <th>bedrooms</th>\n",
       "      <th>bathrooms</th>\n",
       "      <th>sqft_living</th>\n",
       "      <th>sqft_lot</th>\n",
       "      <th>floors</th>\n",
       "      <th>waterfront</th>\n",
       "      <th>view</th>\n",
       "      <th>condition</th>\n",
       "      <th>sqft_above</th>\n",
       "      <th>sqft_basement</th>\n",
       "      <th>statezip</th>\n",
       "      <th>renov_age</th>\n",
       "    </tr>\n",
       "  </thead>\n",
       "  <tbody>\n",
       "    <tr>\n",
       "      <th>price</th>\n",
       "      <td>1.000000</td>\n",
       "      <td>0.200336</td>\n",
       "      <td>0.327110</td>\n",
       "      <td>0.430410</td>\n",
       "      <td>0.050451</td>\n",
       "      <td>0.151461</td>\n",
       "      <td>0.135648</td>\n",
       "      <td>0.228504</td>\n",
       "      <td>0.034915</td>\n",
       "      <td>0.367570</td>\n",
       "      <td>0.210427</td>\n",
       "      <td>-0.046052</td>\n",
       "      <td>-0.016156</td>\n",
       "    </tr>\n",
       "    <tr>\n",
       "      <th>bedrooms</th>\n",
       "      <td>0.200336</td>\n",
       "      <td>1.000000</td>\n",
       "      <td>0.545920</td>\n",
       "      <td>0.594884</td>\n",
       "      <td>0.068819</td>\n",
       "      <td>0.177895</td>\n",
       "      <td>-0.003483</td>\n",
       "      <td>0.111028</td>\n",
       "      <td>0.025080</td>\n",
       "      <td>0.484705</td>\n",
       "      <td>0.334165</td>\n",
       "      <td>-0.153443</td>\n",
       "      <td>-0.088362</td>\n",
       "    </tr>\n",
       "    <tr>\n",
       "      <th>bathrooms</th>\n",
       "      <td>0.327110</td>\n",
       "      <td>0.545920</td>\n",
       "      <td>1.000000</td>\n",
       "      <td>0.761154</td>\n",
       "      <td>0.107837</td>\n",
       "      <td>0.486428</td>\n",
       "      <td>0.076232</td>\n",
       "      <td>0.211960</td>\n",
       "      <td>-0.119994</td>\n",
       "      <td>0.689918</td>\n",
       "      <td>0.298020</td>\n",
       "      <td>-0.206231</td>\n",
       "      <td>-0.249554</td>\n",
       "    </tr>\n",
       "    <tr>\n",
       "      <th>sqft_living</th>\n",
       "      <td>0.430410</td>\n",
       "      <td>0.594884</td>\n",
       "      <td>0.761154</td>\n",
       "      <td>1.000000</td>\n",
       "      <td>0.210538</td>\n",
       "      <td>0.344850</td>\n",
       "      <td>0.117616</td>\n",
       "      <td>0.311009</td>\n",
       "      <td>-0.062826</td>\n",
       "      <td>0.876443</td>\n",
       "      <td>0.447206</td>\n",
       "      <td>-0.210891</td>\n",
       "      <td>-0.156200</td>\n",
       "    </tr>\n",
       "    <tr>\n",
       "      <th>sqft_lot</th>\n",
       "      <td>0.050451</td>\n",
       "      <td>0.068819</td>\n",
       "      <td>0.107837</td>\n",
       "      <td>0.210538</td>\n",
       "      <td>1.000000</td>\n",
       "      <td>0.003750</td>\n",
       "      <td>0.017241</td>\n",
       "      <td>0.073907</td>\n",
       "      <td>0.000558</td>\n",
       "      <td>0.216455</td>\n",
       "      <td>0.034842</td>\n",
       "      <td>-0.133509</td>\n",
       "      <td>-0.043434</td>\n",
       "    </tr>\n",
       "    <tr>\n",
       "      <th>floors</th>\n",
       "      <td>0.151461</td>\n",
       "      <td>0.177895</td>\n",
       "      <td>0.486428</td>\n",
       "      <td>0.344850</td>\n",
       "      <td>0.003750</td>\n",
       "      <td>1.000000</td>\n",
       "      <td>0.022024</td>\n",
       "      <td>0.031211</td>\n",
       "      <td>-0.275013</td>\n",
       "      <td>0.522814</td>\n",
       "      <td>-0.255510</td>\n",
       "      <td>-0.064999</td>\n",
       "      <td>-0.246683</td>\n",
       "    </tr>\n",
       "    <tr>\n",
       "      <th>waterfront</th>\n",
       "      <td>0.135648</td>\n",
       "      <td>-0.003483</td>\n",
       "      <td>0.076232</td>\n",
       "      <td>0.117616</td>\n",
       "      <td>0.017241</td>\n",
       "      <td>0.022024</td>\n",
       "      <td>1.000000</td>\n",
       "      <td>0.360935</td>\n",
       "      <td>0.000352</td>\n",
       "      <td>0.078911</td>\n",
       "      <td>0.097501</td>\n",
       "      <td>0.005937</td>\n",
       "      <td>0.012502</td>\n",
       "    </tr>\n",
       "    <tr>\n",
       "      <th>view</th>\n",
       "      <td>0.228504</td>\n",
       "      <td>0.111028</td>\n",
       "      <td>0.211960</td>\n",
       "      <td>0.311009</td>\n",
       "      <td>0.073907</td>\n",
       "      <td>0.031211</td>\n",
       "      <td>0.360935</td>\n",
       "      <td>1.000000</td>\n",
       "      <td>0.063077</td>\n",
       "      <td>0.174327</td>\n",
       "      <td>0.321602</td>\n",
       "      <td>0.095302</td>\n",
       "      <td>0.039341</td>\n",
       "    </tr>\n",
       "    <tr>\n",
       "      <th>condition</th>\n",
       "      <td>0.034915</td>\n",
       "      <td>0.025080</td>\n",
       "      <td>-0.119994</td>\n",
       "      <td>-0.062826</td>\n",
       "      <td>0.000558</td>\n",
       "      <td>-0.275013</td>\n",
       "      <td>0.000352</td>\n",
       "      <td>0.063077</td>\n",
       "      <td>1.000000</td>\n",
       "      <td>-0.178196</td>\n",
       "      <td>0.200632</td>\n",
       "      <td>0.038038</td>\n",
       "      <td>-0.128537</td>\n",
       "    </tr>\n",
       "    <tr>\n",
       "      <th>sqft_above</th>\n",
       "      <td>0.367570</td>\n",
       "      <td>0.484705</td>\n",
       "      <td>0.689918</td>\n",
       "      <td>0.876443</td>\n",
       "      <td>0.216455</td>\n",
       "      <td>0.522814</td>\n",
       "      <td>0.078911</td>\n",
       "      <td>0.174327</td>\n",
       "      <td>-0.178196</td>\n",
       "      <td>1.000000</td>\n",
       "      <td>-0.038723</td>\n",
       "      <td>-0.270585</td>\n",
       "      <td>-0.204798</td>\n",
       "    </tr>\n",
       "    <tr>\n",
       "      <th>sqft_basement</th>\n",
       "      <td>0.210427</td>\n",
       "      <td>0.334165</td>\n",
       "      <td>0.298020</td>\n",
       "      <td>0.447206</td>\n",
       "      <td>0.034842</td>\n",
       "      <td>-0.255510</td>\n",
       "      <td>0.097501</td>\n",
       "      <td>0.321602</td>\n",
       "      <td>0.200632</td>\n",
       "      <td>-0.038723</td>\n",
       "      <td>1.000000</td>\n",
       "      <td>0.064977</td>\n",
       "      <td>0.056271</td>\n",
       "    </tr>\n",
       "    <tr>\n",
       "      <th>statezip</th>\n",
       "      <td>-0.046052</td>\n",
       "      <td>-0.153443</td>\n",
       "      <td>-0.206231</td>\n",
       "      <td>-0.210891</td>\n",
       "      <td>-0.133509</td>\n",
       "      <td>-0.064999</td>\n",
       "      <td>0.005937</td>\n",
       "      <td>0.095302</td>\n",
       "      <td>0.038038</td>\n",
       "      <td>-0.270585</td>\n",
       "      <td>0.064977</td>\n",
       "      <td>1.000000</td>\n",
       "      <td>0.246788</td>\n",
       "    </tr>\n",
       "    <tr>\n",
       "      <th>renov_age</th>\n",
       "      <td>-0.016156</td>\n",
       "      <td>-0.088362</td>\n",
       "      <td>-0.249554</td>\n",
       "      <td>-0.156200</td>\n",
       "      <td>-0.043434</td>\n",
       "      <td>-0.246683</td>\n",
       "      <td>0.012502</td>\n",
       "      <td>0.039341</td>\n",
       "      <td>-0.128537</td>\n",
       "      <td>-0.204798</td>\n",
       "      <td>0.056271</td>\n",
       "      <td>0.246788</td>\n",
       "      <td>1.000000</td>\n",
       "    </tr>\n",
       "  </tbody>\n",
       "</table>\n",
       "</div>"
      ],
      "text/plain": [
       "                  price  bedrooms  bathrooms  sqft_living  sqft_lot    floors  \\\n",
       "price          1.000000  0.200336   0.327110     0.430410  0.050451  0.151461   \n",
       "bedrooms       0.200336  1.000000   0.545920     0.594884  0.068819  0.177895   \n",
       "bathrooms      0.327110  0.545920   1.000000     0.761154  0.107837  0.486428   \n",
       "sqft_living    0.430410  0.594884   0.761154     1.000000  0.210538  0.344850   \n",
       "sqft_lot       0.050451  0.068819   0.107837     0.210538  1.000000  0.003750   \n",
       "floors         0.151461  0.177895   0.486428     0.344850  0.003750  1.000000   \n",
       "waterfront     0.135648 -0.003483   0.076232     0.117616  0.017241  0.022024   \n",
       "view           0.228504  0.111028   0.211960     0.311009  0.073907  0.031211   \n",
       "condition      0.034915  0.025080  -0.119994    -0.062826  0.000558 -0.275013   \n",
       "sqft_above     0.367570  0.484705   0.689918     0.876443  0.216455  0.522814   \n",
       "sqft_basement  0.210427  0.334165   0.298020     0.447206  0.034842 -0.255510   \n",
       "statezip      -0.046052 -0.153443  -0.206231    -0.210891 -0.133509 -0.064999   \n",
       "renov_age     -0.016156 -0.088362  -0.249554    -0.156200 -0.043434 -0.246683   \n",
       "\n",
       "               waterfront      view  condition  sqft_above  sqft_basement  \\\n",
       "price            0.135648  0.228504   0.034915    0.367570       0.210427   \n",
       "bedrooms        -0.003483  0.111028   0.025080    0.484705       0.334165   \n",
       "bathrooms        0.076232  0.211960  -0.119994    0.689918       0.298020   \n",
       "sqft_living      0.117616  0.311009  -0.062826    0.876443       0.447206   \n",
       "sqft_lot         0.017241  0.073907   0.000558    0.216455       0.034842   \n",
       "floors           0.022024  0.031211  -0.275013    0.522814      -0.255510   \n",
       "waterfront       1.000000  0.360935   0.000352    0.078911       0.097501   \n",
       "view             0.360935  1.000000   0.063077    0.174327       0.321602   \n",
       "condition        0.000352  0.063077   1.000000   -0.178196       0.200632   \n",
       "sqft_above       0.078911  0.174327  -0.178196    1.000000      -0.038723   \n",
       "sqft_basement    0.097501  0.321602   0.200632   -0.038723       1.000000   \n",
       "statezip         0.005937  0.095302   0.038038   -0.270585       0.064977   \n",
       "renov_age        0.012502  0.039341  -0.128537   -0.204798       0.056271   \n",
       "\n",
       "               statezip  renov_age  \n",
       "price         -0.046052  -0.016156  \n",
       "bedrooms      -0.153443  -0.088362  \n",
       "bathrooms     -0.206231  -0.249554  \n",
       "sqft_living   -0.210891  -0.156200  \n",
       "sqft_lot      -0.133509  -0.043434  \n",
       "floors        -0.064999  -0.246683  \n",
       "waterfront     0.005937   0.012502  \n",
       "view           0.095302   0.039341  \n",
       "condition      0.038038  -0.128537  \n",
       "sqft_above    -0.270585  -0.204798  \n",
       "sqft_basement  0.064977   0.056271  \n",
       "statezip       1.000000   0.246788  \n",
       "renov_age      0.246788   1.000000  "
      ]
     },
     "execution_count": 68,
     "metadata": {},
     "output_type": "execute_result"
    }
   ],
   "source": [
    "dataset.corr()"
   ]
  },
  {
   "cell_type": "code",
   "execution_count": 50,
   "id": "73c4c96a",
   "metadata": {},
   "outputs": [
    {
     "data": {
      "text/plain": [
       "[['bedrooms', 'bathrooms', 0.5647889608511533],\n",
       " ['bedrooms', 'sqft_living', 0.5894538183836409],\n",
       " ['bathrooms', 'bedrooms', 0.5647889608511533],\n",
       " ['bathrooms', 'sqft_living', 0.7820769929267707],\n",
       " ['bathrooms', 'floors', 0.504646693133105],\n",
       " ['bathrooms', 'sqft_above', 0.7075418642433767],\n",
       " ['sqft_living', 'bedrooms', 0.5894538183836409],\n",
       " ['sqft_living', 'bathrooms', 0.7820769929267707],\n",
       " ['sqft_living', 'sqft_above', 0.8755139908981892],\n",
       " ['floors', 'bathrooms', 0.504646693133105],\n",
       " ['floors', 'sqft_above', 0.6050113319702569],\n",
       " ['sqft_above', 'bathrooms', 0.7075418642433767],\n",
       " ['sqft_above', 'sqft_living', 0.8755139908981892],\n",
       " ['sqft_above', 'floors', 0.6050113319702569]]"
      ]
     },
     "execution_count": 50,
     "metadata": {},
     "output_type": "execute_result"
    }
   ],
   "source": [
    "#print highly correlated variables\n",
    "corr_features =[]\n",
    "\n",
    "for i , r in dataset.corr().iterrows():\n",
    "    k=0\n",
    "    for j in range(len(r)):\n",
    "        if i!= r.index[k]:\n",
    "            if r.values[k] >=0.5:\n",
    "                corr_features.append([i, r.index[k], r.values[k]])\n",
    "        k += 1\n",
    "corr_features"
   ]
  },
  {
   "cell_type": "code",
   "execution_count": 51,
   "id": "cb09c356",
   "metadata": {},
   "outputs": [
    {
     "name": "stdout",
     "output_type": "stream",
     "text": [
      "['sqft_living', 'sqft_above']\n"
     ]
    },
    {
     "data": {
      "text/html": [
       "<div>\n",
       "<style scoped>\n",
       "    .dataframe tbody tr th:only-of-type {\n",
       "        vertical-align: middle;\n",
       "    }\n",
       "\n",
       "    .dataframe tbody tr th {\n",
       "        vertical-align: top;\n",
       "    }\n",
       "\n",
       "    .dataframe thead th {\n",
       "        text-align: right;\n",
       "    }\n",
       "</style>\n",
       "<table border=\"1\" class=\"dataframe\">\n",
       "  <thead>\n",
       "    <tr style=\"text-align: right;\">\n",
       "      <th></th>\n",
       "      <th>price</th>\n",
       "      <th>bedrooms</th>\n",
       "      <th>bathrooms</th>\n",
       "      <th>sqft_living</th>\n",
       "      <th>sqft_lot</th>\n",
       "      <th>floors</th>\n",
       "      <th>waterfront</th>\n",
       "      <th>view</th>\n",
       "      <th>condition</th>\n",
       "      <th>sqft_basement</th>\n",
       "      <th>statezip</th>\n",
       "      <th>city_encoded</th>\n",
       "      <th>renov_age</th>\n",
       "    </tr>\n",
       "  </thead>\n",
       "  <tbody>\n",
       "    <tr>\n",
       "      <th>0</th>\n",
       "      <td>313000.0</td>\n",
       "      <td>3</td>\n",
       "      <td>1.50</td>\n",
       "      <td>1340</td>\n",
       "      <td>7912</td>\n",
       "      <td>1.5</td>\n",
       "      <td>0</td>\n",
       "      <td>0</td>\n",
       "      <td>3</td>\n",
       "      <td>0</td>\n",
       "      <td>98133.0</td>\n",
       "      <td>420392.364047</td>\n",
       "      <td>50.0</td>\n",
       "    </tr>\n",
       "    <tr>\n",
       "      <th>1</th>\n",
       "      <td>2384000.0</td>\n",
       "      <td>5</td>\n",
       "      <td>2.50</td>\n",
       "      <td>3650</td>\n",
       "      <td>9050</td>\n",
       "      <td>2.0</td>\n",
       "      <td>0</td>\n",
       "      <td>4</td>\n",
       "      <td>5</td>\n",
       "      <td>280</td>\n",
       "      <td>98119.0</td>\n",
       "      <td>579837.467282</td>\n",
       "      <td>0.0</td>\n",
       "    </tr>\n",
       "    <tr>\n",
       "      <th>2</th>\n",
       "      <td>342000.0</td>\n",
       "      <td>3</td>\n",
       "      <td>2.00</td>\n",
       "      <td>1930</td>\n",
       "      <td>11947</td>\n",
       "      <td>1.0</td>\n",
       "      <td>0</td>\n",
       "      <td>0</td>\n",
       "      <td>4</td>\n",
       "      <td>0</td>\n",
       "      <td>98042.0</td>\n",
       "      <td>439492.444648</td>\n",
       "      <td>0.0</td>\n",
       "    </tr>\n",
       "    <tr>\n",
       "      <th>3</th>\n",
       "      <td>420000.0</td>\n",
       "      <td>3</td>\n",
       "      <td>2.25</td>\n",
       "      <td>2000</td>\n",
       "      <td>8030</td>\n",
       "      <td>1.0</td>\n",
       "      <td>0</td>\n",
       "      <td>0</td>\n",
       "      <td>4</td>\n",
       "      <td>1000</td>\n",
       "      <td>98008.0</td>\n",
       "      <td>847180.662995</td>\n",
       "      <td>0.0</td>\n",
       "    </tr>\n",
       "    <tr>\n",
       "      <th>4</th>\n",
       "      <td>550000.0</td>\n",
       "      <td>4</td>\n",
       "      <td>2.50</td>\n",
       "      <td>1940</td>\n",
       "      <td>10500</td>\n",
       "      <td>1.0</td>\n",
       "      <td>0</td>\n",
       "      <td>0</td>\n",
       "      <td>4</td>\n",
       "      <td>800</td>\n",
       "      <td>98052.0</td>\n",
       "      <td>667649.534781</td>\n",
       "      <td>16.0</td>\n",
       "    </tr>\n",
       "  </tbody>\n",
       "</table>\n",
       "</div>"
      ],
      "text/plain": [
       "       price  bedrooms  bathrooms  sqft_living  sqft_lot  floors  waterfront  \\\n",
       "0   313000.0         3       1.50         1340      7912     1.5           0   \n",
       "1  2384000.0         5       2.50         3650      9050     2.0           0   \n",
       "2   342000.0         3       2.00         1930     11947     1.0           0   \n",
       "3   420000.0         3       2.25         2000      8030     1.0           0   \n",
       "4   550000.0         4       2.50         1940     10500     1.0           0   \n",
       "\n",
       "   view  condition  sqft_basement  statezip   city_encoded  renov_age  \n",
       "0     0          3              0   98133.0  420392.364047       50.0  \n",
       "1     4          5            280   98119.0  579837.467282        0.0  \n",
       "2     0          4              0   98042.0  439492.444648        0.0  \n",
       "3     0          4           1000   98008.0  847180.662995        0.0  \n",
       "4     0          4            800   98052.0  667649.534781       16.0  "
      ]
     },
     "execution_count": 51,
     "metadata": {},
     "output_type": "execute_result"
    }
   ],
   "source": [
    "#removing highly correlated features that is above 0.8\n",
    "feat =[]\n",
    "for i in corr_features:\n",
    "    if i[2] >= 0.8:\n",
    "        feat.append(i[0])\n",
    "        feat.append(i[1])\n",
    "        \n",
    "print(list(set(feat)))       \n",
    "dataset.drop(['sqft_above'], axis=1, inplace=True)\n",
    "dataset.head()"
   ]
  },
  {
   "cell_type": "code",
   "execution_count": 52,
   "id": "cc7b09ba",
   "metadata": {},
   "outputs": [
    {
     "data": {
      "text/plain": [
       "price            3.272154e+11\n",
       "bedrooms         8.277038e-01\n",
       "bathrooms        6.220088e-01\n",
       "sqft_living      9.392346e+05\n",
       "sqft_lot         1.330093e+09\n",
       "floors           2.552260e-01\n",
       "waterfront       7.174525e-03\n",
       "view             6.085348e-01\n",
       "condition        4.666973e-01\n",
       "sqft_basement    2.197477e+05\n",
       "statezip         2.850063e+03\n",
       "city_encoded     3.541447e+10\n",
       "renov_age        6.455124e+02\n",
       "dtype: float64"
      ]
     },
     "execution_count": 52,
     "metadata": {},
     "output_type": "execute_result"
    }
   ],
   "source": [
    "#Transforming the numerical variables to the same type\n",
    "for i in dataset.select_dtypes(include=['float64','float','int64']).columns:\n",
    "    dataset[i]=dataset[i].astype(float)\n",
    "dataset.var()"
   ]
  },
  {
   "cell_type": "code",
   "execution_count": 45,
   "id": "01a28613",
   "metadata": {},
   "outputs": [
    {
     "data": {
      "text/plain": [
       "(4429, 14)"
      ]
     },
     "execution_count": 45,
     "metadata": {},
     "output_type": "execute_result"
    }
   ],
   "source": [
    "#Dealing with outliers\n",
    "#creating function that can calculate interquartile range of the data\n",
    "def calc_interquartile(data, column):\n",
    "    global lower, upper\n",
    "    #calculating the first and third quartile\n",
    "    first_quartile, third_quartile = np.percentile(data[column], 25), np.percentile(data[column], 75)\n",
    "    #calculate the interquartilerange\n",
    "    iqr = third_quartile - first_quartile\n",
    "    # outlier cutoff (1.5 is a generally taken as a threshold thats why i am also taking it)\n",
    "    cutoff = iqr*1.5\n",
    "    #calculate the lower and upper limits\n",
    "    lower, upper = first_quartile - cutoff , third_quartile + cutoff\n",
    "    #remove the outliers from the columns\n",
    "    upper_outliers = data[data[column] > upper]\n",
    "    lower_outliers = data[data[column] < lower]\n",
    "    print('Lower outliers', lower_outliers.shape[0])\n",
    "    print('Upper outliers', upper_outliers.shape[0])\n",
    "    return print('total outliers', upper_outliers.shape[0] + lower_outliers.shape[0])\n",
    "dataset.shape"
   ]
  },
  {
   "cell_type": "code",
   "execution_count": 64,
   "id": "27f4cea0",
   "metadata": {},
   "outputs": [
    {
     "data": {
      "text/plain": [
       "0.01106344547301874"
      ]
     },
     "execution_count": 64,
     "metadata": {},
     "output_type": "execute_result"
    }
   ],
   "source": [
    "Q1 = dataset.price.quantile(0.25)\n",
    "Q3 = dataset.price.quantile(0.75)\n",
    "IQR = Q3-Q1\n",
    "upper = Q3+1.5*IQR\n",
    "lower = Q1-1.5*IQR\n",
    "df_final = dataset[((dataset.price>(Q1-1.5*IQR)) | (dataset.price<(Q3+1.5*IQR)))]\n",
    "df_final.shape"
   ]
  },
  {
   "cell_type": "code",
   "execution_count": 53,
   "id": "3ade0620",
   "metadata": {},
   "outputs": [],
   "source": [
    "dataset2 = dataset.copy()"
   ]
  },
  {
   "cell_type": "code",
   "execution_count": 54,
   "id": "9804c470",
   "metadata": {},
   "outputs": [],
   "source": [
    "dataset2.drop(dataset2[dataset2['price']==0].index,inplace=True)\n",
    "dataset2.drop(dataset2[dataset2['bedrooms']==0].index,inplace=True)\n",
    "dataset2.drop(dataset2[dataset2['bathrooms']==0].index,inplace=True)"
   ]
  },
  {
   "cell_type": "code",
   "execution_count": 65,
   "id": "5b0d3e59",
   "metadata": {},
   "outputs": [
    {
     "data": {
      "text/plain": [
       "(4378, 15)"
      ]
     },
     "execution_count": 65,
     "metadata": {},
     "output_type": "execute_result"
    }
   ],
   "source": [
    "dataset2.shape"
   ]
  },
  {
   "cell_type": "code",
   "execution_count": 55,
   "id": "6ed8ffee",
   "metadata": {},
   "outputs": [
    {
     "data": {
      "image/png": "[encoded data removed]",
      "text/plain": [
       "<Figure size 432x288 with 1 Axes>"
      ]
     },
     "metadata": {
      "needs_background": "light"
     },
     "output_type": "display_data"
    },
    {
     "name": "stdout",
     "output_type": "stream",
     "text": [
      "0.31853730768344846\n"
     ]
    },
    {
     "data": {
      "image/png": "[encoded data removed]",
      "text/plain": [
       "<Figure size 432x288 with 1 Axes>"
      ]
     },
     "metadata": {
      "needs_background": "light"
     },
     "output_type": "display_data"
    },
    {
     "name": "stdout",
     "output_type": "stream",
     "text": [
      "-0.7393056167292468\n"
     ]
    },
    {
     "data": {
      "image/png": "[encoded data removed]",
      "text/plain": [
       "<Figure size 432x288 with 1 Axes>"
      ]
     },
     "metadata": {
      "needs_background": "light"
     },
     "output_type": "display_data"
    },
    {
     "name": "stdout",
     "output_type": "stream",
     "text": [
      "-0.49980554354608614\n"
     ]
    },
    {
     "data": {
      "image/png": "[encoded data removed]",
      "text/plain": [
       "<Figure size 432x288 with 1 Axes>"
      ]
     },
     "metadata": {
      "needs_background": "light"
     },
     "output_type": "display_data"
    },
    {
     "name": "stdout",
     "output_type": "stream",
     "text": [
      "-0.10112987301339624\n"
     ]
    },
    {
     "data": {
      "image/png": "[encoded data removed]",
      "text/plain": [
       "<Figure size 432x288 with 1 Axes>"
      ]
     },
     "metadata": {
      "needs_background": "light"
     },
     "output_type": "display_data"
    },
    {
     "name": "stdout",
     "output_type": "stream",
     "text": [
      "1.2716016706351592\n"
     ]
    },
    {
     "data": {
      "image/png": "[encoded data removed]",
      "text/plain": [
       "<Figure size 432x288 with 1 Axes>"
      ]
     },
     "metadata": {
      "needs_background": "light"
     },
     "output_type": "display_data"
    },
    {
     "name": "stdout",
     "output_type": "stream",
     "text": [
      "0.20022681904769085\n"
     ]
    },
    {
     "data": {
      "image/png": "[encoded data removed]",
      "text/plain": [
       "<Figure size 432x288 with 1 Axes>"
      ]
     },
     "metadata": {
      "needs_background": "light"
     },
     "output_type": "display_data"
    },
    {
     "name": "stdout",
     "output_type": "stream",
     "text": [
      "0.49531449401994804\n"
     ]
    },
    {
     "data": {
      "image/png": "[encoded data removed]",
      "text/plain": [
       "<Figure size 432x288 with 1 Axes>"
      ]
     },
     "metadata": {
      "needs_background": "light"
     },
     "output_type": "display_data"
    },
    {
     "name": "stdout",
     "output_type": "stream",
     "text": [
      "-0.09509592078807946\n"
     ]
    }
   ],
   "source": [
    "for feature in dataset2[dataset2.columns.drop(['view','condition','waterfront','sqft_basement','renov_age'])]:\n",
    "        dataset2[feature] = np.log(dataset2[feature])\n",
    "        sns.distplot(dataset2[feature])\n",
    "        plt.xlabel(feature)\n",
    "        plt.show()\n",
    "        print(dataset2[feature].skew())"
   ]
  },
  {
   "cell_type": "code",
   "execution_count": 20,
   "id": "d1466a77",
   "metadata": {},
   "outputs": [
    {
     "data": {
      "text/plain": [
       "price            3.006546e-01\n",
       "bedrooms         7.837944e-02\n",
       "bathrooms        1.526831e-01\n",
       "sqft_living      1.854333e-01\n",
       "sqft_lot         7.201798e-01\n",
       "floors           1.151677e-01\n",
       "waterfront                NaN\n",
       "view             5.872324e-01\n",
       "condition        4.640673e-01\n",
       "sqft_basement    2.177964e+05\n",
       "statezip         2.841107e+03\n",
       "city_encoded     3.495627e+10\n",
       "renov_age        6.449330e+02\n",
       "dtype: float64"
      ]
     },
     "execution_count": 20,
     "metadata": {},
     "output_type": "execute_result"
    }
   ],
   "source": [
    "dataset2.var()"
   ]
  },
  {
   "cell_type": "code",
   "execution_count": 56,
   "id": "4e4e4f6a",
   "metadata": {},
   "outputs": [
    {
     "data": {
      "text/html": [
       "<div>\n",
       "<style scoped>\n",
       "    .dataframe tbody tr th:only-of-type {\n",
       "        vertical-align: middle;\n",
       "    }\n",
       "\n",
       "    .dataframe tbody tr th {\n",
       "        vertical-align: top;\n",
       "    }\n",
       "\n",
       "    .dataframe thead th {\n",
       "        text-align: right;\n",
       "    }\n",
       "</style>\n",
       "<table border=\"1\" class=\"dataframe\">\n",
       "  <thead>\n",
       "    <tr style=\"text-align: right;\">\n",
       "      <th></th>\n",
       "      <th>price</th>\n",
       "      <th>bedrooms</th>\n",
       "      <th>bathrooms</th>\n",
       "      <th>sqft_living</th>\n",
       "      <th>sqft_lot</th>\n",
       "      <th>floors</th>\n",
       "      <th>waterfront</th>\n",
       "      <th>view</th>\n",
       "      <th>condition</th>\n",
       "      <th>sqft_basement</th>\n",
       "      <th>statezip</th>\n",
       "      <th>city_encoded</th>\n",
       "      <th>renov_age</th>\n",
       "    </tr>\n",
       "  </thead>\n",
       "  <tbody>\n",
       "    <tr>\n",
       "      <th>0</th>\n",
       "      <td>12.653958</td>\n",
       "      <td>1.098612</td>\n",
       "      <td>0.405465</td>\n",
       "      <td>7.200425</td>\n",
       "      <td>8.976136</td>\n",
       "      <td>0.405465</td>\n",
       "      <td>0.0</td>\n",
       "      <td>0.0</td>\n",
       "      <td>3.0</td>\n",
       "      <td>0.0</td>\n",
       "      <td>11.494079</td>\n",
       "      <td>12.948944</td>\n",
       "      <td>50.0</td>\n",
       "    </tr>\n",
       "    <tr>\n",
       "      <th>1</th>\n",
       "      <td>14.684290</td>\n",
       "      <td>1.609438</td>\n",
       "      <td>0.916291</td>\n",
       "      <td>8.202482</td>\n",
       "      <td>9.110520</td>\n",
       "      <td>0.693147</td>\n",
       "      <td>0.0</td>\n",
       "      <td>4.0</td>\n",
       "      <td>5.0</td>\n",
       "      <td>280.0</td>\n",
       "      <td>11.493936</td>\n",
       "      <td>13.270503</td>\n",
       "      <td>0.0</td>\n",
       "    </tr>\n",
       "    <tr>\n",
       "      <th>2</th>\n",
       "      <td>12.742566</td>\n",
       "      <td>1.098612</td>\n",
       "      <td>0.693147</td>\n",
       "      <td>7.565275</td>\n",
       "      <td>9.388235</td>\n",
       "      <td>0.000000</td>\n",
       "      <td>0.0</td>\n",
       "      <td>0.0</td>\n",
       "      <td>4.0</td>\n",
       "      <td>0.0</td>\n",
       "      <td>11.493151</td>\n",
       "      <td>12.993376</td>\n",
       "      <td>0.0</td>\n",
       "    </tr>\n",
       "    <tr>\n",
       "      <th>3</th>\n",
       "      <td>12.948010</td>\n",
       "      <td>1.098612</td>\n",
       "      <td>0.810930</td>\n",
       "      <td>7.600902</td>\n",
       "      <td>8.990940</td>\n",
       "      <td>0.000000</td>\n",
       "      <td>0.0</td>\n",
       "      <td>0.0</td>\n",
       "      <td>4.0</td>\n",
       "      <td>1000.0</td>\n",
       "      <td>11.492804</td>\n",
       "      <td>13.649669</td>\n",
       "      <td>0.0</td>\n",
       "    </tr>\n",
       "    <tr>\n",
       "      <th>4</th>\n",
       "      <td>13.217674</td>\n",
       "      <td>1.386294</td>\n",
       "      <td>0.916291</td>\n",
       "      <td>7.570443</td>\n",
       "      <td>9.259131</td>\n",
       "      <td>0.000000</td>\n",
       "      <td>0.0</td>\n",
       "      <td>0.0</td>\n",
       "      <td>4.0</td>\n",
       "      <td>800.0</td>\n",
       "      <td>11.493253</td>\n",
       "      <td>13.411519</td>\n",
       "      <td>16.0</td>\n",
       "    </tr>\n",
       "  </tbody>\n",
       "</table>\n",
       "</div>"
      ],
      "text/plain": [
       "       price  bedrooms  bathrooms  sqft_living  sqft_lot    floors  \\\n",
       "0  12.653958  1.098612   0.405465     7.200425  8.976136  0.405465   \n",
       "1  14.684290  1.609438   0.916291     8.202482  9.110520  0.693147   \n",
       "2  12.742566  1.098612   0.693147     7.565275  9.388235  0.000000   \n",
       "3  12.948010  1.098612   0.810930     7.600902  8.990940  0.000000   \n",
       "4  13.217674  1.386294   0.916291     7.570443  9.259131  0.000000   \n",
       "\n",
       "   waterfront  view  condition  sqft_basement   statezip  city_encoded  \\\n",
       "0         0.0   0.0        3.0            0.0  11.494079     12.948944   \n",
       "1         0.0   4.0        5.0          280.0  11.493936     13.270503   \n",
       "2         0.0   0.0        4.0            0.0  11.493151     12.993376   \n",
       "3         0.0   0.0        4.0         1000.0  11.492804     13.649669   \n",
       "4         0.0   0.0        4.0          800.0  11.493253     13.411519   \n",
       "\n",
       "   renov_age  \n",
       "0       50.0  \n",
       "1        0.0  \n",
       "2        0.0  \n",
       "3        0.0  \n",
       "4       16.0  "
      ]
     },
     "execution_count": 56,
     "metadata": {},
     "output_type": "execute_result"
    }
   ],
   "source": [
    "dataset3 = dataset2.select_dtypes(exclude=['object'])\n",
    "dataset3.head()"
   ]
  },
  {
   "cell_type": "code",
   "execution_count": 22,
   "id": "ab340c9c",
   "metadata": {},
   "outputs": [],
   "source": [
    "X = dataset3.drop(['price'],axis=1)\n",
    "Y = dataset3['price']"
   ]
  },
  {
   "cell_type": "code",
   "execution_count": 88,
   "id": "490e5d83",
   "metadata": {},
   "outputs": [
    {
     "data": {
      "text/html": [
       "<div>\n",
       "<style scoped>\n",
       "    .dataframe tbody tr th:only-of-type {\n",
       "        vertical-align: middle;\n",
       "    }\n",
       "\n",
       "    .dataframe tbody tr th {\n",
       "        vertical-align: top;\n",
       "    }\n",
       "\n",
       "    .dataframe thead th {\n",
       "        text-align: right;\n",
       "    }\n",
       "</style>\n",
       "<table border=\"1\" class=\"dataframe\">\n",
       "  <thead>\n",
       "    <tr style=\"text-align: right;\">\n",
       "      <th></th>\n",
       "      <th>bedrooms</th>\n",
       "      <th>bathrooms</th>\n",
       "      <th>sqft_living</th>\n",
       "      <th>sqft_lot</th>\n",
       "      <th>floors</th>\n",
       "      <th>waterfront</th>\n",
       "      <th>view</th>\n",
       "      <th>condition</th>\n",
       "      <th>statezip</th>\n",
       "      <th>city_encoded</th>\n",
       "      <th>renov_age</th>\n",
       "      <th>sqft_basement</th>\n",
       "    </tr>\n",
       "  </thead>\n",
       "  <tbody>\n",
       "    <tr>\n",
       "      <th>0</th>\n",
       "      <td>1.098612</td>\n",
       "      <td>0.405465</td>\n",
       "      <td>7.200425</td>\n",
       "      <td>8.976136</td>\n",
       "      <td>0.405465</td>\n",
       "      <td>0.0</td>\n",
       "      <td>0.0</td>\n",
       "      <td>3.0</td>\n",
       "      <td>98133.0</td>\n",
       "      <td>12.948944</td>\n",
       "      <td>50.0</td>\n",
       "      <td>0.0</td>\n",
       "    </tr>\n",
       "    <tr>\n",
       "      <th>1</th>\n",
       "      <td>1.609438</td>\n",
       "      <td>0.916291</td>\n",
       "      <td>8.202482</td>\n",
       "      <td>9.110520</td>\n",
       "      <td>0.693147</td>\n",
       "      <td>0.0</td>\n",
       "      <td>4.0</td>\n",
       "      <td>5.0</td>\n",
       "      <td>98119.0</td>\n",
       "      <td>13.270503</td>\n",
       "      <td>0.0</td>\n",
       "      <td>280.0</td>\n",
       "    </tr>\n",
       "    <tr>\n",
       "      <th>2</th>\n",
       "      <td>1.098612</td>\n",
       "      <td>0.693147</td>\n",
       "      <td>7.565275</td>\n",
       "      <td>9.388235</td>\n",
       "      <td>0.000000</td>\n",
       "      <td>0.0</td>\n",
       "      <td>0.0</td>\n",
       "      <td>4.0</td>\n",
       "      <td>98042.0</td>\n",
       "      <td>12.993376</td>\n",
       "      <td>0.0</td>\n",
       "      <td>0.0</td>\n",
       "    </tr>\n",
       "    <tr>\n",
       "      <th>3</th>\n",
       "      <td>1.098612</td>\n",
       "      <td>0.810930</td>\n",
       "      <td>7.600902</td>\n",
       "      <td>8.990940</td>\n",
       "      <td>0.000000</td>\n",
       "      <td>0.0</td>\n",
       "      <td>0.0</td>\n",
       "      <td>4.0</td>\n",
       "      <td>98008.0</td>\n",
       "      <td>13.649669</td>\n",
       "      <td>0.0</td>\n",
       "      <td>1000.0</td>\n",
       "    </tr>\n",
       "    <tr>\n",
       "      <th>4</th>\n",
       "      <td>1.386294</td>\n",
       "      <td>0.916291</td>\n",
       "      <td>7.570443</td>\n",
       "      <td>9.259131</td>\n",
       "      <td>0.000000</td>\n",
       "      <td>0.0</td>\n",
       "      <td>0.0</td>\n",
       "      <td>4.0</td>\n",
       "      <td>98052.0</td>\n",
       "      <td>13.411519</td>\n",
       "      <td>16.0</td>\n",
       "      <td>800.0</td>\n",
       "    </tr>\n",
       "  </tbody>\n",
       "</table>\n",
       "</div>"
      ],
      "text/plain": [
       "   bedrooms  bathrooms  sqft_living  sqft_lot    floors  waterfront  view  \\\n",
       "0  1.098612   0.405465     7.200425  8.976136  0.405465         0.0   0.0   \n",
       "1  1.609438   0.916291     8.202482  9.110520  0.693147         0.0   4.0   \n",
       "2  1.098612   0.693147     7.565275  9.388235  0.000000         0.0   0.0   \n",
       "3  1.098612   0.810930     7.600902  8.990940  0.000000         0.0   0.0   \n",
       "4  1.386294   0.916291     7.570443  9.259131  0.000000         0.0   0.0   \n",
       "\n",
       "   condition  statezip  city_encoded  renov_age  sqft_basement  \n",
       "0        3.0   98133.0     12.948944       50.0            0.0  \n",
       "1        5.0   98119.0     13.270503        0.0          280.0  \n",
       "2        4.0   98042.0     12.993376        0.0            0.0  \n",
       "3        4.0   98008.0     13.649669        0.0         1000.0  \n",
       "4        4.0   98052.0     13.411519       16.0          800.0  "
      ]
     },
     "execution_count": 88,
     "metadata": {},
     "output_type": "execute_result"
    }
   ],
   "source": [
    "X['waterfront'] = dataset['waterfront']\n",
    "X['sqft_basement']= dataset['sqft_basement']\n",
    "X.head()"
   ]
  },
  {
   "cell_type": "code",
   "execution_count": 85,
   "id": "5e542ff5",
   "metadata": {},
   "outputs": [],
   "source": [
    "from sklearn.preprocessing import MinMaxScaler\n",
    "scaler = MinMaxScaler()\n",
    "X_scaled = scaler.fit_transform(X)"
   ]
  },
  {
   "cell_type": "code",
   "execution_count": 86,
   "id": "989b21ab",
   "metadata": {},
   "outputs": [
    {
     "name": "stdout",
     "output_type": "stream",
     "text": [
      "r2 score :0.7468216318073666\n",
      "mean squared error : 0.07391723037651017\n"
     ]
    }
   ],
   "source": [
    "from sklearn.model_selection import train_test_split\n",
    "from sklearn.metrics import mean_squared_error, r2_score\n",
    "from sklearn.linear_model import LinearRegression\n",
    "from xgboost import XGBRegressor\n",
    "x_train, x_test, y_train, y_test = train_test_split(X, Y, test_size = 0.3, random_state=42)\n",
    "lr = XGBRegressor()\n",
    "lr.fit(x_train, y_train)\n",
    "pred = lr.predict(x_test)\n",
    "print(f\"r2 score :{r2_score(y_test, pred)}\")\n",
    "print(f\"mean squared error : {mean_squared_error(y_test,pred)}\")"
   ]
  },
  {
   "cell_type": "code",
   "execution_count": 79,
   "id": "ac297eb1",
   "metadata": {},
   "outputs": [
    {
     "name": "stdout",
     "output_type": "stream",
     "text": [
      "Total outliers in  price\n",
      "Lower outliers 0\n",
      "Upper outliers 229\n",
      "total outliers 229\n",
      "\n",
      "Total outliers in  bedrooms\n",
      "Lower outliers 39\n",
      "Upper outliers 76\n",
      "total outliers 115\n",
      "\n",
      "Total outliers in  bathrooms\n",
      "Lower outliers 2\n",
      "Upper outliers 137\n",
      "total outliers 139\n",
      "\n",
      "Total outliers in  sqft_living\n",
      "Lower outliers 0\n",
      "Upper outliers 122\n",
      "total outliers 122\n",
      "\n",
      "Total outliers in  sqft_lot\n",
      "Lower outliers 0\n",
      "Upper outliers 539\n",
      "total outliers 539\n",
      "\n",
      "Total outliers in  floors\n",
      "Lower outliers 0\n",
      "Upper outliers 0\n",
      "total outliers 0\n",
      "\n",
      "Total outliers in  waterfront\n",
      "Lower outliers 0\n",
      "Upper outliers 32\n",
      "total outliers 32\n",
      "\n",
      "Total outliers in  view\n",
      "Lower outliers 0\n",
      "Upper outliers 449\n",
      "total outliers 449\n",
      "\n",
      "Total outliers in  condition\n",
      "Lower outliers 6\n",
      "Upper outliers 0\n",
      "total outliers 6\n",
      "\n",
      "Total outliers in  sqft_basement\n",
      "Lower outliers 0\n",
      "Upper outliers 71\n",
      "total outliers 71\n",
      "\n",
      "Total outliers in  statezip\n",
      "Lower outliers 0\n",
      "Upper outliers 5\n",
      "total outliers 5\n",
      "\n",
      "Total outliers in  renov_age\n",
      "Lower outliers 0\n",
      "Upper outliers 108\n",
      "total outliers 108\n",
      "\n"
     ]
    }
   ],
   "source": [
    "#applying the above function on columns to find the total outliers in every feature\n",
    "for i in dataset[dataset2.columns.drop(['street','city'])]:\n",
    "    print('Total outliers in ', i)\n",
    "    calc_interquartile(dataset, i)\n",
    "    print()"
   ]
  },
  {
   "cell_type": "code",
   "execution_count": 53,
   "id": "f2bc4174",
   "metadata": {},
   "outputs": [],
   "source": [
    "\"\"\" creating function for calculating zscore which is subtracting the mean from every data point and dividing by the standard deviation \n",
    "and if the zscore value of any data point is less than -3 or greater than 3, then that data point is an outlier\"\"\"\n",
    "\n",
    "def z_score(data, column):\n",
    "    #creating global variables for plotting the graph for better demonstration\n",
    "    global zscore, outlier\n",
    "    #creating lists to store zscore and outliers \n",
    "    zscore = []\n",
    "    outlier =[]\n",
    "    # for zscore generally taken thresholds are 2.5, 3 or 3.5 hence i took 3\n",
    "    threshold = 3\n",
    "    # calculating the mean of the passed column\n",
    "    mean = np.mean(data[column])\n",
    "    # calculating the standard deviation of the passed column\n",
    "    std = np.std(data[column])\n",
    "    for i in data[column]:\n",
    "        z = (i-mean)/std\n",
    "        zscore.append(z)\n",
    "        #if the zscore is greater than threshold = 3 that means it is an outlier\n",
    "        if np.abs(z) > threshold:\n",
    "            outlier.append(i)\n",
    "    return print('total outliers', len(outlier))"
   ]
  },
  {
   "cell_type": "code",
   "execution_count": 54,
   "id": "a5dba28c",
   "metadata": {},
   "outputs": [
    {
     "name": "stdout",
     "output_type": "stream",
     "text": [
      "total outliers 32\n"
     ]
    },
    {
     "data": {
      "text/html": [
       "<div>\n",
       "<style scoped>\n",
       "    .dataframe tbody tr th:only-of-type {\n",
       "        vertical-align: middle;\n",
       "    }\n",
       "\n",
       "    .dataframe tbody tr th {\n",
       "        vertical-align: top;\n",
       "    }\n",
       "\n",
       "    .dataframe thead th {\n",
       "        text-align: right;\n",
       "    }\n",
       "</style>\n",
       "<table border=\"1\" class=\"dataframe\">\n",
       "  <thead>\n",
       "    <tr style=\"text-align: right;\">\n",
       "      <th></th>\n",
       "      <th>price</th>\n",
       "      <th>bedrooms</th>\n",
       "      <th>bathrooms</th>\n",
       "      <th>sqft_living</th>\n",
       "      <th>sqft_lot</th>\n",
       "      <th>floors</th>\n",
       "      <th>waterfront</th>\n",
       "      <th>view</th>\n",
       "      <th>condition</th>\n",
       "      <th>sqft_basement</th>\n",
       "      <th>street</th>\n",
       "      <th>city</th>\n",
       "      <th>statezip</th>\n",
       "      <th>renov_age</th>\n",
       "    </tr>\n",
       "  </thead>\n",
       "  <tbody>\n",
       "    <tr>\n",
       "      <th>0</th>\n",
       "      <td>313000.0</td>\n",
       "      <td>3.0</td>\n",
       "      <td>1.50</td>\n",
       "      <td>1340.0</td>\n",
       "      <td>7912.0</td>\n",
       "      <td>1.5</td>\n",
       "      <td>0.0</td>\n",
       "      <td>0.0</td>\n",
       "      <td>3.0</td>\n",
       "      <td>0.0</td>\n",
       "      <td>18810 Densmore Ave N</td>\n",
       "      <td>Shoreline</td>\n",
       "      <td>98133.0</td>\n",
       "      <td>50.0</td>\n",
       "    </tr>\n",
       "    <tr>\n",
       "      <th>1</th>\n",
       "      <td>2384000.0</td>\n",
       "      <td>5.0</td>\n",
       "      <td>2.50</td>\n",
       "      <td>3650.0</td>\n",
       "      <td>9050.0</td>\n",
       "      <td>2.0</td>\n",
       "      <td>0.0</td>\n",
       "      <td>4.0</td>\n",
       "      <td>5.0</td>\n",
       "      <td>280.0</td>\n",
       "      <td>709 W Blaine St</td>\n",
       "      <td>Seattle</td>\n",
       "      <td>98119.0</td>\n",
       "      <td>0.0</td>\n",
       "    </tr>\n",
       "    <tr>\n",
       "      <th>2</th>\n",
       "      <td>342000.0</td>\n",
       "      <td>3.0</td>\n",
       "      <td>2.00</td>\n",
       "      <td>1930.0</td>\n",
       "      <td>11947.0</td>\n",
       "      <td>1.0</td>\n",
       "      <td>0.0</td>\n",
       "      <td>0.0</td>\n",
       "      <td>4.0</td>\n",
       "      <td>0.0</td>\n",
       "      <td>26206-26214 143rd Ave SE</td>\n",
       "      <td>Kent</td>\n",
       "      <td>98042.0</td>\n",
       "      <td>0.0</td>\n",
       "    </tr>\n",
       "    <tr>\n",
       "      <th>3</th>\n",
       "      <td>420000.0</td>\n",
       "      <td>3.0</td>\n",
       "      <td>2.25</td>\n",
       "      <td>2000.0</td>\n",
       "      <td>8030.0</td>\n",
       "      <td>1.0</td>\n",
       "      <td>0.0</td>\n",
       "      <td>0.0</td>\n",
       "      <td>4.0</td>\n",
       "      <td>1000.0</td>\n",
       "      <td>857 170th Pl NE</td>\n",
       "      <td>Bellevue</td>\n",
       "      <td>98008.0</td>\n",
       "      <td>0.0</td>\n",
       "    </tr>\n",
       "    <tr>\n",
       "      <th>4</th>\n",
       "      <td>550000.0</td>\n",
       "      <td>4.0</td>\n",
       "      <td>2.50</td>\n",
       "      <td>1940.0</td>\n",
       "      <td>10500.0</td>\n",
       "      <td>1.0</td>\n",
       "      <td>0.0</td>\n",
       "      <td>0.0</td>\n",
       "      <td>4.0</td>\n",
       "      <td>800.0</td>\n",
       "      <td>9105 170th Ave NE</td>\n",
       "      <td>Redmond</td>\n",
       "      <td>98052.0</td>\n",
       "      <td>16.0</td>\n",
       "    </tr>\n",
       "  </tbody>\n",
       "</table>\n",
       "</div>"
      ],
      "text/plain": [
       "       price  bedrooms  bathrooms  sqft_living  sqft_lot  floors  waterfront  \\\n",
       "0   313000.0       3.0       1.50       1340.0    7912.0     1.5         0.0   \n",
       "1  2384000.0       5.0       2.50       3650.0    9050.0     2.0         0.0   \n",
       "2   342000.0       3.0       2.00       1930.0   11947.0     1.0         0.0   \n",
       "3   420000.0       3.0       2.25       2000.0    8030.0     1.0         0.0   \n",
       "4   550000.0       4.0       2.50       1940.0   10500.0     1.0         0.0   \n",
       "\n",
       "   view  condition  sqft_basement                    street       city  \\\n",
       "0   0.0        3.0            0.0      18810 Densmore Ave N  Shoreline   \n",
       "1   4.0        5.0          280.0           709 W Blaine St    Seattle   \n",
       "2   0.0        4.0            0.0  26206-26214 143rd Ave SE       Kent   \n",
       "3   0.0        4.0         1000.0           857 170th Pl NE   Bellevue   \n",
       "4   0.0        4.0          800.0         9105 170th Ave NE    Redmond   \n",
       "\n",
       "   statezip  renov_age  \n",
       "0   98133.0       50.0  \n",
       "1   98119.0        0.0  \n",
       "2   98042.0        0.0  \n",
       "3   98008.0        0.0  \n",
       "4   98052.0       16.0  "
      ]
     },
     "execution_count": 54,
     "metadata": {},
     "output_type": "execute_result"
    }
   ],
   "source": [
    "z_score(dataset,\"price\")\n",
    "dataset.head()"
   ]
  },
  {
   "cell_type": "code",
   "execution_count": 77,
   "id": "6db7d213",
   "metadata": {},
   "outputs": [
    {
     "name": "stdout",
     "output_type": "stream",
     "text": [
      "Count of zeros in column  price  is :  0\n",
      "Count of zeros in column  bedrooms  is :  0\n",
      "Count of zeros in column  bathrooms  is :  0\n",
      "Count of zeros in column  sqft_living  is :  0\n",
      "Count of zeros in column  sqft_lot  is :  0\n",
      "Count of zeros in column  floors  is :  0\n",
      "Count of zeros in column  waterfront  is :  4349\n",
      "Count of zeros in column  view  is :  3942\n",
      "Count of zeros in column  condition  is :  0\n",
      "Count of zeros in column  sqft_basement  is :  2642\n",
      "Count of zeros in column  street  is :  0\n",
      "Count of zeros in column  city  is :  0\n",
      "Count of zeros in column  statezip  is :  0\n",
      "Count of zeros in column  renov_age  is :  2772\n"
     ]
    }
   ],
   "source": [
    "#Number of zeroes in each column\n",
    "for column_name in dataset2.columns:\n",
    "    column = dataset2[column_name]\n",
    "    # Get the count of Zeros in column \n",
    "    count = (column == 0).sum()\n",
    "    print('Count of zeros in column ', column_name, ' is : ', count)"
   ]
  }
 ],
 "metadata": {
  "kernelspec": {
   "display_name": "Python 3",
   "language": "python",
   "name": "python3"
  },
  "language_info": {
   "codemirror_mode": {
    "name": "ipython",
    "version": 3
   },
   "file_extension": ".py",
   "mimetype": "text/x-python",
   "name": "python",
   "nbconvert_exporter": "python",
   "pygments_lexer": "ipython3",
   "version": "3.8.8"
  }
 },
 "nbformat": 4,
 "nbformat_minor": 5
}
