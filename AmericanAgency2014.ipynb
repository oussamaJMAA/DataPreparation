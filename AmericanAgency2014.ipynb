{
  "nbformat": 4,
  "nbformat_minor": 0,
  "metadata": {
    "colab": {
      "provenance": [],
      "collapsed_sections": [],
      "authorship_tag": "ABX9TyO1l0J+l4v5r5GyetiOqrTj",
      "include_colab_link": true
    },
    "kernelspec": {
      "name": "python3",
      "display_name": "Python 3"
    },
    "language_info": {
      "name": "python"
    }
  },
  "cells": [
    {
      "cell_type": "markdown",
      "metadata": {
        "id": "view-in-github",
        "colab_type": "text"
      },
      "source": [
        "<a href=\"https://colab.research.google.com/github/oussamaJMAA/DataPreparation/blob/main/AmericanAgency2014.ipynb\" target=\"_parent\"><img src=\"https://colab.research.google.com/assets/colab-badge.svg\" alt=\"Open In Colab\"/></a>"
      ]
    },
    {
      "cell_type": "code",
      "execution_count": 116,
      "metadata": {
        "id": "XwW1FRgeHELa"
      },
      "outputs": [],
      "source": [
        "#Importing the libraries\n",
        "import pandas as pd\n",
        "import numpy as np\n",
        "import matplotlib.pyplot as plt\n",
        "import seaborn as sns\n",
        "import warnings\n",
        "from pandas_profiling import ProfileReport\n",
        "from scipy.stats import boxcox\n",
        "%matplotlib inline\n",
        "def ignore_warn(*args, **kwargs):\n",
        "    pass\n",
        "warnings.warn = ignore_warn #ignore annoying warning (from sklearn and seaborn)"
      ]
    },
    {
      "cell_type": "code",
      "source": [
        "#Importing the Dataset\n",
        "dataset = pd.read_excel(\"AgencyDataset.xlsx\")\n",
        "dataset.head()"
      ],
      "metadata": {
        "colab": {
          "base_uri": "https://localhost:8080/",
          "height": 426
        },
        "id": "s-MMDQQvHLYl",
        "outputId": "1852baf9-0047-4cfd-95df-c8d50fbb63d5"
      },
      "execution_count": 117,
      "outputs": [
        {
          "output_type": "execute_result",
          "data": {
            "text/plain": [
              "        date      price  bedrooms  bathrooms  sqft_living  sqft_lot  floors  \\\n",
              "0 2014-05-02   313000.0         3       1.50         1340      7912     1.5   \n",
              "1 2014-05-02  2384000.0         5       2.50         3650      9050     2.0   \n",
              "2 2014-05-02   342000.0         3       2.00         1930     11947     1.0   \n",
              "3 2014-05-02   420000.0         3       2.25         2000      8030     1.0   \n",
              "4 2014-05-02   550000.0         4       2.50         1940     10500     1.0   \n",
              "\n",
              "   waterfront  view  condition  sqft_above  sqft_basement  yr_built  \\\n",
              "0           0     0          3        1340              0      1955   \n",
              "1           0     4          5        3370            280      1921   \n",
              "2           0     0          4        1930              0      1966   \n",
              "3           0     0          4        1000           1000      1963   \n",
              "4           0     0          4        1140            800      1976   \n",
              "\n",
              "   yr_renovated                    street       city  statezip country  \n",
              "0          2005      18810 Densmore Ave N  Shoreline  WA 98133     USA  \n",
              "1             0           709 W Blaine St    Seattle  WA 98119     USA  \n",
              "2             0  26206-26214 143rd Ave SE       Kent  WA 98042     USA  \n",
              "3             0           857 170th Pl NE   Bellevue  WA 98008     USA  \n",
              "4          1992         9105 170th Ave NE    Redmond  WA 98052     USA  "
            ],
            "text/html": [
              "\n",
              "  <div id=\"df-62b7d3df-96da-4c85-95dd-ceb6d8583543\">\n",
              "    <div class=\"colab-df-container\">\n",
              "      <div>\n",
              "<style scoped>\n",
              "    .dataframe tbody tr th:only-of-type {\n",
              "        vertical-align: middle;\n",
              "    }\n",
              "\n",
              "    .dataframe tbody tr th {\n",
              "        vertical-align: top;\n",
              "    }\n",
              "\n",
              "    .dataframe thead th {\n",
              "        text-align: right;\n",
              "    }\n",
              "</style>\n",
              "<table border=\"1\" class=\"dataframe\">\n",
              "  <thead>\n",
              "    <tr style=\"text-align: right;\">\n",
              "      <th></th>\n",
              "      <th>date</th>\n",
              "      <th>price</th>\n",
              "      <th>bedrooms</th>\n",
              "      <th>bathrooms</th>\n",
              "      <th>sqft_living</th>\n",
              "      <th>sqft_lot</th>\n",
              "      <th>floors</th>\n",
              "      <th>waterfront</th>\n",
              "      <th>view</th>\n",
              "      <th>condition</th>\n",
              "      <th>sqft_above</th>\n",
              "      <th>sqft_basement</th>\n",
              "      <th>yr_built</th>\n",
              "      <th>yr_renovated</th>\n",
              "      <th>street</th>\n",
              "      <th>city</th>\n",
              "      <th>statezip</th>\n",
              "      <th>country</th>\n",
              "    </tr>\n",
              "  </thead>\n",
              "  <tbody>\n",
              "    <tr>\n",
              "      <th>0</th>\n",
              "      <td>2014-05-02</td>\n",
              "      <td>313000.0</td>\n",
              "      <td>3</td>\n",
              "      <td>1.50</td>\n",
              "      <td>1340</td>\n",
              "      <td>7912</td>\n",
              "      <td>1.5</td>\n",
              "      <td>0</td>\n",
              "      <td>0</td>\n",
              "      <td>3</td>\n",
              "      <td>1340</td>\n",
              "      <td>0</td>\n",
              "      <td>1955</td>\n",
              "      <td>2005</td>\n",
              "      <td>18810 Densmore Ave N</td>\n",
              "      <td>Shoreline</td>\n",
              "      <td>WA 98133</td>\n",
              "      <td>USA</td>\n",
              "    </tr>\n",
              "    <tr>\n",
              "      <th>1</th>\n",
              "      <td>2014-05-02</td>\n",
              "      <td>2384000.0</td>\n",
              "      <td>5</td>\n",
              "      <td>2.50</td>\n",
              "      <td>3650</td>\n",
              "      <td>9050</td>\n",
              "      <td>2.0</td>\n",
              "      <td>0</td>\n",
              "      <td>4</td>\n",
              "      <td>5</td>\n",
              "      <td>3370</td>\n",
              "      <td>280</td>\n",
              "      <td>1921</td>\n",
              "      <td>0</td>\n",
              "      <td>709 W Blaine St</td>\n",
              "      <td>Seattle</td>\n",
              "      <td>WA 98119</td>\n",
              "      <td>USA</td>\n",
              "    </tr>\n",
              "    <tr>\n",
              "      <th>2</th>\n",
              "      <td>2014-05-02</td>\n",
              "      <td>342000.0</td>\n",
              "      <td>3</td>\n",
              "      <td>2.00</td>\n",
              "      <td>1930</td>\n",
              "      <td>11947</td>\n",
              "      <td>1.0</td>\n",
              "      <td>0</td>\n",
              "      <td>0</td>\n",
              "      <td>4</td>\n",
              "      <td>1930</td>\n",
              "      <td>0</td>\n",
              "      <td>1966</td>\n",
              "      <td>0</td>\n",
              "      <td>26206-26214 143rd Ave SE</td>\n",
              "      <td>Kent</td>\n",
              "      <td>WA 98042</td>\n",
              "      <td>USA</td>\n",
              "    </tr>\n",
              "    <tr>\n",
              "      <th>3</th>\n",
              "      <td>2014-05-02</td>\n",
              "      <td>420000.0</td>\n",
              "      <td>3</td>\n",
              "      <td>2.25</td>\n",
              "      <td>2000</td>\n",
              "      <td>8030</td>\n",
              "      <td>1.0</td>\n",
              "      <td>0</td>\n",
              "      <td>0</td>\n",
              "      <td>4</td>\n",
              "      <td>1000</td>\n",
              "      <td>1000</td>\n",
              "      <td>1963</td>\n",
              "      <td>0</td>\n",
              "      <td>857 170th Pl NE</td>\n",
              "      <td>Bellevue</td>\n",
              "      <td>WA 98008</td>\n",
              "      <td>USA</td>\n",
              "    </tr>\n",
              "    <tr>\n",
              "      <th>4</th>\n",
              "      <td>2014-05-02</td>\n",
              "      <td>550000.0</td>\n",
              "      <td>4</td>\n",
              "      <td>2.50</td>\n",
              "      <td>1940</td>\n",
              "      <td>10500</td>\n",
              "      <td>1.0</td>\n",
              "      <td>0</td>\n",
              "      <td>0</td>\n",
              "      <td>4</td>\n",
              "      <td>1140</td>\n",
              "      <td>800</td>\n",
              "      <td>1976</td>\n",
              "      <td>1992</td>\n",
              "      <td>9105 170th Ave NE</td>\n",
              "      <td>Redmond</td>\n",
              "      <td>WA 98052</td>\n",
              "      <td>USA</td>\n",
              "    </tr>\n",
              "  </tbody>\n",
              "</table>\n",
              "</div>\n",
              "      <button class=\"colab-df-convert\" onclick=\"convertToInteractive('df-62b7d3df-96da-4c85-95dd-ceb6d8583543')\"\n",
              "              title=\"Convert this dataframe to an interactive table.\"\n",
              "              style=\"display:none;\">\n",
              "        \n",
              "  <svg xmlns=\"http://www.w3.org/2000/svg\" height=\"24px\"viewBox=\"0 0 24 24\"\n",
              "       width=\"24px\">\n",
              "    <path d=\"M0 0h24v24H0V0z\" fill=\"none\"/>\n",
              "    <path d=\"M18.56 5.44l.94 2.06.94-2.06 2.06-.94-2.06-.94-.94-2.06-.94 2.06-2.06.94zm-11 1L8.5 8.5l.94-2.06 2.06-.94-2.06-.94L8.5 2.5l-.94 2.06-2.06.94zm10 10l.94 2.06.94-2.06 2.06-.94-2.06-.94-.94-2.06-.94 2.06-2.06.94z\"/><path d=\"M17.41 7.96l-1.37-1.37c-.4-.4-.92-.59-1.43-.59-.52 0-1.04.2-1.43.59L10.3 9.45l-7.72 7.72c-.78.78-.78 2.05 0 2.83L4 21.41c.39.39.9.59 1.41.59.51 0 1.02-.2 1.41-.59l7.78-7.78 2.81-2.81c.8-.78.8-2.07 0-2.86zM5.41 20L4 18.59l7.72-7.72 1.47 1.35L5.41 20z\"/>\n",
              "  </svg>\n",
              "      </button>\n",
              "      \n",
              "  <style>\n",
              "    .colab-df-container {\n",
              "      display:flex;\n",
              "      flex-wrap:wrap;\n",
              "      gap: 12px;\n",
              "    }\n",
              "\n",
              "    .colab-df-convert {\n",
              "      background-color: #E8F0FE;\n",
              "      border: none;\n",
              "      border-radius: 50%;\n",
              "      cursor: pointer;\n",
              "      display: none;\n",
              "      fill: #1967D2;\n",
              "      height: 32px;\n",
              "      padding: 0 0 0 0;\n",
              "      width: 32px;\n",
              "    }\n",
              "\n",
              "    .colab-df-convert:hover {\n",
              "      background-color: #E2EBFA;\n",
              "      box-shadow: 0px 1px 2px rgba(60, 64, 67, 0.3), 0px 1px 3px 1px rgba(60, 64, 67, 0.15);\n",
              "      fill: #174EA6;\n",
              "    }\n",
              "\n",
              "    [theme=dark] .colab-df-convert {\n",
              "      background-color: #3B4455;\n",
              "      fill: #D2E3FC;\n",
              "    }\n",
              "\n",
              "    [theme=dark] .colab-df-convert:hover {\n",
              "      background-color: #434B5C;\n",
              "      box-shadow: 0px 1px 3px 1px rgba(0, 0, 0, 0.15);\n",
              "      filter: drop-shadow(0px 1px 2px rgba(0, 0, 0, 0.3));\n",
              "      fill: #FFFFFF;\n",
              "    }\n",
              "  </style>\n",
              "\n",
              "      <script>\n",
              "        const buttonEl =\n",
              "          document.querySelector('#df-62b7d3df-96da-4c85-95dd-ceb6d8583543 button.colab-df-convert');\n",
              "        buttonEl.style.display =\n",
              "          google.colab.kernel.accessAllowed ? 'block' : 'none';\n",
              "\n",
              "        async function convertToInteractive(key) {\n",
              "          const element = document.querySelector('#df-62b7d3df-96da-4c85-95dd-ceb6d8583543');\n",
              "          const dataTable =\n",
              "            await google.colab.kernel.invokeFunction('convertToInteractive',\n",
              "                                                     [key], {});\n",
              "          if (!dataTable) return;\n",
              "\n",
              "          const docLinkHtml = 'Like what you see? Visit the ' +\n",
              "            '<a target=\"_blank\" href=https://colab.research.google.com/notebooks/data_table.ipynb>data table notebook</a>'\n",
              "            + ' to learn more about interactive tables.';\n",
              "          element.innerHTML = '';\n",
              "          dataTable['output_type'] = 'display_data';\n",
              "          await google.colab.output.renderOutput(dataTable, element);\n",
              "          const docLink = document.createElement('div');\n",
              "          docLink.innerHTML = docLinkHtml;\n",
              "          element.appendChild(docLink);\n",
              "        }\n",
              "      </script>\n",
              "    </div>\n",
              "  </div>\n",
              "  "
            ]
          },
          "metadata": {},
          "execution_count": 117
        }
      ]
    },
    {
      "cell_type": "code",
      "source": [
        "#Dropping the country column because it has one dominant category \n",
        "dataset.drop(['country'],axis=1,inplace=True)"
      ],
      "metadata": {
        "id": "5syGB1cJLOFM"
      },
      "execution_count": 118,
      "outputs": []
    },
    {
      "cell_type": "code",
      "source": [
        "#Number of zeroes in each column\n",
        "for column_name in dataset:\n",
        "    column = dataset[column_name]\n",
        "    # Get the count of Zeros in column \n",
        "    count = (column == 0).sum()\n",
        "    print('Count of zeros in column ', column_name, ' is : ', count)"
      ],
      "metadata": {
        "colab": {
          "base_uri": "https://localhost:8080/"
        },
        "id": "Pw-LhgbXMLEm",
        "outputId": "040bc121-6575-4756-d9d9-b40d67404d96"
      },
      "execution_count": 119,
      "outputs": [
        {
          "output_type": "stream",
          "name": "stdout",
          "text": [
            "Count of zeros in column  date  is :  0\n",
            "Count of zeros in column  price  is :  49\n",
            "Count of zeros in column  bedrooms  is :  2\n",
            "Count of zeros in column  bathrooms  is :  2\n",
            "Count of zeros in column  sqft_living  is :  0\n",
            "Count of zeros in column  sqft_lot  is :  0\n",
            "Count of zeros in column  floors  is :  0\n",
            "Count of zeros in column  waterfront  is :  4567\n",
            "Count of zeros in column  view  is :  4140\n",
            "Count of zeros in column  condition  is :  0\n",
            "Count of zeros in column  sqft_above  is :  0\n",
            "Count of zeros in column  sqft_basement  is :  2745\n",
            "Count of zeros in column  yr_built  is :  0\n",
            "Count of zeros in column  yr_renovated  is :  2735\n",
            "Count of zeros in column  street  is :  0\n",
            "Count of zeros in column  city  is :  0\n",
            "Count of zeros in column  statezip  is :  0\n"
          ]
        }
      ]
    },
    {
      "cell_type": "code",
      "source": [
        "#Dropoing rows that has 0 in price , bedrooms and bathrooms  \n",
        "dataset.drop(dataset[dataset['price']==0].index,inplace=True)\n",
        "dataset.drop(dataset[dataset['bedrooms']==0].index,inplace=True)\n",
        "dataset.drop(dataset[dataset['bathrooms']==0].index,inplace=True)\n"
      ],
      "metadata": {
        "id": "xO5-FK6lHfuG"
      },
      "execution_count": 120,
      "outputs": []
    },
    {
      "cell_type": "code",
      "source": [
        "#print highly correlated variables\n",
        "corr_features =[]\n",
        "\n",
        "for i , r in dataset.corr().iterrows():\n",
        "    k=0\n",
        "    for j in range(len(r)):\n",
        "        if i!= r.index[k]:\n",
        "            if r.values[k] >=0.5:\n",
        "                corr_features.append([i, r.index[k], r.values[k]])\n",
        "        k += 1\n",
        "corr_features"
      ],
      "metadata": {
        "colab": {
          "base_uri": "https://localhost:8080/"
        },
        "id": "Whfv_iDWLwFl",
        "outputId": "639a733b-9e8e-43cb-c0dd-471ceb9b8c75"
      },
      "execution_count": 121,
      "outputs": [
        {
          "output_type": "execute_result",
          "data": {
            "text/plain": [
              "[['bedrooms', 'bathrooms', 0.545645206840986],\n",
              " ['bedrooms', 'sqft_living', 0.6016144987588385],\n",
              " ['bathrooms', 'bedrooms', 0.545645206840986],\n",
              " ['bathrooms', 'sqft_living', 0.7615444394303039],\n",
              " ['bathrooms', 'sqft_above', 0.6924940694812943],\n",
              " ['sqft_living', 'bedrooms', 0.6016144987588385],\n",
              " ['sqft_living', 'bathrooms', 0.7615444394303039],\n",
              " ['sqft_living', 'sqft_above', 0.875418268332467],\n",
              " ['floors', 'sqft_above', 0.521989982664378],\n",
              " ['sqft_above', 'bathrooms', 0.6924940694812943],\n",
              " ['sqft_above', 'sqft_living', 0.875418268332467],\n",
              " ['sqft_above', 'floors', 0.521989982664378]]"
            ]
          },
          "metadata": {},
          "execution_count": 121
        }
      ]
    },
    {
      "cell_type": "code",
      "source": [
        "#removing highly correlated features that is above 0.8\n",
        "feat =[]\n",
        "for i in corr_features:\n",
        "    if i[2] >= 0.8:\n",
        "        feat.append(i[0])\n",
        "        feat.append(i[1])\n",
        "        \n",
        "print(list(set(feat)))       "
      ],
      "metadata": {
        "colab": {
          "base_uri": "https://localhost:8080/"
        },
        "id": "RNOxazaDLw-d",
        "outputId": "b6ecc4fa-64ff-4efc-f8e7-12e9c2f597d2"
      },
      "execution_count": 122,
      "outputs": [
        {
          "output_type": "stream",
          "name": "stdout",
          "text": [
            "['sqft_living', 'sqft_above']\n"
          ]
        }
      ]
    },
    {
      "cell_type": "code",
      "source": [
        "#Removing sqft_above because it's highly correlated with the sqft_living \n",
        "dataset.drop(['sqft_above'], axis=1, inplace=True)"
      ],
      "metadata": {
        "id": "Elo2x3GZL0Qc"
      },
      "execution_count": 123,
      "outputs": []
    },
    {
      "cell_type": "code",
      "source": [
        "dataset['city'].value_counts().sort_values(ascending=False).head(10)"
      ],
      "metadata": {
        "colab": {
          "base_uri": "https://localhost:8080/"
        },
        "id": "bK7i1PRgNLkc",
        "outputId": "94947762-ee4f-4af1-916a-05792a002ade"
      },
      "execution_count": 9,
      "outputs": [
        {
          "output_type": "execute_result",
          "data": {
            "text/plain": [
              "Seattle        1560\n",
              "Renton          291\n",
              "Bellevue        281\n",
              "Redmond         234\n",
              "Kirkland        187\n",
              "Issaquah        186\n",
              "Kent            184\n",
              "Auburn          175\n",
              "Sammamish       171\n",
              "Federal Way     145\n",
              "Name: city, dtype: int64"
            ]
          },
          "metadata": {},
          "execution_count": 9
        }
      ]
    },
    {
      "cell_type": "code",
      "source": [
        "not_null_features = dataset[[i for i in dataset.columns if 0 not in set(dataset[i])]].columns\n",
        "not_null_features"
      ],
      "metadata": {
        "colab": {
          "base_uri": "https://localhost:8080/"
        },
        "id": "xv3RUxIfNGT1",
        "outputId": "87e3ce4e-dccc-4b28-deca-77c9c419e37d"
      },
      "execution_count": 124,
      "outputs": [
        {
          "output_type": "execute_result",
          "data": {
            "text/plain": [
              "Index(['date', 'price', 'bedrooms', 'bathrooms', 'sqft_living', 'sqft_lot',\n",
              "       'floors', 'condition', 'yr_built', 'street', 'city', 'statezip'],\n",
              "      dtype='object')"
            ]
          },
          "metadata": {},
          "execution_count": 124
        }
      ]
    },
    {
      "cell_type": "code",
      "source": [
        "#one hot encoding on the city value \n",
        "top_10_cities = [city for city in dataset.city.value_counts().sort_values(ascending=False).head(10).index]\n",
        "top_10_cities "
      ],
      "metadata": {
        "colab": {
          "base_uri": "https://localhost:8080/"
        },
        "id": "MNh9nGxmNTxc",
        "outputId": "1db2665a-61b4-4d5b-842d-8928049cb8fc"
      },
      "execution_count": 11,
      "outputs": [
        {
          "output_type": "execute_result",
          "data": {
            "text/plain": [
              "['Seattle',\n",
              " 'Renton',\n",
              " 'Bellevue',\n",
              " 'Redmond',\n",
              " 'Kirkland',\n",
              " 'Issaquah',\n",
              " 'Kent',\n",
              " 'Auburn',\n",
              " 'Sammamish',\n",
              " 'Federal Way']"
            ]
          },
          "metadata": {},
          "execution_count": 11
        }
      ]
    },
    {
      "cell_type": "code",
      "source": [
        "def one_hot_top_x(dataframe,feature,top_x_labels):\n",
        "  for label in top_x_labels:\n",
        "    dataframe[feature +'_'+label] = np.where(dataframe[feature]==label,1,0)"
      ],
      "metadata": {
        "id": "-dyjQSSxarJT"
      },
      "execution_count": 125,
      "outputs": []
    },
    {
      "cell_type": "code",
      "source": [
        "one_hot_top_x(dataset,\"city\",top_10_cities)"
      ],
      "metadata": {
        "id": "a7EZ8DGKSufV"
      },
      "execution_count": 13,
      "outputs": []
    },
    {
      "cell_type": "code",
      "source": [
        "top_10_streets = [city for city in dataset.street.value_counts().sort_values(ascending=False).head(10).index]\n",
        "top_10_streets"
      ],
      "metadata": {
        "colab": {
          "base_uri": "https://localhost:8080/"
        },
        "id": "VBAT6zRGY7w-",
        "outputId": "0e4188aa-dc38-4b23-cd0c-ba37cfd5901d"
      },
      "execution_count": 92,
      "outputs": [
        {
          "output_type": "execute_result",
          "data": {
            "text/plain": [
              "['2520 Mulberry Walk NE',\n",
              " '2500 Mulberry Walk NE',\n",
              " '2008 Yale Ave E',\n",
              " 'Burke-Gilman Trail',\n",
              " '3510 S Holly St',\n",
              " '2358 Fairview Ave E',\n",
              " '19454 SE 27th Pl',\n",
              " '513 N 46th St',\n",
              " '5968 44th Ave S',\n",
              " '24345 35th Pl S']"
            ]
          },
          "metadata": {},
          "execution_count": 92
        }
      ]
    },
    {
      "cell_type": "code",
      "source": [
        "one_hot_top_x(dataset,\"street\",top_10_streets)"
      ],
      "metadata": {
        "id": "llk97gQgfnu9"
      },
      "execution_count": 126,
      "outputs": []
    },
    {
      "cell_type": "code",
      "source": [
        "city_mean_prices = dataset.groupby('city')['price'].mean()\n",
        "dataset['city_encoded'] = dataset['city'].map(city_mean_prices)"
      ],
      "metadata": {
        "id": "JJ_hVJ_nvACF"
      },
      "execution_count": 127,
      "outputs": []
    },
    {
      "cell_type": "code",
      "source": [
        "#Transform the yr_renovated and year_built to a new column (renovation_age)\n",
        "dataset['renov_age'] = np.abs(dataset['yr_renovated'] - dataset['yr_built'])\n",
        "dataset['renov_age'] = dataset.renov_age.apply(lambda x: x if len(str(int(x)))==2 else 0.0)"
      ],
      "metadata": {
        "id": "eInf3KXNfyPm"
      },
      "execution_count": 128,
      "outputs": []
    },
    {
      "cell_type": "code",
      "source": [
        "#Transforming statezip to numerical type\n",
        "dataset['statezip'] = dataset['statezip'].str.strip('WA').astype('float')\n",
        "dataset['statezip'].dtype"
      ],
      "metadata": {
        "colab": {
          "base_uri": "https://localhost:8080/"
        },
        "id": "SX7KPDEYgUiU",
        "outputId": "1a96477d-41dc-4ee1-d53c-77060d6f627b"
      },
      "execution_count": 129,
      "outputs": [
        {
          "output_type": "execute_result",
          "data": {
            "text/plain": [
              "dtype('float64')"
            ]
          },
          "metadata": {},
          "execution_count": 129
        }
      ]
    },
    {
      "cell_type": "code",
      "source": [
        "#remove unwanted columns like yr_built, date ,yr_renovated\n",
        "dataset.drop(['date', 'yr_built', 'yr_renovated','street','city'], axis=1, inplace=True)\n",
        "dataset.head()\n"
      ],
      "metadata": {
        "colab": {
          "base_uri": "https://localhost:8080/",
          "height": 334
        },
        "id": "8W8mNsjTgZE0",
        "outputId": "0dcec8c9-bbd9-4fe0-e856-274b91f27718"
      },
      "execution_count": 130,
      "outputs": [
        {
          "output_type": "execute_result",
          "data": {
            "text/plain": [
              "       price  bedrooms  bathrooms  sqft_living  sqft_lot  floors  waterfront  \\\n",
              "0   313000.0         3       1.50         1340      7912     1.5           0   \n",
              "1  2384000.0         5       2.50         3650      9050     2.0           0   \n",
              "2   342000.0         3       2.00         1930     11947     1.0           0   \n",
              "3   420000.0         3       2.25         2000      8030     1.0           0   \n",
              "4   550000.0         4       2.50         1940     10500     1.0           0   \n",
              "\n",
              "   view  condition  sqft_basement  ...  street_2008 Yale Ave E  \\\n",
              "0     0          3              0  ...                       0   \n",
              "1     4          5            280  ...                       0   \n",
              "2     0          4              0  ...                       0   \n",
              "3     0          4           1000  ...                       0   \n",
              "4     0          4            800  ...                       0   \n",
              "\n",
              "   street_Burke-Gilman Trail  street_3510 S Holly St  \\\n",
              "0                          0                       0   \n",
              "1                          0                       0   \n",
              "2                          0                       0   \n",
              "3                          0                       0   \n",
              "4                          0                       0   \n",
              "\n",
              "   street_2358 Fairview Ave E  street_19454 SE 27th Pl  street_513 N 46th St  \\\n",
              "0                           0                        0                     0   \n",
              "1                           0                        0                     0   \n",
              "2                           0                        0                     0   \n",
              "3                           0                        0                     0   \n",
              "4                           0                        0                     0   \n",
              "\n",
              "   street_5968 44th Ave S  street_24345 35th Pl S   city_encoded  renov_age  \n",
              "0                       0                       0  420392.364047       50.0  \n",
              "1                       0                       0  583967.523099        0.0  \n",
              "2                       0                       0  441880.990543        0.0  \n",
              "3                       0                       0  862255.052017        0.0  \n",
              "4                       0                       0  664965.780656       16.0  \n",
              "\n",
              "[5 rows x 23 columns]"
            ],
            "text/html": [
              "\n",
              "  <div id=\"df-517678db-19a9-47c4-864c-991fdd24f4b0\">\n",
              "    <div class=\"colab-df-container\">\n",
              "      <div>\n",
              "<style scoped>\n",
              "    .dataframe tbody tr th:only-of-type {\n",
              "        vertical-align: middle;\n",
              "    }\n",
              "\n",
              "    .dataframe tbody tr th {\n",
              "        vertical-align: top;\n",
              "    }\n",
              "\n",
              "    .dataframe thead th {\n",
              "        text-align: right;\n",
              "    }\n",
              "</style>\n",
              "<table border=\"1\" class=\"dataframe\">\n",
              "  <thead>\n",
              "    <tr style=\"text-align: right;\">\n",
              "      <th></th>\n",
              "      <th>price</th>\n",
              "      <th>bedrooms</th>\n",
              "      <th>bathrooms</th>\n",
              "      <th>sqft_living</th>\n",
              "      <th>sqft_lot</th>\n",
              "      <th>floors</th>\n",
              "      <th>waterfront</th>\n",
              "      <th>view</th>\n",
              "      <th>condition</th>\n",
              "      <th>sqft_basement</th>\n",
              "      <th>...</th>\n",
              "      <th>street_2008 Yale Ave E</th>\n",
              "      <th>street_Burke-Gilman Trail</th>\n",
              "      <th>street_3510 S Holly St</th>\n",
              "      <th>street_2358 Fairview Ave E</th>\n",
              "      <th>street_19454 SE 27th Pl</th>\n",
              "      <th>street_513 N 46th St</th>\n",
              "      <th>street_5968 44th Ave S</th>\n",
              "      <th>street_24345 35th Pl S</th>\n",
              "      <th>city_encoded</th>\n",
              "      <th>renov_age</th>\n",
              "    </tr>\n",
              "  </thead>\n",
              "  <tbody>\n",
              "    <tr>\n",
              "      <th>0</th>\n",
              "      <td>313000.0</td>\n",
              "      <td>3</td>\n",
              "      <td>1.50</td>\n",
              "      <td>1340</td>\n",
              "      <td>7912</td>\n",
              "      <td>1.5</td>\n",
              "      <td>0</td>\n",
              "      <td>0</td>\n",
              "      <td>3</td>\n",
              "      <td>0</td>\n",
              "      <td>...</td>\n",
              "      <td>0</td>\n",
              "      <td>0</td>\n",
              "      <td>0</td>\n",
              "      <td>0</td>\n",
              "      <td>0</td>\n",
              "      <td>0</td>\n",
              "      <td>0</td>\n",
              "      <td>0</td>\n",
              "      <td>420392.364047</td>\n",
              "      <td>50.0</td>\n",
              "    </tr>\n",
              "    <tr>\n",
              "      <th>1</th>\n",
              "      <td>2384000.0</td>\n",
              "      <td>5</td>\n",
              "      <td>2.50</td>\n",
              "      <td>3650</td>\n",
              "      <td>9050</td>\n",
              "      <td>2.0</td>\n",
              "      <td>0</td>\n",
              "      <td>4</td>\n",
              "      <td>5</td>\n",
              "      <td>280</td>\n",
              "      <td>...</td>\n",
              "      <td>0</td>\n",
              "      <td>0</td>\n",
              "      <td>0</td>\n",
              "      <td>0</td>\n",
              "      <td>0</td>\n",
              "      <td>0</td>\n",
              "      <td>0</td>\n",
              "      <td>0</td>\n",
              "      <td>583967.523099</td>\n",
              "      <td>0.0</td>\n",
              "    </tr>\n",
              "    <tr>\n",
              "      <th>2</th>\n",
              "      <td>342000.0</td>\n",
              "      <td>3</td>\n",
              "      <td>2.00</td>\n",
              "      <td>1930</td>\n",
              "      <td>11947</td>\n",
              "      <td>1.0</td>\n",
              "      <td>0</td>\n",
              "      <td>0</td>\n",
              "      <td>4</td>\n",
              "      <td>0</td>\n",
              "      <td>...</td>\n",
              "      <td>0</td>\n",
              "      <td>0</td>\n",
              "      <td>0</td>\n",
              "      <td>0</td>\n",
              "      <td>0</td>\n",
              "      <td>0</td>\n",
              "      <td>0</td>\n",
              "      <td>0</td>\n",
              "      <td>441880.990543</td>\n",
              "      <td>0.0</td>\n",
              "    </tr>\n",
              "    <tr>\n",
              "      <th>3</th>\n",
              "      <td>420000.0</td>\n",
              "      <td>3</td>\n",
              "      <td>2.25</td>\n",
              "      <td>2000</td>\n",
              "      <td>8030</td>\n",
              "      <td>1.0</td>\n",
              "      <td>0</td>\n",
              "      <td>0</td>\n",
              "      <td>4</td>\n",
              "      <td>1000</td>\n",
              "      <td>...</td>\n",
              "      <td>0</td>\n",
              "      <td>0</td>\n",
              "      <td>0</td>\n",
              "      <td>0</td>\n",
              "      <td>0</td>\n",
              "      <td>0</td>\n",
              "      <td>0</td>\n",
              "      <td>0</td>\n",
              "      <td>862255.052017</td>\n",
              "      <td>0.0</td>\n",
              "    </tr>\n",
              "    <tr>\n",
              "      <th>4</th>\n",
              "      <td>550000.0</td>\n",
              "      <td>4</td>\n",
              "      <td>2.50</td>\n",
              "      <td>1940</td>\n",
              "      <td>10500</td>\n",
              "      <td>1.0</td>\n",
              "      <td>0</td>\n",
              "      <td>0</td>\n",
              "      <td>4</td>\n",
              "      <td>800</td>\n",
              "      <td>...</td>\n",
              "      <td>0</td>\n",
              "      <td>0</td>\n",
              "      <td>0</td>\n",
              "      <td>0</td>\n",
              "      <td>0</td>\n",
              "      <td>0</td>\n",
              "      <td>0</td>\n",
              "      <td>0</td>\n",
              "      <td>664965.780656</td>\n",
              "      <td>16.0</td>\n",
              "    </tr>\n",
              "  </tbody>\n",
              "</table>\n",
              "<p>5 rows × 23 columns</p>\n",
              "</div>\n",
              "      <button class=\"colab-df-convert\" onclick=\"convertToInteractive('df-517678db-19a9-47c4-864c-991fdd24f4b0')\"\n",
              "              title=\"Convert this dataframe to an interactive table.\"\n",
              "              style=\"display:none;\">\n",
              "        \n",
              "  <svg xmlns=\"http://www.w3.org/2000/svg\" height=\"24px\"viewBox=\"0 0 24 24\"\n",
              "       width=\"24px\">\n",
              "    <path d=\"M0 0h24v24H0V0z\" fill=\"none\"/>\n",
              "    <path d=\"M18.56 5.44l.94 2.06.94-2.06 2.06-.94-2.06-.94-.94-2.06-.94 2.06-2.06.94zm-11 1L8.5 8.5l.94-2.06 2.06-.94-2.06-.94L8.5 2.5l-.94 2.06-2.06.94zm10 10l.94 2.06.94-2.06 2.06-.94-2.06-.94-.94-2.06-.94 2.06-2.06.94z\"/><path d=\"M17.41 7.96l-1.37-1.37c-.4-.4-.92-.59-1.43-.59-.52 0-1.04.2-1.43.59L10.3 9.45l-7.72 7.72c-.78.78-.78 2.05 0 2.83L4 21.41c.39.39.9.59 1.41.59.51 0 1.02-.2 1.41-.59l7.78-7.78 2.81-2.81c.8-.78.8-2.07 0-2.86zM5.41 20L4 18.59l7.72-7.72 1.47 1.35L5.41 20z\"/>\n",
              "  </svg>\n",
              "      </button>\n",
              "      \n",
              "  <style>\n",
              "    .colab-df-container {\n",
              "      display:flex;\n",
              "      flex-wrap:wrap;\n",
              "      gap: 12px;\n",
              "    }\n",
              "\n",
              "    .colab-df-convert {\n",
              "      background-color: #E8F0FE;\n",
              "      border: none;\n",
              "      border-radius: 50%;\n",
              "      cursor: pointer;\n",
              "      display: none;\n",
              "      fill: #1967D2;\n",
              "      height: 32px;\n",
              "      padding: 0 0 0 0;\n",
              "      width: 32px;\n",
              "    }\n",
              "\n",
              "    .colab-df-convert:hover {\n",
              "      background-color: #E2EBFA;\n",
              "      box-shadow: 0px 1px 2px rgba(60, 64, 67, 0.3), 0px 1px 3px 1px rgba(60, 64, 67, 0.15);\n",
              "      fill: #174EA6;\n",
              "    }\n",
              "\n",
              "    [theme=dark] .colab-df-convert {\n",
              "      background-color: #3B4455;\n",
              "      fill: #D2E3FC;\n",
              "    }\n",
              "\n",
              "    [theme=dark] .colab-df-convert:hover {\n",
              "      background-color: #434B5C;\n",
              "      box-shadow: 0px 1px 3px 1px rgba(0, 0, 0, 0.15);\n",
              "      filter: drop-shadow(0px 1px 2px rgba(0, 0, 0, 0.3));\n",
              "      fill: #FFFFFF;\n",
              "    }\n",
              "  </style>\n",
              "\n",
              "      <script>\n",
              "        const buttonEl =\n",
              "          document.querySelector('#df-517678db-19a9-47c4-864c-991fdd24f4b0 button.colab-df-convert');\n",
              "        buttonEl.style.display =\n",
              "          google.colab.kernel.accessAllowed ? 'block' : 'none';\n",
              "\n",
              "        async function convertToInteractive(key) {\n",
              "          const element = document.querySelector('#df-517678db-19a9-47c4-864c-991fdd24f4b0');\n",
              "          const dataTable =\n",
              "            await google.colab.kernel.invokeFunction('convertToInteractive',\n",
              "                                                     [key], {});\n",
              "          if (!dataTable) return;\n",
              "\n",
              "          const docLinkHtml = 'Like what you see? Visit the ' +\n",
              "            '<a target=\"_blank\" href=https://colab.research.google.com/notebooks/data_table.ipynb>data table notebook</a>'\n",
              "            + ' to learn more about interactive tables.';\n",
              "          element.innerHTML = '';\n",
              "          dataTable['output_type'] = 'display_data';\n",
              "          await google.colab.output.renderOutput(dataTable, element);\n",
              "          const docLink = document.createElement('div');\n",
              "          docLink.innerHTML = docLinkHtml;\n",
              "          element.appendChild(docLink);\n",
              "        }\n",
              "      </script>\n",
              "    </div>\n",
              "  </div>\n",
              "  "
            ]
          },
          "metadata": {},
          "execution_count": 130
        }
      ]
    },
    {
      "cell_type": "code",
      "source": [
        "#Dropping rows that have living & basement & above surfaces greater than the house surface \n",
        "dataset.drop(dataset.index[(dataset['sqft_living']>dataset['sqft_lot'])|(dataset['sqft_basement']>dataset['sqft_lot'])], inplace = True)"
      ],
      "metadata": {
        "id": "4oD3S8UrgkoN"
      },
      "execution_count": 131,
      "outputs": []
    },
    {
      "cell_type": "code",
      "source": [
        "dataset.head()"
      ],
      "metadata": {
        "colab": {
          "base_uri": "https://localhost:8080/",
          "height": 334
        },
        "id": "zzRjRkbhFsWS",
        "outputId": "e3c5cb28-e369-433b-8f56-b0000984422a"
      },
      "execution_count": 132,
      "outputs": [
        {
          "output_type": "execute_result",
          "data": {
            "text/plain": [
              "       price  bedrooms  bathrooms  sqft_living  sqft_lot  floors  waterfront  \\\n",
              "0   313000.0         3       1.50         1340      7912     1.5           0   \n",
              "1  2384000.0         5       2.50         3650      9050     2.0           0   \n",
              "2   342000.0         3       2.00         1930     11947     1.0           0   \n",
              "3   420000.0         3       2.25         2000      8030     1.0           0   \n",
              "4   550000.0         4       2.50         1940     10500     1.0           0   \n",
              "\n",
              "   view  condition  sqft_basement  ...  street_2008 Yale Ave E  \\\n",
              "0     0          3              0  ...                       0   \n",
              "1     4          5            280  ...                       0   \n",
              "2     0          4              0  ...                       0   \n",
              "3     0          4           1000  ...                       0   \n",
              "4     0          4            800  ...                       0   \n",
              "\n",
              "   street_Burke-Gilman Trail  street_3510 S Holly St  \\\n",
              "0                          0                       0   \n",
              "1                          0                       0   \n",
              "2                          0                       0   \n",
              "3                          0                       0   \n",
              "4                          0                       0   \n",
              "\n",
              "   street_2358 Fairview Ave E  street_19454 SE 27th Pl  street_513 N 46th St  \\\n",
              "0                           0                        0                     0   \n",
              "1                           0                        0                     0   \n",
              "2                           0                        0                     0   \n",
              "3                           0                        0                     0   \n",
              "4                           0                        0                     0   \n",
              "\n",
              "   street_5968 44th Ave S  street_24345 35th Pl S   city_encoded  renov_age  \n",
              "0                       0                       0  420392.364047       50.0  \n",
              "1                       0                       0  583967.523099        0.0  \n",
              "2                       0                       0  441880.990543        0.0  \n",
              "3                       0                       0  862255.052017        0.0  \n",
              "4                       0                       0  664965.780656       16.0  \n",
              "\n",
              "[5 rows x 23 columns]"
            ],
            "text/html": [
              "\n",
              "  <div id=\"df-576b8032-8c1b-4ad4-8fb1-e6d59f9d4b9d\">\n",
              "    <div class=\"colab-df-container\">\n",
              "      <div>\n",
              "<style scoped>\n",
              "    .dataframe tbody tr th:only-of-type {\n",
              "        vertical-align: middle;\n",
              "    }\n",
              "\n",
              "    .dataframe tbody tr th {\n",
              "        vertical-align: top;\n",
              "    }\n",
              "\n",
              "    .dataframe thead th {\n",
              "        text-align: right;\n",
              "    }\n",
              "</style>\n",
              "<table border=\"1\" class=\"dataframe\">\n",
              "  <thead>\n",
              "    <tr style=\"text-align: right;\">\n",
              "      <th></th>\n",
              "      <th>price</th>\n",
              "      <th>bedrooms</th>\n",
              "      <th>bathrooms</th>\n",
              "      <th>sqft_living</th>\n",
              "      <th>sqft_lot</th>\n",
              "      <th>floors</th>\n",
              "      <th>waterfront</th>\n",
              "      <th>view</th>\n",
              "      <th>condition</th>\n",
              "      <th>sqft_basement</th>\n",
              "      <th>...</th>\n",
              "      <th>street_2008 Yale Ave E</th>\n",
              "      <th>street_Burke-Gilman Trail</th>\n",
              "      <th>street_3510 S Holly St</th>\n",
              "      <th>street_2358 Fairview Ave E</th>\n",
              "      <th>street_19454 SE 27th Pl</th>\n",
              "      <th>street_513 N 46th St</th>\n",
              "      <th>street_5968 44th Ave S</th>\n",
              "      <th>street_24345 35th Pl S</th>\n",
              "      <th>city_encoded</th>\n",
              "      <th>renov_age</th>\n",
              "    </tr>\n",
              "  </thead>\n",
              "  <tbody>\n",
              "    <tr>\n",
              "      <th>0</th>\n",
              "      <td>313000.0</td>\n",
              "      <td>3</td>\n",
              "      <td>1.50</td>\n",
              "      <td>1340</td>\n",
              "      <td>7912</td>\n",
              "      <td>1.5</td>\n",
              "      <td>0</td>\n",
              "      <td>0</td>\n",
              "      <td>3</td>\n",
              "      <td>0</td>\n",
              "      <td>...</td>\n",
              "      <td>0</td>\n",
              "      <td>0</td>\n",
              "      <td>0</td>\n",
              "      <td>0</td>\n",
              "      <td>0</td>\n",
              "      <td>0</td>\n",
              "      <td>0</td>\n",
              "      <td>0</td>\n",
              "      <td>420392.364047</td>\n",
              "      <td>50.0</td>\n",
              "    </tr>\n",
              "    <tr>\n",
              "      <th>1</th>\n",
              "      <td>2384000.0</td>\n",
              "      <td>5</td>\n",
              "      <td>2.50</td>\n",
              "      <td>3650</td>\n",
              "      <td>9050</td>\n",
              "      <td>2.0</td>\n",
              "      <td>0</td>\n",
              "      <td>4</td>\n",
              "      <td>5</td>\n",
              "      <td>280</td>\n",
              "      <td>...</td>\n",
              "      <td>0</td>\n",
              "      <td>0</td>\n",
              "      <td>0</td>\n",
              "      <td>0</td>\n",
              "      <td>0</td>\n",
              "      <td>0</td>\n",
              "      <td>0</td>\n",
              "      <td>0</td>\n",
              "      <td>583967.523099</td>\n",
              "      <td>0.0</td>\n",
              "    </tr>\n",
              "    <tr>\n",
              "      <th>2</th>\n",
              "      <td>342000.0</td>\n",
              "      <td>3</td>\n",
              "      <td>2.00</td>\n",
              "      <td>1930</td>\n",
              "      <td>11947</td>\n",
              "      <td>1.0</td>\n",
              "      <td>0</td>\n",
              "      <td>0</td>\n",
              "      <td>4</td>\n",
              "      <td>0</td>\n",
              "      <td>...</td>\n",
              "      <td>0</td>\n",
              "      <td>0</td>\n",
              "      <td>0</td>\n",
              "      <td>0</td>\n",
              "      <td>0</td>\n",
              "      <td>0</td>\n",
              "      <td>0</td>\n",
              "      <td>0</td>\n",
              "      <td>441880.990543</td>\n",
              "      <td>0.0</td>\n",
              "    </tr>\n",
              "    <tr>\n",
              "      <th>3</th>\n",
              "      <td>420000.0</td>\n",
              "      <td>3</td>\n",
              "      <td>2.25</td>\n",
              "      <td>2000</td>\n",
              "      <td>8030</td>\n",
              "      <td>1.0</td>\n",
              "      <td>0</td>\n",
              "      <td>0</td>\n",
              "      <td>4</td>\n",
              "      <td>1000</td>\n",
              "      <td>...</td>\n",
              "      <td>0</td>\n",
              "      <td>0</td>\n",
              "      <td>0</td>\n",
              "      <td>0</td>\n",
              "      <td>0</td>\n",
              "      <td>0</td>\n",
              "      <td>0</td>\n",
              "      <td>0</td>\n",
              "      <td>862255.052017</td>\n",
              "      <td>0.0</td>\n",
              "    </tr>\n",
              "    <tr>\n",
              "      <th>4</th>\n",
              "      <td>550000.0</td>\n",
              "      <td>4</td>\n",
              "      <td>2.50</td>\n",
              "      <td>1940</td>\n",
              "      <td>10500</td>\n",
              "      <td>1.0</td>\n",
              "      <td>0</td>\n",
              "      <td>0</td>\n",
              "      <td>4</td>\n",
              "      <td>800</td>\n",
              "      <td>...</td>\n",
              "      <td>0</td>\n",
              "      <td>0</td>\n",
              "      <td>0</td>\n",
              "      <td>0</td>\n",
              "      <td>0</td>\n",
              "      <td>0</td>\n",
              "      <td>0</td>\n",
              "      <td>0</td>\n",
              "      <td>664965.780656</td>\n",
              "      <td>16.0</td>\n",
              "    </tr>\n",
              "  </tbody>\n",
              "</table>\n",
              "<p>5 rows × 23 columns</p>\n",
              "</div>\n",
              "      <button class=\"colab-df-convert\" onclick=\"convertToInteractive('df-576b8032-8c1b-4ad4-8fb1-e6d59f9d4b9d')\"\n",
              "              title=\"Convert this dataframe to an interactive table.\"\n",
              "              style=\"display:none;\">\n",
              "        \n",
              "  <svg xmlns=\"http://www.w3.org/2000/svg\" height=\"24px\"viewBox=\"0 0 24 24\"\n",
              "       width=\"24px\">\n",
              "    <path d=\"M0 0h24v24H0V0z\" fill=\"none\"/>\n",
              "    <path d=\"M18.56 5.44l.94 2.06.94-2.06 2.06-.94-2.06-.94-.94-2.06-.94 2.06-2.06.94zm-11 1L8.5 8.5l.94-2.06 2.06-.94-2.06-.94L8.5 2.5l-.94 2.06-2.06.94zm10 10l.94 2.06.94-2.06 2.06-.94-2.06-.94-.94-2.06-.94 2.06-2.06.94z\"/><path d=\"M17.41 7.96l-1.37-1.37c-.4-.4-.92-.59-1.43-.59-.52 0-1.04.2-1.43.59L10.3 9.45l-7.72 7.72c-.78.78-.78 2.05 0 2.83L4 21.41c.39.39.9.59 1.41.59.51 0 1.02-.2 1.41-.59l7.78-7.78 2.81-2.81c.8-.78.8-2.07 0-2.86zM5.41 20L4 18.59l7.72-7.72 1.47 1.35L5.41 20z\"/>\n",
              "  </svg>\n",
              "      </button>\n",
              "      \n",
              "  <style>\n",
              "    .colab-df-container {\n",
              "      display:flex;\n",
              "      flex-wrap:wrap;\n",
              "      gap: 12px;\n",
              "    }\n",
              "\n",
              "    .colab-df-convert {\n",
              "      background-color: #E8F0FE;\n",
              "      border: none;\n",
              "      border-radius: 50%;\n",
              "      cursor: pointer;\n",
              "      display: none;\n",
              "      fill: #1967D2;\n",
              "      height: 32px;\n",
              "      padding: 0 0 0 0;\n",
              "      width: 32px;\n",
              "    }\n",
              "\n",
              "    .colab-df-convert:hover {\n",
              "      background-color: #E2EBFA;\n",
              "      box-shadow: 0px 1px 2px rgba(60, 64, 67, 0.3), 0px 1px 3px 1px rgba(60, 64, 67, 0.15);\n",
              "      fill: #174EA6;\n",
              "    }\n",
              "\n",
              "    [theme=dark] .colab-df-convert {\n",
              "      background-color: #3B4455;\n",
              "      fill: #D2E3FC;\n",
              "    }\n",
              "\n",
              "    [theme=dark] .colab-df-convert:hover {\n",
              "      background-color: #434B5C;\n",
              "      box-shadow: 0px 1px 3px 1px rgba(0, 0, 0, 0.15);\n",
              "      filter: drop-shadow(0px 1px 2px rgba(0, 0, 0, 0.3));\n",
              "      fill: #FFFFFF;\n",
              "    }\n",
              "  </style>\n",
              "\n",
              "      <script>\n",
              "        const buttonEl =\n",
              "          document.querySelector('#df-576b8032-8c1b-4ad4-8fb1-e6d59f9d4b9d button.colab-df-convert');\n",
              "        buttonEl.style.display =\n",
              "          google.colab.kernel.accessAllowed ? 'block' : 'none';\n",
              "\n",
              "        async function convertToInteractive(key) {\n",
              "          const element = document.querySelector('#df-576b8032-8c1b-4ad4-8fb1-e6d59f9d4b9d');\n",
              "          const dataTable =\n",
              "            await google.colab.kernel.invokeFunction('convertToInteractive',\n",
              "                                                     [key], {});\n",
              "          if (!dataTable) return;\n",
              "\n",
              "          const docLinkHtml = 'Like what you see? Visit the ' +\n",
              "            '<a target=\"_blank\" href=https://colab.research.google.com/notebooks/data_table.ipynb>data table notebook</a>'\n",
              "            + ' to learn more about interactive tables.';\n",
              "          element.innerHTML = '';\n",
              "          dataTable['output_type'] = 'display_data';\n",
              "          await google.colab.output.renderOutput(dataTable, element);\n",
              "          const docLink = document.createElement('div');\n",
              "          docLink.innerHTML = docLinkHtml;\n",
              "          element.appendChild(docLink);\n",
              "        }\n",
              "      </script>\n",
              "    </div>\n",
              "  </div>\n",
              "  "
            ]
          },
          "metadata": {},
          "execution_count": 132
        }
      ]
    },
    {
      "cell_type": "code",
      "source": [
        "df = dataset.copy()"
      ],
      "metadata": {
        "id": "pdSmI0UUSbQ2"
      },
      "execution_count": 170,
      "outputs": []
    },
    {
      "cell_type": "code",
      "source": [
        "highest_allowed = dataset['price'].mean() + 3*dataset['price'].std()\n",
        "lowest_allowed = dataset['price'].mean() - 3*dataset['price'].std()\n",
        "df2= df[(df['price'] > highest_allowed) | (df['price'] < lowest_allowed)]"
      ],
      "metadata": {
        "id": "XvDrMjTgGr9h"
      },
      "execution_count": 158,
      "outputs": []
    },
    {
      "cell_type": "code",
      "source": [
        "new_df = df[(df['price'] < highest_allowed) & (df['price'] >lowest_allowed )]\n",
        "new_df.shape"
      ],
      "metadata": {
        "colab": {
          "base_uri": "https://localhost:8080/"
        },
        "id": "pfmqIxBFIZlw",
        "outputId": "ab097742-25e5-4d1e-cc92-e8284ce263d2"
      },
      "execution_count": 161,
      "outputs": [
        {
          "output_type": "execute_result",
          "data": {
            "text/plain": [
              "(4347, 23)"
            ]
          },
          "metadata": {},
          "execution_count": 161
        }
      ]
    },
    {
      "cell_type": "code",
      "source": [
        "# df['price'] = np.where(df['price']>highest_allowed,highest_allowed,df['price'])\n",
        "# df['price'] = np.where(df['price']<lowest_allowed,lowest_allowed,df['price'])\n"
      ],
      "metadata": {
        "colab": {
          "base_uri": "https://localhost:8080/"
        },
        "id": "sGeANLEyLLlK",
        "outputId": "341ec95e-dc3c-4077-b47f-23aab56d40e7"
      },
      "execution_count": 163,
      "outputs": [
        {
          "output_type": "execute_result",
          "data": {
            "text/plain": [
              "(4378,)"
            ]
          },
          "metadata": {},
          "execution_count": 163
        }
      ]
    },
    {
      "cell_type": "code",
      "source": [
        "#Visualizing the outliers\n",
        "for feature in dataset[['price', 'bedrooms', 'bathrooms', 'sqft_living', 'sqft_lot', 'floors','sqft_basement', 'statezip','city_encoded','renov_age']]:\n",
        "    dataset.boxplot(column=feature)\n",
        "    print(f\"skewness of {feature} is {dataset[feature].skew()}\")\n",
        "    plt.ylabel(feature)\n",
        "    plt.title(feature)\n",
        "    plt.show()"
      ],
      "metadata": {
        "colab": {
          "base_uri": "https://localhost:8080/",
          "height": 1000
        },
        "id": "KtaEreG2d0AC",
        "outputId": "503b7b9b-c4af-4036-92a1-52489b9059ac"
      },
      "execution_count": 184,
      "outputs": [
        {
          "output_type": "stream",
          "name": "stdout",
          "text": [
            "skewness of price is 24.88244835637927\n"
          ]
        },
        {
          "output_type": "display_data",
          "data": {
            "text/plain": [
              "<Figure size 432x288 with 1 Axes>"
            ],
            "image/png": "[encoded data removed]"
          },
          "metadata": {
            "needs_background": "light"
          }
        },
        {
          "output_type": "stream",
          "name": "stdout",
          "text": [
            "skewness of bedrooms is 0.4612490753593932\n"
          ]
        },
        {
          "output_type": "display_data",
          "data": {
            "text/plain": [
              "<Figure size 432x288 with 1 Axes>"
            ],
            "image/png": "[encoded data removed]"
          },
          "metadata": {
            "needs_background": "light"
          }
        },
        {
          "output_type": "stream",
          "name": "stdout",
          "text": [
            "skewness of bathrooms is 0.6243791332030871\n"
          ]
        },
        {
          "output_type": "display_data",
          "data": {
            "text/plain": [
              "<Figure size 432x288 with 1 Axes>"
            ],
            "image/png": "[encoded data removed]"
          },
          "metadata": {
            "needs_background": "light"
          }
        },
        {
          "output_type": "stream",
          "name": "stdout",
          "text": [
            "skewness of sqft_living is 1.6974967168113668\n"
          ]
        },
        {
          "output_type": "display_data",
          "data": {
            "text/plain": [
              "<Figure size 432x288 with 1 Axes>"
            ],
            "image/png": "[encoded data removed]"
          },
          "metadata": {
            "needs_background": "light"
          }
        },
        {
          "output_type": "stream",
          "name": "stdout",
          "text": [
            "skewness of sqft_lot is 11.163640328436136\n"
          ]
        },
        {
          "output_type": "display_data",
          "data": {
            "text/plain": [
              "<Figure size 432x288 with 1 Axes>"
            ],
            "image/png": "[encoded data removed]"
          },
          "metadata": {
            "needs_background": "light"
          }
        },
        {
          "output_type": "stream",
          "name": "stdout",
          "text": [
            "skewness of floors is 0.42563757331794055\n"
          ]
        },
        {
          "output_type": "display_data",
          "data": {
            "text/plain": [
              "<Figure size 432x288 with 1 Axes>"
            ],
            "image/png": "[encoded data removed]"
          },
          "metadata": {
            "needs_background": "light"
          }
        },
        {
          "output_type": "stream",
          "name": "stdout",
          "text": [
            "skewness of sqft_basement is 1.6287316621138856\n"
          ]
        },
        {
          "output_type": "display_data",
          "data": {
            "text/plain": [
              "<Figure size 432x288 with 1 Axes>"
            ],
            "image/png": "[encoded data removed]"
          },
          "metadata": {
            "needs_background": "light"
          }
        },
        {
          "output_type": "stream",
          "name": "stdout",
          "text": [
            "skewness of statezip is 0.4964003451127496\n"
          ]
        },
        {
          "output_type": "display_data",
          "data": {
            "text/plain": [
              "<Figure size 432x288 with 1 Axes>"
            ],
            "image/png": "[encoded data removed]"
          },
          "metadata": {
            "needs_background": "light"
          }
        },
        {
          "output_type": "stream",
          "name": "stdout",
          "text": [
            "skewness of city_encoded is 1.992627775052593\n"
          ]
        },
        {
          "output_type": "display_data",
          "data": {
            "text/plain": [
              "<Figure size 432x288 with 1 Axes>"
            ],
            "image/png": "[encoded data removed]"
          },
          "metadata": {
            "needs_background": "light"
          }
        },
        {
          "output_type": "stream",
          "name": "stdout",
          "text": [
            "skewness of renov_age is 1.3273501707805622\n"
          ]
        },
        {
          "output_type": "display_data",
          "data": {
            "text/plain": [
              "<Figure size 432x288 with 1 Axes>"
            ],
            "image/png": "[encoded data removed]"
          },
          "metadata": {
            "needs_background": "light"
          }
        }
      ]
    },
    {
      "cell_type": "code",
      "source": [
        "df3 = dataset.copy()"
      ],
      "metadata": {
        "id": "kr_wfz0JjZYD"
      },
      "execution_count": 185,
      "outputs": []
    },
    {
      "cell_type": "code",
      "source": [
        "#Removing outliers \n",
        "for i in df3[['price', 'sqft_living', 'sqft_lot','sqft_basement','city_encoded','renov_age']]:\n",
        "  low, high = df3[i].quantile([0.05, 0.95])\n",
        "  df3[df3[i]<low]= low\n",
        "  df[df[i]>high] = high\n",
        "  print(f\"skew of the {i} is {df[i].skew()}\")\n",
        "\n"
      ],
      "metadata": {
        "colab": {
          "base_uri": "https://localhost:8080/"
        },
        "id": "xOakTuVNZyaj",
        "outputId": "f53afb27-7527-4aec-9f0e-dfea7e286581"
      },
      "execution_count": 187,
      "outputs": [
        {
          "output_type": "stream",
          "name": "stdout",
          "text": [
            "skew of the price is 2.6794783581126165\n",
            "skew of the sqft_living is 2.6794784592509653\n",
            "skew of the sqft_lot is 2.679475306212061\n",
            "skew of the sqft_basement is 1.855084910560965\n",
            "skew of the city_encoded is 2.6794787895002847\n",
            "skew of the renov_age is 2.6760061401983815\n"
          ]
        }
      ]
    },
    {
      "cell_type": "code",
      "source": [
        "for feature in df3[['price', 'sqft_living', 'sqft_lot', 'floors', 'statezip','city_encoded']]:\n",
        "    df3[feature] = np.log(df3[feature])\n",
        "    print(f\" {feature} skewness is {df3[feature].skew()}\")\n",
        "    sns.distplot(df[feature])\n",
        "    plt.show()"
      ],
      "metadata": {
        "colab": {
          "base_uri": "https://localhost:8080/",
          "height": 1000
        },
        "id": "_h8ZIyP5kd_r",
        "outputId": "d7395df5-b199-43eb-95ce-1a64367a61a0"
      },
      "execution_count": 188,
      "outputs": [
        {
          "output_type": "stream",
          "name": "stdout",
          "text": [
            " price skewness is 0.4371856506125701\n"
          ]
        },
        {
          "output_type": "display_data",
          "data": {
            "text/plain": [
              "<Figure size 432x288 with 1 Axes>"
            ],
            "image/png": "[encoded data removed]"
          },
          "metadata": {
            "needs_background": "light"
          }
        },
        {
          "output_type": "stream",
          "name": "stdout",
          "text": [
            " sqft_living skewness is 1.8142739933778689\n"
          ]
        },
        {
          "output_type": "display_data",
          "data": {
            "text/plain": [
              "<Figure size 432x288 with 1 Axes>"
            ],
            "image/png": "[encoded data removed]"
          },
          "metadata": {
            "needs_background": "light"
          }
        },
        {
          "output_type": "stream",
          "name": "stdout",
          "text": [
            " sqft_lot skewness is 1.0010310233051423\n"
          ]
        },
        {
          "output_type": "display_data",
          "data": {
            "text/plain": [
              "<Figure size 432x288 with 1 Axes>"
            ],
            "image/png": "[encoded data removed]"
          },
          "metadata": {
            "needs_background": "light"
          }
        },
        {
          "output_type": "stream",
          "name": "stdout",
          "text": [
            " floors skewness is 1.9424886921071296\n"
          ]
        },
        {
          "output_type": "display_data",
          "data": {
            "text/plain": [
              "<Figure size 432x288 with 1 Axes>"
            ],
            "image/png": "[encoded data removed]"
          },
          "metadata": {
            "needs_background": "light"
          }
        },
        {
          "output_type": "stream",
          "name": "stdout",
          "text": [
            " statezip skewness is 2.0302253753978055\n"
          ]
        },
        {
          "output_type": "display_data",
          "data": {
            "text/plain": [
              "<Figure size 432x288 with 1 Axes>"
            ],
            "image/png": "[encoded data removed]"
          },
          "metadata": {
            "needs_background": "light"
          }
        },
        {
          "output_type": "stream",
          "name": "stdout",
          "text": [
            " city_encoded skewness is -0.4911442691035981\n"
          ]
        },
        {
          "output_type": "display_data",
          "data": {
            "text/plain": [
              "<Figure size 432x288 with 1 Axes>"
            ],
            "image/png": "[encoded data removed]"
          },
          "metadata": {
            "needs_background": "light"
          }
        }
      ]
    },
    {
      "cell_type": "code",
      "source": [
        "dataset.describe()"
      ],
      "metadata": {
        "colab": {
          "base_uri": "https://localhost:8080/",
          "height": 428
        },
        "id": "kSV0IDyXltnD",
        "outputId": "e7aad41f-f29e-4126-f7cd-9b13e633b020"
      },
      "execution_count": 114,
      "outputs": [
        {
          "output_type": "execute_result",
          "data": {
            "text/plain": [
              "          bedrooms    bathrooms  sqft_living     sqft_lot       floors  \\\n",
              "count  4378.000000  4378.000000  4378.000000  4378.000000  4378.000000   \n",
              "mean      3.418456     2.143330     7.582399     9.071306     0.330632   \n",
              "std       0.902790     0.779794     0.430620     0.848634     0.339364   \n",
              "min       1.000000     0.750000     5.913503     6.725034     0.000000   \n",
              "25%       3.000000     1.750000     7.299797     8.575933     0.000000   \n",
              "50%       3.000000     2.250000     7.600902     8.965845     0.405465   \n",
              "75%       4.000000     2.500000     7.874739     9.327101     0.693147   \n",
              "max       9.000000     8.000000     9.513404    13.887104     1.098612   \n",
              "\n",
              "        waterfront         view    condition     statezip  \\\n",
              "count  4378.000000  4378.000000  4378.000000  4378.000000   \n",
              "mean      0.006624     0.236409     3.465281    11.493521   \n",
              "std       0.081127     0.766311     0.681225     0.000543   \n",
              "min       0.000000     0.000000     1.000000    11.492733   \n",
              "25%       0.000000     0.000000     3.000000    11.493059   \n",
              "50%       0.000000     0.000000     3.000000    11.493386   \n",
              "75%       0.000000     0.000000     4.000000    11.493916   \n",
              "max       1.000000     4.000000     5.000000    11.496328   \n",
              "\n",
              "       street_2520 Mulberry Walk NE  ...  street_2008 Yale Ave E  \\\n",
              "count                   4378.000000  ...             4378.000000   \n",
              "mean                       0.000457  ...                0.000228   \n",
              "std                        0.021371  ...                0.015113   \n",
              "min                        0.000000  ...                0.000000   \n",
              "25%                        0.000000  ...                0.000000   \n",
              "50%                        0.000000  ...                0.000000   \n",
              "75%                        0.000000  ...                0.000000   \n",
              "max                        1.000000  ...                1.000000   \n",
              "\n",
              "       street_Burke-Gilman Trail  street_3510 S Holly St  \\\n",
              "count                4378.000000             4378.000000   \n",
              "mean                    0.000457                0.000457   \n",
              "std                     0.021371                0.021371   \n",
              "min                     0.000000                0.000000   \n",
              "25%                     0.000000                0.000000   \n",
              "50%                     0.000000                0.000000   \n",
              "75%                     0.000000                0.000000   \n",
              "max                     1.000000                1.000000   \n",
              "\n",
              "       street_2358 Fairview Ave E  street_19454 SE 27th Pl  \\\n",
              "count                 4378.000000              4378.000000   \n",
              "mean                     0.000457                 0.000457   \n",
              "std                      0.021371                 0.021371   \n",
              "min                      0.000000                 0.000000   \n",
              "25%                      0.000000                 0.000000   \n",
              "50%                      0.000000                 0.000000   \n",
              "75%                      0.000000                 0.000000   \n",
              "max                      1.000000                 1.000000   \n",
              "\n",
              "       street_513 N 46th St  street_5968 44th Ave S  street_24345 35th Pl S  \\\n",
              "count                4378.0             4378.000000             4378.000000   \n",
              "mean                    0.0                0.000457                0.000457   \n",
              "std                     0.0                0.021371                0.021371   \n",
              "min                     0.0                0.000000                0.000000   \n",
              "25%                     0.0                0.000000                0.000000   \n",
              "50%                     0.0                0.000000                0.000000   \n",
              "75%                     0.0                0.000000                0.000000   \n",
              "max                     0.0                1.000000                1.000000   \n",
              "\n",
              "       city_encoded    renov_age  \n",
              "count   4378.000000  4378.000000  \n",
              "mean      13.175369    16.704431  \n",
              "std        0.327812    25.395530  \n",
              "min       12.241864     0.000000  \n",
              "25%       12.948944     0.000000  \n",
              "50%       13.277601     0.000000  \n",
              "75%       13.329235    33.750000  \n",
              "max       14.531670    97.000000  \n",
              "\n",
              "[8 rows x 21 columns]"
            ],
            "text/html": [
              "\n",
              "  <div id=\"df-2e17d143-182d-4649-86ac-b4d16eb80c4c\">\n",
              "    <div class=\"colab-df-container\">\n",
              "      <div>\n",
              "<style scoped>\n",
              "    .dataframe tbody tr th:only-of-type {\n",
              "        vertical-align: middle;\n",
              "    }\n",
              "\n",
              "    .dataframe tbody tr th {\n",
              "        vertical-align: top;\n",
              "    }\n",
              "\n",
              "    .dataframe thead th {\n",
              "        text-align: right;\n",
              "    }\n",
              "</style>\n",
              "<table border=\"1\" class=\"dataframe\">\n",
              "  <thead>\n",
              "    <tr style=\"text-align: right;\">\n",
              "      <th></th>\n",
              "      <th>bedrooms</th>\n",
              "      <th>bathrooms</th>\n",
              "      <th>sqft_living</th>\n",
              "      <th>sqft_lot</th>\n",
              "      <th>floors</th>\n",
              "      <th>waterfront</th>\n",
              "      <th>view</th>\n",
              "      <th>condition</th>\n",
              "      <th>statezip</th>\n",
              "      <th>street_2520 Mulberry Walk NE</th>\n",
              "      <th>...</th>\n",
              "      <th>street_2008 Yale Ave E</th>\n",
              "      <th>street_Burke-Gilman Trail</th>\n",
              "      <th>street_3510 S Holly St</th>\n",
              "      <th>street_2358 Fairview Ave E</th>\n",
              "      <th>street_19454 SE 27th Pl</th>\n",
              "      <th>street_513 N 46th St</th>\n",
              "      <th>street_5968 44th Ave S</th>\n",
              "      <th>street_24345 35th Pl S</th>\n",
              "      <th>city_encoded</th>\n",
              "      <th>renov_age</th>\n",
              "    </tr>\n",
              "  </thead>\n",
              "  <tbody>\n",
              "    <tr>\n",
              "      <th>count</th>\n",
              "      <td>4378.000000</td>\n",
              "      <td>4378.000000</td>\n",
              "      <td>4378.000000</td>\n",
              "      <td>4378.000000</td>\n",
              "      <td>4378.000000</td>\n",
              "      <td>4378.000000</td>\n",
              "      <td>4378.000000</td>\n",
              "      <td>4378.000000</td>\n",
              "      <td>4378.000000</td>\n",
              "      <td>4378.000000</td>\n",
              "      <td>...</td>\n",
              "      <td>4378.000000</td>\n",
              "      <td>4378.000000</td>\n",
              "      <td>4378.000000</td>\n",
              "      <td>4378.000000</td>\n",
              "      <td>4378.000000</td>\n",
              "      <td>4378.0</td>\n",
              "      <td>4378.000000</td>\n",
              "      <td>4378.000000</td>\n",
              "      <td>4378.000000</td>\n",
              "      <td>4378.000000</td>\n",
              "    </tr>\n",
              "    <tr>\n",
              "      <th>mean</th>\n",
              "      <td>3.418456</td>\n",
              "      <td>2.143330</td>\n",
              "      <td>7.582399</td>\n",
              "      <td>9.071306</td>\n",
              "      <td>0.330632</td>\n",
              "      <td>0.006624</td>\n",
              "      <td>0.236409</td>\n",
              "      <td>3.465281</td>\n",
              "      <td>11.493521</td>\n",
              "      <td>0.000457</td>\n",
              "      <td>...</td>\n",
              "      <td>0.000228</td>\n",
              "      <td>0.000457</td>\n",
              "      <td>0.000457</td>\n",
              "      <td>0.000457</td>\n",
              "      <td>0.000457</td>\n",
              "      <td>0.0</td>\n",
              "      <td>0.000457</td>\n",
              "      <td>0.000457</td>\n",
              "      <td>13.175369</td>\n",
              "      <td>16.704431</td>\n",
              "    </tr>\n",
              "    <tr>\n",
              "      <th>std</th>\n",
              "      <td>0.902790</td>\n",
              "      <td>0.779794</td>\n",
              "      <td>0.430620</td>\n",
              "      <td>0.848634</td>\n",
              "      <td>0.339364</td>\n",
              "      <td>0.081127</td>\n",
              "      <td>0.766311</td>\n",
              "      <td>0.681225</td>\n",
              "      <td>0.000543</td>\n",
              "      <td>0.021371</td>\n",
              "      <td>...</td>\n",
              "      <td>0.015113</td>\n",
              "      <td>0.021371</td>\n",
              "      <td>0.021371</td>\n",
              "      <td>0.021371</td>\n",
              "      <td>0.021371</td>\n",
              "      <td>0.0</td>\n",
              "      <td>0.021371</td>\n",
              "      <td>0.021371</td>\n",
              "      <td>0.327812</td>\n",
              "      <td>25.395530</td>\n",
              "    </tr>\n",
              "    <tr>\n",
              "      <th>min</th>\n",
              "      <td>1.000000</td>\n",
              "      <td>0.750000</td>\n",
              "      <td>5.913503</td>\n",
              "      <td>6.725034</td>\n",
              "      <td>0.000000</td>\n",
              "      <td>0.000000</td>\n",
              "      <td>0.000000</td>\n",
              "      <td>1.000000</td>\n",
              "      <td>11.492733</td>\n",
              "      <td>0.000000</td>\n",
              "      <td>...</td>\n",
              "      <td>0.000000</td>\n",
              "      <td>0.000000</td>\n",
              "      <td>0.000000</td>\n",
              "      <td>0.000000</td>\n",
              "      <td>0.000000</td>\n",
              "      <td>0.0</td>\n",
              "      <td>0.000000</td>\n",
              "      <td>0.000000</td>\n",
              "      <td>12.241864</td>\n",
              "      <td>0.000000</td>\n",
              "    </tr>\n",
              "    <tr>\n",
              "      <th>25%</th>\n",
              "      <td>3.000000</td>\n",
              "      <td>1.750000</td>\n",
              "      <td>7.299797</td>\n",
              "      <td>8.575933</td>\n",
              "      <td>0.000000</td>\n",
              "      <td>0.000000</td>\n",
              "      <td>0.000000</td>\n",
              "      <td>3.000000</td>\n",
              "      <td>11.493059</td>\n",
              "      <td>0.000000</td>\n",
              "      <td>...</td>\n",
              "      <td>0.000000</td>\n",
              "      <td>0.000000</td>\n",
              "      <td>0.000000</td>\n",
              "      <td>0.000000</td>\n",
              "      <td>0.000000</td>\n",
              "      <td>0.0</td>\n",
              "      <td>0.000000</td>\n",
              "      <td>0.000000</td>\n",
              "      <td>12.948944</td>\n",
              "      <td>0.000000</td>\n",
              "    </tr>\n",
              "    <tr>\n",
              "      <th>50%</th>\n",
              "      <td>3.000000</td>\n",
              "      <td>2.250000</td>\n",
              "      <td>7.600902</td>\n",
              "      <td>8.965845</td>\n",
              "      <td>0.405465</td>\n",
              "      <td>0.000000</td>\n",
              "      <td>0.000000</td>\n",
              "      <td>3.000000</td>\n",
              "      <td>11.493386</td>\n",
              "      <td>0.000000</td>\n",
              "      <td>...</td>\n",
              "      <td>0.000000</td>\n",
              "      <td>0.000000</td>\n",
              "      <td>0.000000</td>\n",
              "      <td>0.000000</td>\n",
              "      <td>0.000000</td>\n",
              "      <td>0.0</td>\n",
              "      <td>0.000000</td>\n",
              "      <td>0.000000</td>\n",
              "      <td>13.277601</td>\n",
              "      <td>0.000000</td>\n",
              "    </tr>\n",
              "    <tr>\n",
              "      <th>75%</th>\n",
              "      <td>4.000000</td>\n",
              "      <td>2.500000</td>\n",
              "      <td>7.874739</td>\n",
              "      <td>9.327101</td>\n",
              "      <td>0.693147</td>\n",
              "      <td>0.000000</td>\n",
              "      <td>0.000000</td>\n",
              "      <td>4.000000</td>\n",
              "      <td>11.493916</td>\n",
              "      <td>0.000000</td>\n",
              "      <td>...</td>\n",
              "      <td>0.000000</td>\n",
              "      <td>0.000000</td>\n",
              "      <td>0.000000</td>\n",
              "      <td>0.000000</td>\n",
              "      <td>0.000000</td>\n",
              "      <td>0.0</td>\n",
              "      <td>0.000000</td>\n",
              "      <td>0.000000</td>\n",
              "      <td>13.329235</td>\n",
              "      <td>33.750000</td>\n",
              "    </tr>\n",
              "    <tr>\n",
              "      <th>max</th>\n",
              "      <td>9.000000</td>\n",
              "      <td>8.000000</td>\n",
              "      <td>9.513404</td>\n",
              "      <td>13.887104</td>\n",
              "      <td>1.098612</td>\n",
              "      <td>1.000000</td>\n",
              "      <td>4.000000</td>\n",
              "      <td>5.000000</td>\n",
              "      <td>11.496328</td>\n",
              "      <td>1.000000</td>\n",
              "      <td>...</td>\n",
              "      <td>1.000000</td>\n",
              "      <td>1.000000</td>\n",
              "      <td>1.000000</td>\n",
              "      <td>1.000000</td>\n",
              "      <td>1.000000</td>\n",
              "      <td>0.0</td>\n",
              "      <td>1.000000</td>\n",
              "      <td>1.000000</td>\n",
              "      <td>14.531670</td>\n",
              "      <td>97.000000</td>\n",
              "    </tr>\n",
              "  </tbody>\n",
              "</table>\n",
              "<p>8 rows × 21 columns</p>\n",
              "</div>\n",
              "      <button class=\"colab-df-convert\" onclick=\"convertToInteractive('df-2e17d143-182d-4649-86ac-b4d16eb80c4c')\"\n",
              "              title=\"Convert this dataframe to an interactive table.\"\n",
              "              style=\"display:none;\">\n",
              "        \n",
              "  <svg xmlns=\"http://www.w3.org/2000/svg\" height=\"24px\"viewBox=\"0 0 24 24\"\n",
              "       width=\"24px\">\n",
              "    <path d=\"M0 0h24v24H0V0z\" fill=\"none\"/>\n",
              "    <path d=\"M18.56 5.44l.94 2.06.94-2.06 2.06-.94-2.06-.94-.94-2.06-.94 2.06-2.06.94zm-11 1L8.5 8.5l.94-2.06 2.06-.94-2.06-.94L8.5 2.5l-.94 2.06-2.06.94zm10 10l.94 2.06.94-2.06 2.06-.94-2.06-.94-.94-2.06-.94 2.06-2.06.94z\"/><path d=\"M17.41 7.96l-1.37-1.37c-.4-.4-.92-.59-1.43-.59-.52 0-1.04.2-1.43.59L10.3 9.45l-7.72 7.72c-.78.78-.78 2.05 0 2.83L4 21.41c.39.39.9.59 1.41.59.51 0 1.02-.2 1.41-.59l7.78-7.78 2.81-2.81c.8-.78.8-2.07 0-2.86zM5.41 20L4 18.59l7.72-7.72 1.47 1.35L5.41 20z\"/>\n",
              "  </svg>\n",
              "      </button>\n",
              "      \n",
              "  <style>\n",
              "    .colab-df-container {\n",
              "      display:flex;\n",
              "      flex-wrap:wrap;\n",
              "      gap: 12px;\n",
              "    }\n",
              "\n",
              "    .colab-df-convert {\n",
              "      background-color: #E8F0FE;\n",
              "      border: none;\n",
              "      border-radius: 50%;\n",
              "      cursor: pointer;\n",
              "      display: none;\n",
              "      fill: #1967D2;\n",
              "      height: 32px;\n",
              "      padding: 0 0 0 0;\n",
              "      width: 32px;\n",
              "    }\n",
              "\n",
              "    .colab-df-convert:hover {\n",
              "      background-color: #E2EBFA;\n",
              "      box-shadow: 0px 1px 2px rgba(60, 64, 67, 0.3), 0px 1px 3px 1px rgba(60, 64, 67, 0.15);\n",
              "      fill: #174EA6;\n",
              "    }\n",
              "\n",
              "    [theme=dark] .colab-df-convert {\n",
              "      background-color: #3B4455;\n",
              "      fill: #D2E3FC;\n",
              "    }\n",
              "\n",
              "    [theme=dark] .colab-df-convert:hover {\n",
              "      background-color: #434B5C;\n",
              "      box-shadow: 0px 1px 3px 1px rgba(0, 0, 0, 0.15);\n",
              "      filter: drop-shadow(0px 1px 2px rgba(0, 0, 0, 0.3));\n",
              "      fill: #FFFFFF;\n",
              "    }\n",
              "  </style>\n",
              "\n",
              "      <script>\n",
              "        const buttonEl =\n",
              "          document.querySelector('#df-2e17d143-182d-4649-86ac-b4d16eb80c4c button.colab-df-convert');\n",
              "        buttonEl.style.display =\n",
              "          google.colab.kernel.accessAllowed ? 'block' : 'none';\n",
              "\n",
              "        async function convertToInteractive(key) {\n",
              "          const element = document.querySelector('#df-2e17d143-182d-4649-86ac-b4d16eb80c4c');\n",
              "          const dataTable =\n",
              "            await google.colab.kernel.invokeFunction('convertToInteractive',\n",
              "                                                     [key], {});\n",
              "          if (!dataTable) return;\n",
              "\n",
              "          const docLinkHtml = 'Like what you see? Visit the ' +\n",
              "            '<a target=\"_blank\" href=https://colab.research.google.com/notebooks/data_table.ipynb>data table notebook</a>'\n",
              "            + ' to learn more about interactive tables.';\n",
              "          element.innerHTML = '';\n",
              "          dataTable['output_type'] = 'display_data';\n",
              "          await google.colab.output.renderOutput(dataTable, element);\n",
              "          const docLink = document.createElement('div');\n",
              "          docLink.innerHTML = docLinkHtml;\n",
              "          element.appendChild(docLink);\n",
              "        }\n",
              "      </script>\n",
              "    </div>\n",
              "  </div>\n",
              "  "
            ]
          },
          "metadata": {},
          "execution_count": 114
        }
      ]
    },
    {
      "cell_type": "code",
      "source": [
        "X = df3.drop(['price'],axis=1)\n",
        "y= df3['price']\n",
        "X.describe()"
      ],
      "metadata": {
        "colab": {
          "base_uri": "https://localhost:8080/",
          "height": 428
        },
        "id": "yvsG3OZpozjK",
        "outputId": "de470010-a673-453c-9547-09bdcb1c9074"
      },
      "execution_count": 189,
      "outputs": [
        {
          "output_type": "execute_result",
          "data": {
            "text/plain": [
              "            bedrooms      bathrooms  sqft_living     sqft_lot       floors  \\\n",
              "count    4378.000000    4378.000000  4378.000000  4378.000000  4378.000000   \n",
              "mean    29388.476436   29387.397062     8.369186     9.582217     2.137287   \n",
              "std     70328.630620   70329.081709     1.631830     1.346266     4.226533   \n",
              "min         1.000000       0.750000     7.073270     7.140453     0.000000   \n",
              "25%         3.000000       2.000000     7.489971     8.699515     0.000000   \n",
              "50%         4.000000       2.500000     7.757906     9.104980     0.693147   \n",
              "75%         4.000000       3.000000     8.112976    10.068779     0.693147   \n",
              "max    210000.000000  210000.000000    12.254863    13.887104    12.254863   \n",
              "\n",
              "          waterfront          view      condition  sqft_basement     statezip  \\\n",
              "count    4378.000000    4378.00000    4378.000000    4378.000000  4378.000000   \n",
              "mean    29385.440118   29385.66031   29388.375934   29692.808094    11.596885   \n",
              "std     70329.899548   70329.80753   70328.672620   70202.879944     0.248610   \n",
              "min         0.000000       0.00000       1.000000       0.000000    11.492733   \n",
              "25%         0.000000       0.00000       3.000000       0.000000    11.493070   \n",
              "50%         0.000000       0.00000       3.000000     300.000000    11.493488   \n",
              "75%         0.000000       0.00000       4.000000    1000.000000    11.494110   \n",
              "max    210000.000000  210000.00000  210000.000000  210000.000000    12.254863   \n",
              "\n",
              "       ...  street_2008 Yale Ave E  street_Burke-Gilman Trail  \\\n",
              "count  ...             4378.000000                4378.000000   \n",
              "mean   ...            29385.433951               29385.434408   \n",
              "std    ...            70329.902125               70329.901934   \n",
              "min    ...                0.000000                   0.000000   \n",
              "25%    ...                0.000000                   0.000000   \n",
              "50%    ...                0.000000                   0.000000   \n",
              "75%    ...                0.000000                   0.000000   \n",
              "max    ...           210000.000000              210000.000000   \n",
              "\n",
              "       street_3510 S Holly St  street_2358 Fairview Ave E  \\\n",
              "count             4378.000000                 4378.000000   \n",
              "mean             29385.433951                29385.433951   \n",
              "std              70329.902125                70329.902125   \n",
              "min                  0.000000                    0.000000   \n",
              "25%                  0.000000                    0.000000   \n",
              "50%                  0.000000                    0.000000   \n",
              "75%                  0.000000                    0.000000   \n",
              "max             210000.000000               210000.000000   \n",
              "\n",
              "       street_19454 SE 27th Pl  street_513 N 46th St  street_5968 44th Ave S  \\\n",
              "count              4378.000000           4378.000000             4378.000000   \n",
              "mean              29385.434408          29385.433951            29385.433951   \n",
              "std               70329.901934          70329.902125            70329.902125   \n",
              "min                   0.000000              0.000000                0.000000   \n",
              "25%                   0.000000              0.000000                0.000000   \n",
              "50%                   0.000000              0.000000                0.000000   \n",
              "75%                   0.000000              0.000000                0.000000   \n",
              "max              210000.000000         210000.000000           210000.000000   \n",
              "\n",
              "       street_24345 35th Pl S  city_encoded      renov_age  \n",
              "count             4378.000000   4378.000000    4378.000000  \n",
              "mean             29385.434179     13.042177   29398.070543  \n",
              "std              70329.902030      0.472156   70324.624655  \n",
              "min                  0.000000     12.069118       0.000000  \n",
              "25%                  0.000000     12.736750       0.000000  \n",
              "50%                  0.000000     13.277601       0.000000  \n",
              "75%                  0.000000     13.303633      48.000000  \n",
              "max             210000.000000     14.531670  210000.000000  \n",
              "\n",
              "[8 rows x 22 columns]"
            ],
            "text/html": [
              "\n",
              "  <div id=\"df-e33dd1cb-f6dd-4416-a264-471502f2c2a1\">\n",
              "    <div class=\"colab-df-container\">\n",
              "      <div>\n",
              "<style scoped>\n",
              "    .dataframe tbody tr th:only-of-type {\n",
              "        vertical-align: middle;\n",
              "    }\n",
              "\n",
              "    .dataframe tbody tr th {\n",
              "        vertical-align: top;\n",
              "    }\n",
              "\n",
              "    .dataframe thead th {\n",
              "        text-align: right;\n",
              "    }\n",
              "</style>\n",
              "<table border=\"1\" class=\"dataframe\">\n",
              "  <thead>\n",
              "    <tr style=\"text-align: right;\">\n",
              "      <th></th>\n",
              "      <th>bedrooms</th>\n",
              "      <th>bathrooms</th>\n",
              "      <th>sqft_living</th>\n",
              "      <th>sqft_lot</th>\n",
              "      <th>floors</th>\n",
              "      <th>waterfront</th>\n",
              "      <th>view</th>\n",
              "      <th>condition</th>\n",
              "      <th>sqft_basement</th>\n",
              "      <th>statezip</th>\n",
              "      <th>...</th>\n",
              "      <th>street_2008 Yale Ave E</th>\n",
              "      <th>street_Burke-Gilman Trail</th>\n",
              "      <th>street_3510 S Holly St</th>\n",
              "      <th>street_2358 Fairview Ave E</th>\n",
              "      <th>street_19454 SE 27th Pl</th>\n",
              "      <th>street_513 N 46th St</th>\n",
              "      <th>street_5968 44th Ave S</th>\n",
              "      <th>street_24345 35th Pl S</th>\n",
              "      <th>city_encoded</th>\n",
              "      <th>renov_age</th>\n",
              "    </tr>\n",
              "  </thead>\n",
              "  <tbody>\n",
              "    <tr>\n",
              "      <th>count</th>\n",
              "      <td>4378.000000</td>\n",
              "      <td>4378.000000</td>\n",
              "      <td>4378.000000</td>\n",
              "      <td>4378.000000</td>\n",
              "      <td>4378.000000</td>\n",
              "      <td>4378.000000</td>\n",
              "      <td>4378.00000</td>\n",
              "      <td>4378.000000</td>\n",
              "      <td>4378.000000</td>\n",
              "      <td>4378.000000</td>\n",
              "      <td>...</td>\n",
              "      <td>4378.000000</td>\n",
              "      <td>4378.000000</td>\n",
              "      <td>4378.000000</td>\n",
              "      <td>4378.000000</td>\n",
              "      <td>4378.000000</td>\n",
              "      <td>4378.000000</td>\n",
              "      <td>4378.000000</td>\n",
              "      <td>4378.000000</td>\n",
              "      <td>4378.000000</td>\n",
              "      <td>4378.000000</td>\n",
              "    </tr>\n",
              "    <tr>\n",
              "      <th>mean</th>\n",
              "      <td>29388.476436</td>\n",
              "      <td>29387.397062</td>\n",
              "      <td>8.369186</td>\n",
              "      <td>9.582217</td>\n",
              "      <td>2.137287</td>\n",
              "      <td>29385.440118</td>\n",
              "      <td>29385.66031</td>\n",
              "      <td>29388.375934</td>\n",
              "      <td>29692.808094</td>\n",
              "      <td>11.596885</td>\n",
              "      <td>...</td>\n",
              "      <td>29385.433951</td>\n",
              "      <td>29385.434408</td>\n",
              "      <td>29385.433951</td>\n",
              "      <td>29385.433951</td>\n",
              "      <td>29385.434408</td>\n",
              "      <td>29385.433951</td>\n",
              "      <td>29385.433951</td>\n",
              "      <td>29385.434179</td>\n",
              "      <td>13.042177</td>\n",
              "      <td>29398.070543</td>\n",
              "    </tr>\n",
              "    <tr>\n",
              "      <th>std</th>\n",
              "      <td>70328.630620</td>\n",
              "      <td>70329.081709</td>\n",
              "      <td>1.631830</td>\n",
              "      <td>1.346266</td>\n",
              "      <td>4.226533</td>\n",
              "      <td>70329.899548</td>\n",
              "      <td>70329.80753</td>\n",
              "      <td>70328.672620</td>\n",
              "      <td>70202.879944</td>\n",
              "      <td>0.248610</td>\n",
              "      <td>...</td>\n",
              "      <td>70329.902125</td>\n",
              "      <td>70329.901934</td>\n",
              "      <td>70329.902125</td>\n",
              "      <td>70329.902125</td>\n",
              "      <td>70329.901934</td>\n",
              "      <td>70329.902125</td>\n",
              "      <td>70329.902125</td>\n",
              "      <td>70329.902030</td>\n",
              "      <td>0.472156</td>\n",
              "      <td>70324.624655</td>\n",
              "    </tr>\n",
              "    <tr>\n",
              "      <th>min</th>\n",
              "      <td>1.000000</td>\n",
              "      <td>0.750000</td>\n",
              "      <td>7.073270</td>\n",
              "      <td>7.140453</td>\n",
              "      <td>0.000000</td>\n",
              "      <td>0.000000</td>\n",
              "      <td>0.00000</td>\n",
              "      <td>1.000000</td>\n",
              "      <td>0.000000</td>\n",
              "      <td>11.492733</td>\n",
              "      <td>...</td>\n",
              "      <td>0.000000</td>\n",
              "      <td>0.000000</td>\n",
              "      <td>0.000000</td>\n",
              "      <td>0.000000</td>\n",
              "      <td>0.000000</td>\n",
              "      <td>0.000000</td>\n",
              "      <td>0.000000</td>\n",
              "      <td>0.000000</td>\n",
              "      <td>12.069118</td>\n",
              "      <td>0.000000</td>\n",
              "    </tr>\n",
              "    <tr>\n",
              "      <th>25%</th>\n",
              "      <td>3.000000</td>\n",
              "      <td>2.000000</td>\n",
              "      <td>7.489971</td>\n",
              "      <td>8.699515</td>\n",
              "      <td>0.000000</td>\n",
              "      <td>0.000000</td>\n",
              "      <td>0.00000</td>\n",
              "      <td>3.000000</td>\n",
              "      <td>0.000000</td>\n",
              "      <td>11.493070</td>\n",
              "      <td>...</td>\n",
              "      <td>0.000000</td>\n",
              "      <td>0.000000</td>\n",
              "      <td>0.000000</td>\n",
              "      <td>0.000000</td>\n",
              "      <td>0.000000</td>\n",
              "      <td>0.000000</td>\n",
              "      <td>0.000000</td>\n",
              "      <td>0.000000</td>\n",
              "      <td>12.736750</td>\n",
              "      <td>0.000000</td>\n",
              "    </tr>\n",
              "    <tr>\n",
              "      <th>50%</th>\n",
              "      <td>4.000000</td>\n",
              "      <td>2.500000</td>\n",
              "      <td>7.757906</td>\n",
              "      <td>9.104980</td>\n",
              "      <td>0.693147</td>\n",
              "      <td>0.000000</td>\n",
              "      <td>0.00000</td>\n",
              "      <td>3.000000</td>\n",
              "      <td>300.000000</td>\n",
              "      <td>11.493488</td>\n",
              "      <td>...</td>\n",
              "      <td>0.000000</td>\n",
              "      <td>0.000000</td>\n",
              "      <td>0.000000</td>\n",
              "      <td>0.000000</td>\n",
              "      <td>0.000000</td>\n",
              "      <td>0.000000</td>\n",
              "      <td>0.000000</td>\n",
              "      <td>0.000000</td>\n",
              "      <td>13.277601</td>\n",
              "      <td>0.000000</td>\n",
              "    </tr>\n",
              "    <tr>\n",
              "      <th>75%</th>\n",
              "      <td>4.000000</td>\n",
              "      <td>3.000000</td>\n",
              "      <td>8.112976</td>\n",
              "      <td>10.068779</td>\n",
              "      <td>0.693147</td>\n",
              "      <td>0.000000</td>\n",
              "      <td>0.00000</td>\n",
              "      <td>4.000000</td>\n",
              "      <td>1000.000000</td>\n",
              "      <td>11.494110</td>\n",
              "      <td>...</td>\n",
              "      <td>0.000000</td>\n",
              "      <td>0.000000</td>\n",
              "      <td>0.000000</td>\n",
              "      <td>0.000000</td>\n",
              "      <td>0.000000</td>\n",
              "      <td>0.000000</td>\n",
              "      <td>0.000000</td>\n",
              "      <td>0.000000</td>\n",
              "      <td>13.303633</td>\n",
              "      <td>48.000000</td>\n",
              "    </tr>\n",
              "    <tr>\n",
              "      <th>max</th>\n",
              "      <td>210000.000000</td>\n",
              "      <td>210000.000000</td>\n",
              "      <td>12.254863</td>\n",
              "      <td>13.887104</td>\n",
              "      <td>12.254863</td>\n",
              "      <td>210000.000000</td>\n",
              "      <td>210000.00000</td>\n",
              "      <td>210000.000000</td>\n",
              "      <td>210000.000000</td>\n",
              "      <td>12.254863</td>\n",
              "      <td>...</td>\n",
              "      <td>210000.000000</td>\n",
              "      <td>210000.000000</td>\n",
              "      <td>210000.000000</td>\n",
              "      <td>210000.000000</td>\n",
              "      <td>210000.000000</td>\n",
              "      <td>210000.000000</td>\n",
              "      <td>210000.000000</td>\n",
              "      <td>210000.000000</td>\n",
              "      <td>14.531670</td>\n",
              "      <td>210000.000000</td>\n",
              "    </tr>\n",
              "  </tbody>\n",
              "</table>\n",
              "<p>8 rows × 22 columns</p>\n",
              "</div>\n",
              "      <button class=\"colab-df-convert\" onclick=\"convertToInteractive('df-e33dd1cb-f6dd-4416-a264-471502f2c2a1')\"\n",
              "              title=\"Convert this dataframe to an interactive table.\"\n",
              "              style=\"display:none;\">\n",
              "        \n",
              "  <svg xmlns=\"http://www.w3.org/2000/svg\" height=\"24px\"viewBox=\"0 0 24 24\"\n",
              "       width=\"24px\">\n",
              "    <path d=\"M0 0h24v24H0V0z\" fill=\"none\"/>\n",
              "    <path d=\"M18.56 5.44l.94 2.06.94-2.06 2.06-.94-2.06-.94-.94-2.06-.94 2.06-2.06.94zm-11 1L8.5 8.5l.94-2.06 2.06-.94-2.06-.94L8.5 2.5l-.94 2.06-2.06.94zm10 10l.94 2.06.94-2.06 2.06-.94-2.06-.94-.94-2.06-.94 2.06-2.06.94z\"/><path d=\"M17.41 7.96l-1.37-1.37c-.4-.4-.92-.59-1.43-.59-.52 0-1.04.2-1.43.59L10.3 9.45l-7.72 7.72c-.78.78-.78 2.05 0 2.83L4 21.41c.39.39.9.59 1.41.59.51 0 1.02-.2 1.41-.59l7.78-7.78 2.81-2.81c.8-.78.8-2.07 0-2.86zM5.41 20L4 18.59l7.72-7.72 1.47 1.35L5.41 20z\"/>\n",
              "  </svg>\n",
              "      </button>\n",
              "      \n",
              "  <style>\n",
              "    .colab-df-container {\n",
              "      display:flex;\n",
              "      flex-wrap:wrap;\n",
              "      gap: 12px;\n",
              "    }\n",
              "\n",
              "    .colab-df-convert {\n",
              "      background-color: #E8F0FE;\n",
              "      border: none;\n",
              "      border-radius: 50%;\n",
              "      cursor: pointer;\n",
              "      display: none;\n",
              "      fill: #1967D2;\n",
              "      height: 32px;\n",
              "      padding: 0 0 0 0;\n",
              "      width: 32px;\n",
              "    }\n",
              "\n",
              "    .colab-df-convert:hover {\n",
              "      background-color: #E2EBFA;\n",
              "      box-shadow: 0px 1px 2px rgba(60, 64, 67, 0.3), 0px 1px 3px 1px rgba(60, 64, 67, 0.15);\n",
              "      fill: #174EA6;\n",
              "    }\n",
              "\n",
              "    [theme=dark] .colab-df-convert {\n",
              "      background-color: #3B4455;\n",
              "      fill: #D2E3FC;\n",
              "    }\n",
              "\n",
              "    [theme=dark] .colab-df-convert:hover {\n",
              "      background-color: #434B5C;\n",
              "      box-shadow: 0px 1px 3px 1px rgba(0, 0, 0, 0.15);\n",
              "      filter: drop-shadow(0px 1px 2px rgba(0, 0, 0, 0.3));\n",
              "      fill: #FFFFFF;\n",
              "    }\n",
              "  </style>\n",
              "\n",
              "      <script>\n",
              "        const buttonEl =\n",
              "          document.querySelector('#df-e33dd1cb-f6dd-4416-a264-471502f2c2a1 button.colab-df-convert');\n",
              "        buttonEl.style.display =\n",
              "          google.colab.kernel.accessAllowed ? 'block' : 'none';\n",
              "\n",
              "        async function convertToInteractive(key) {\n",
              "          const element = document.querySelector('#df-e33dd1cb-f6dd-4416-a264-471502f2c2a1');\n",
              "          const dataTable =\n",
              "            await google.colab.kernel.invokeFunction('convertToInteractive',\n",
              "                                                     [key], {});\n",
              "          if (!dataTable) return;\n",
              "\n",
              "          const docLinkHtml = 'Like what you see? Visit the ' +\n",
              "            '<a target=\"_blank\" href=https://colab.research.google.com/notebooks/data_table.ipynb>data table notebook</a>'\n",
              "            + ' to learn more about interactive tables.';\n",
              "          element.innerHTML = '';\n",
              "          dataTable['output_type'] = 'display_data';\n",
              "          await google.colab.output.renderOutput(dataTable, element);\n",
              "          const docLink = document.createElement('div');\n",
              "          docLink.innerHTML = docLinkHtml;\n",
              "          element.appendChild(docLink);\n",
              "        }\n",
              "      </script>\n",
              "    </div>\n",
              "  </div>\n",
              "  "
            ]
          },
          "metadata": {},
          "execution_count": 189
        }
      ]
    },
    {
      "cell_type": "code",
      "source": [
        "y.describe()"
      ],
      "metadata": {
        "colab": {
          "base_uri": "https://localhost:8080/"
        },
        "id": "Yt1VoL_asCny",
        "outputId": "58ef5c0d-0796-4bda-fdbd-2a49ef7c6fd5"
      },
      "execution_count": 47,
      "outputs": [
        {
          "output_type": "execute_result",
          "data": {
            "text/plain": [
              "count    4378.000000\n",
              "mean       13.064183\n",
              "std         0.548320\n",
              "min         8.961879\n",
              "25%        12.691580\n",
              "50%        13.049793\n",
              "75%        13.399995\n",
              "max        17.096046\n",
              "Name: price, dtype: float64"
            ]
          },
          "metadata": {},
          "execution_count": 47
        }
      ]
    },
    {
      "cell_type": "code",
      "source": [
        "from sklearn.model_selection import train_test_split, KFold, cross_val_score, GridSearchCV\n",
        "from sklearn.preprocessing import StandardScaler\n",
        "from sklearn.linear_model import LinearRegression, SGDRegressor, Ridge, Lasso, ElasticNet, BayesianRidge,RANSACRegressor,HuberRegressor\n",
        "from sklearn.ensemble import RandomForestRegressor, AdaBoostRegressor, BaggingRegressor, GradientBoostingRegressor, ExtraTreesRegressor\n",
        "from sklearn.neighbors import KNeighborsRegressor\n",
        "from sklearn.tree import DecisionTreeRegressor\n",
        "from xgboost import XGBRegressor\n",
        "from sklearn.decomposition import PCA, KernelPCA\n",
        "from sklearn.metrics import mean_squared_error, r2_score\n",
        "from sklearn.pipeline import Pipeline"
      ],
      "metadata": {
        "id": "v4jAVUx3ppgL"
      },
      "execution_count": 191,
      "outputs": []
    },
    {
      "cell_type": "code",
      "source": [
        "sc = ('Scaler', StandardScaler())\n",
        "est =[]\n",
        "est.append(('LinearRegression', Pipeline([sc, ('LinearRegression', LinearRegression())])))\n",
        "est.append(('Ridge', Pipeline([sc, ('Ridge', Ridge())])))\n",
        "est.append(('Lasso', Pipeline([sc, ('Lasso', Lasso())])))\n",
        "est.append(('BayesianRidge', Pipeline([sc, ('BayesianRidge', BayesianRidge())])))\n",
        "est.append(('ElasticNet', Pipeline([sc,('Elastic', ElasticNet())])))\n",
        "est.append(('SGD', Pipeline([sc,('SGD', SGDRegressor())])))\n",
        "est.append(('Huber', Pipeline([sc,('Huber', HuberRegressor())])))\n",
        "est.append(('RANSAC', Pipeline([sc,('RANSAC', RANSACRegressor())])))\n",
        "est.append(('GradientBoosting', Pipeline([sc,('GradientBoosting',GradientBoostingRegressor())])))\n",
        "est.append(('AdaBoost', Pipeline([sc, ('AdaBoost', AdaBoostRegressor())])))\n",
        "est.append(('ExtraTree', Pipeline([sc,('ExtraTrees', ExtraTreesRegressor())])))\n",
        "est.append(('RandomForest', Pipeline([sc,('RandomForest', RandomForestRegressor())]))) \n",
        "est.append(('Bagging', Pipeline([sc,('Bagging', BaggingRegressor())])))\n",
        "est.append(('KNeighbors', Pipeline([sc,('KNeighbors', KNeighborsRegressor())])))\n",
        "est.append(('DecisionTree', Pipeline([sc,('DecisionTree', DecisionTreeRegressor())])))\n",
        "est.append(('XGB', Pipeline([sc,('XGB', XGBRegressor())])))"
      ],
      "metadata": {
        "id": "p4CatgyPo88z"
      },
      "execution_count": 190,
      "outputs": []
    },
    {
      "cell_type": "code",
      "source": [
        "x_train, x_test, y_train, y_test = train_test_split(X, y, test_size = 0.33, random_state=0)"
      ],
      "metadata": {
        "id": "Z-W4YYxQp80y"
      },
      "execution_count": 192,
      "outputs": []
    },
    {
      "cell_type": "code",
      "source": [
        "import warnings\n",
        "warnings.filterwarnings(action='ignore')\n",
        "seed = 4\n",
        "splits = 7\n",
        "score = 'r2'\n",
        "models_score =[]\n",
        "for i in est:\n",
        "    kfold = KFold(n_splits=splits)\n",
        "    results = cross_val_score(i[1], x_train, y_train, cv=kfold, scoring=score)\n",
        "    models_score.append({i[0] : '{} +/- {}'.format(results.mean(), results.std())})\n",
        "models_score"
      ],
      "metadata": {
        "colab": {
          "base_uri": "https://localhost:8080/"
        },
        "id": "bc0ZxR2DpEkT",
        "outputId": "6092b60d-84f1-4b5c-c015-dcebf4396646"
      },
      "execution_count": 193,
      "outputs": [
        {
          "output_type": "stream",
          "name": "stdout",
          "text": [
            "[01:34:16] WARNING: /workspace/src/objective/regression_obj.cu:152: reg:linear is now deprecated in favor of reg:squarederror.\n",
            "[01:34:16] WARNING: /workspace/src/objective/regression_obj.cu:152: reg:linear is now deprecated in favor of reg:squarederror.\n",
            "[01:34:16] WARNING: /workspace/src/objective/regression_obj.cu:152: reg:linear is now deprecated in favor of reg:squarederror.\n",
            "[01:34:17] WARNING: /workspace/src/objective/regression_obj.cu:152: reg:linear is now deprecated in favor of reg:squarederror.\n",
            "[01:34:17] WARNING: /workspace/src/objective/regression_obj.cu:152: reg:linear is now deprecated in favor of reg:squarederror.\n",
            "[01:34:17] WARNING: /workspace/src/objective/regression_obj.cu:152: reg:linear is now deprecated in favor of reg:squarederror.\n",
            "[01:34:17] WARNING: /workspace/src/objective/regression_obj.cu:152: reg:linear is now deprecated in favor of reg:squarederror.\n"
          ]
        },
        {
          "output_type": "execute_result",
          "data": {
            "text/plain": [
              "[{'LinearRegression': '0.8174295358589131 +/- 0.011801921556834306'},\n",
              " {'Ridge': '0.7882107324515968 +/- 0.015463210506611327'},\n",
              " {'Lasso': '-0.002494517787612116 +/- 0.0017471282448851316'},\n",
              " {'BayesianRidge': '0.7915648173868729 +/- 0.016680804725796472'},\n",
              " {'ElasticNet': '-0.002494517787612116 +/- 0.0017471282448851316'},\n",
              " {'SGD': '0.742485220746695 +/- 0.018055379830487217'},\n",
              " {'Huber': '0.7893469472997019 +/- 0.015200005695297798'},\n",
              " {'RANSAC': '-467063742474.486 +/- 1144067846419.1626'},\n",
              " {'GradientBoosting': '0.8624245119535628 +/- 0.012136270925683245'},\n",
              " {'AdaBoost': '0.753396574354188 +/- 0.013137977205789233'},\n",
              " {'ExtraTree': '0.8454331881380419 +/- 0.013223733726286938'},\n",
              " {'RandomForest': '0.8528820424417214 +/- 0.012239832986139117'},\n",
              " {'Bagging': '0.8355618134674968 +/- 0.019087543775370856'},\n",
              " {'KNeighbors': '0.7810640538964323 +/- 0.01921035637490533'},\n",
              " {'DecisionTree': '0.7102851165657776 +/- 0.04727490347699343'},\n",
              " {'XGB': '0.8557072011446909 +/- 0.011427178070028878'}]"
            ]
          },
          "metadata": {},
          "execution_count": 193
        }
      ]
    },
    {
      "cell_type": "code",
      "source": [
        "models_score"
      ],
      "metadata": {
        "colab": {
          "base_uri": "https://localhost:8080/"
        },
        "id": "ezeS3GXhqcVE",
        "outputId": "d3bf9fa2-4f36-450c-a532-040936b64bc4"
      },
      "execution_count": 113,
      "outputs": [
        {
          "output_type": "execute_result",
          "data": {
            "text/plain": [
              "[{'LinearRegression': '0.6994129980721644 +/- 0.045487143806341175'},\n",
              " {'Ridge': '0.6994163401803648 +/- 0.045486798476420454'},\n",
              " {'Lasso': '-0.0041070570682880825 +/- 0.0051167251392057606'},\n",
              " {'BayesianRidge': '0.6994271425352465 +/- 0.045476461131668075'},\n",
              " {'ElasticNet': '-0.0041070570682880825 +/- 0.0051167251392057606'},\n",
              " {'SGD': '-16305.584479546307 +/- 22103.832229561966'},\n",
              " {'Huber': '0.6994536313003391 +/- 0.047202261014677595'},\n",
              " {'RANSAC': '-4.362792159236914e+22 +/- 1.0686614643945613e+23'},\n",
              " {'GradientBoosting': '0.7494371417333626 +/- 0.05861597981920896'},\n",
              " {'AdaBoost': '0.507438439499205 +/- 0.03678287596803669'},\n",
              " {'ExtraTree': '0.7188610306065577 +/- 0.057222722155250656'},\n",
              " {'RandomForest': '0.7344620853470657 +/- 0.05238542564800443'},\n",
              " {'Bagging': '0.7129100231378394 +/- 0.05141357126264382'},\n",
              " {'KNeighbors': '0.6462868380351 +/- 0.044585164416836055'},\n",
              " {'DecisionTree': '0.5105299920943119 +/- 0.07560068697369764'},\n",
              " {'XGB': '0.7527757267993823 +/- 0.05565372554553329'}]"
            ]
          },
          "metadata": {},
          "execution_count": 113
        }
      ]
    }
  ]
}